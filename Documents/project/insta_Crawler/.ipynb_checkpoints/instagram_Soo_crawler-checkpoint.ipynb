{
 "cells": [
  {
   "cell_type": "code",
   "execution_count": 2,
   "id": "26ac0afe",
   "metadata": {},
   "outputs": [],
   "source": [
    "import warnings\n",
    "warnings.filterwarnings('ignore')"
   ]
  },
  {
   "cell_type": "code",
   "execution_count": 3,
   "id": "e9102ca0",
   "metadata": {},
   "outputs": [],
   "source": [
    "from selenium import webdriver\n",
    "from bs4 import BeautifulSoup\n",
    "from tqdm import tqdm_notebook\n",
    "\n",
    "import time\n",
    "import pandas as pd\n",
    "import numpy as np"
   ]
  },
  {
   "cell_type": "code",
   "execution_count": 12,
   "id": "e3968f93",
   "metadata": {},
   "outputs": [],
   "source": [
    "#Selenium으로 인스타홈페이지 접속\n",
    "driver_path = \"/Users/adg/Desktop/crawl/driver/chromedriver\"\n",
    "driver = webdriver.Chrome(driver_path)\n",
    "driver.get(\"http://instagram.com\")\n",
    "\n",
    "time.sleep(5)"
   ]
  },
  {
   "cell_type": "code",
   "execution_count": 13,
   "id": "21208337",
   "metadata": {},
   "outputs": [],
   "source": [
    "#인스타 아이디 로그인\n",
    "id_input_temp, pwd_input_temp = tuple(driver.find_elements_by_css_selector('div.gr27e > div.EPjEi > form.HmktE > div > div.-MzZI'))\n",
    "\n",
    "id_input  = id_input_temp.find_element_by_css_selector('div > label')\n",
    "pwd_input = pwd_input_temp.find_element_by_css_selector('div > label')\n",
    "\n",
    "id_input.send_keys('aa_dgii')   # 당신의 인스타아이디를 입력하세요\n",
    "pwd_input.send_keys('a134679852!')       # 당신의 인스타비밀번호를 입력하세요\n",
    "\n",
    "pwd_input.submit()\n",
    "\n",
    "time.sleep(5)"
   ]
  },
  {
   "cell_type": "code",
   "execution_count": 14,
   "id": "6853806b",
   "metadata": {},
   "outputs": [],
   "source": [
    "# 셀럽아이디입력\n",
    "# 우왁굳, 괴물쥐123, 서새봄냥, 강지, 김블루, 오킹, 견자희, 김재원_, 앰비션_, berry0314\n",
    "# 머독, 미라지, 태준이, 개리형, 군림보, 실프_, 악어, Charming_Jo, 수련수련, 공혁준, 양띵\n",
    "celeb_list = ['instawakgood', 'ji_hwanzzang', 'bloomsebom', 'gangg1115',\n",
    "             'kimblue_37', 'oking1025', 'ruswkgml', 'kimjaewon1998',\n",
    "             'ambition921027', 'berry_is_blooming', 'angry_boy_man', 'baejungmin720',\n",
    "             'ma.vub.sa', '_gary_bro', 'rnsflaqh_', 'hidenoriz_',\n",
    "             'acau1197', 'jangwoo_jo', 'soo_flower', 'yd0821', 'rhdgurwns2']\n",
    "\n",
    "find_id = driver.find_element_by_css_selector('#react-root > section > nav > div._8MQSO.Cx7Bp > div > div > div.QY4Ed.P0xOK > input')\n",
    "find_id.send_keys('soo_flower')  # 크롤링 하고자하는 유명인의 \"인스타 아이디\"를 입력해주세요\n",
    "time.sleep(5)\n",
    "\n",
    "# 셀럽아이디입력하고 홈페이지 띄우기\n",
    "for_click = driver.find_element_by_css_selector('#react-root > section > nav > div._8MQSO.Cx7Bp > div > div > div.QY4Ed.P0xOK > div.yPP5B > div > div._01UL2 > div > div:nth-child(1) > a')\n",
    "for_click.click()\n",
    "time.sleep(5)"
   ]
  },
  {
   "cell_type": "code",
   "execution_count": 16,
   "id": "5940ee5d",
   "metadata": {},
   "outputs": [
    {
     "data": {
      "application/vnd.jupyter.widget-view+json": {
       "model_id": "0d743102c70a4431af61d5d729b49e83",
       "version_major": 2,
       "version_minor": 0
      },
      "text/plain": [
       "  0%|          | 0/8 [00:00<?, ?it/s]"
      ]
     },
     "metadata": {},
     "output_type": "display_data"
    },
    {
     "data": {
      "application/vnd.jupyter.widget-view+json": {
       "model_id": "5574df270eba40dfbf7f581f01cf304e",
       "version_major": 2,
       "version_minor": 0
      },
      "text/plain": [
       "  0%|          | 0/3 [00:00<?, ?it/s]"
      ]
     },
     "metadata": {},
     "output_type": "display_data"
    },
    {
     "name": "stdout",
     "output_type": "stream",
     "text": [
      "댓글 페이지를 최대로 확장하였습니다\n",
      "현재까지 긁어온 댓글의 수 : 0\n",
      "댓글 페이지를 최대로 확장하였습니다\n",
      "현재까지 긁어온 댓글의 수 : 0\n",
      "댓글 페이지를 최대로 확장하였습니다\n",
      "현재까지 긁어온 댓글의 수 : 0\n"
     ]
    },
    {
     "data": {
      "application/vnd.jupyter.widget-view+json": {
       "model_id": "6f7624a36391459bba28a8ddbaab1b94",
       "version_major": 2,
       "version_minor": 0
      },
      "text/plain": [
       "  0%|          | 0/3 [00:00<?, ?it/s]"
      ]
     },
     "metadata": {},
     "output_type": "display_data"
    },
    {
     "name": "stdout",
     "output_type": "stream",
     "text": [
      "댓글 페이지를 최대로 확장하였습니다\n",
      "현재까지 긁어온 댓글의 수 : 0\n",
      "댓글 페이지를 최대로 확장하였습니다\n",
      "현재까지 긁어온 댓글의 수 : 0\n",
      "댓글 페이지를 최대로 확장하였습니다\n",
      "현재까지 긁어온 댓글의 수 : 0\n"
     ]
    },
    {
     "data": {
      "application/vnd.jupyter.widget-view+json": {
       "model_id": "d266ca0bdacf48d5bb680ed3c18748a0",
       "version_major": 2,
       "version_minor": 0
      },
      "text/plain": [
       "  0%|          | 0/3 [00:00<?, ?it/s]"
      ]
     },
     "metadata": {},
     "output_type": "display_data"
    },
    {
     "name": "stdout",
     "output_type": "stream",
     "text": [
      "댓글 페이지를 최대로 확장하였습니다\n",
      "현재까지 긁어온 댓글의 수 : 0\n",
      "댓글 페이지를 최대로 확장하였습니다\n",
      "현재까지 긁어온 댓글의 수 : 0\n",
      "댓글 페이지를 최대로 확장하였습니다\n",
      "현재까지 긁어온 댓글의 수 : 0\n"
     ]
    },
    {
     "data": {
      "application/vnd.jupyter.widget-view+json": {
       "model_id": "a3f94cc0bb114c54b24688bf067ef683",
       "version_major": 2,
       "version_minor": 0
      },
      "text/plain": [
       "  0%|          | 0/3 [00:00<?, ?it/s]"
      ]
     },
     "metadata": {},
     "output_type": "display_data"
    },
    {
     "name": "stdout",
     "output_type": "stream",
     "text": [
      "댓글 페이지를 최대로 확장하였습니다\n",
      "현재까지 긁어온 댓글의 수 : 0\n",
      "댓글 페이지를 최대로 확장하였습니다\n",
      "현재까지 긁어온 댓글의 수 : 0\n",
      "댓글 페이지를 최대로 확장하였습니다\n",
      "현재까지 긁어온 댓글의 수 : 0\n"
     ]
    },
    {
     "data": {
      "application/vnd.jupyter.widget-view+json": {
       "model_id": "3013e57a47df458d89651673b46f69c7",
       "version_major": 2,
       "version_minor": 0
      },
      "text/plain": [
       "  0%|          | 0/3 [00:00<?, ?it/s]"
      ]
     },
     "metadata": {},
     "output_type": "display_data"
    },
    {
     "name": "stdout",
     "output_type": "stream",
     "text": [
      "댓글 페이지를 최대로 확장하였습니다\n",
      "현재까지 긁어온 댓글의 수 : 0\n",
      "댓글 페이지를 최대로 확장하였습니다\n",
      "현재까지 긁어온 댓글의 수 : 0\n",
      "댓글 페이지를 최대로 확장하였습니다\n",
      "현재까지 긁어온 댓글의 수 : 0\n"
     ]
    },
    {
     "data": {
      "application/vnd.jupyter.widget-view+json": {
       "model_id": "d68d8c8c59ed455385d4379bd78fa27c",
       "version_major": 2,
       "version_minor": 0
      },
      "text/plain": [
       "  0%|          | 0/3 [00:00<?, ?it/s]"
      ]
     },
     "metadata": {},
     "output_type": "display_data"
    },
    {
     "name": "stdout",
     "output_type": "stream",
     "text": [
      "댓글 페이지를 최대로 확장하였습니다\n",
      "현재까지 긁어온 댓글의 수 : 0\n",
      "댓글 페이지를 최대로 확장하였습니다\n",
      "현재까지 긁어온 댓글의 수 : 0\n",
      "댓글 페이지를 최대로 확장하였습니다\n",
      "현재까지 긁어온 댓글의 수 : 0\n"
     ]
    },
    {
     "data": {
      "application/vnd.jupyter.widget-view+json": {
       "model_id": "a66007bf5aaa40b2b07b7efffb5b2523",
       "version_major": 2,
       "version_minor": 0
      },
      "text/plain": [
       "  0%|          | 0/3 [00:00<?, ?it/s]"
      ]
     },
     "metadata": {},
     "output_type": "display_data"
    },
    {
     "name": "stdout",
     "output_type": "stream",
     "text": [
      "댓글 페이지를 최대로 확장하였습니다\n",
      "현재까지 긁어온 댓글의 수 : 0\n",
      "댓글 페이지를 최대로 확장하였습니다\n",
      "현재까지 긁어온 댓글의 수 : 0\n",
      "댓글 페이지를 최대로 확장하였습니다\n",
      "현재까지 긁어온 댓글의 수 : 0\n"
     ]
    },
    {
     "data": {
      "application/vnd.jupyter.widget-view+json": {
       "model_id": "d04733d4d9734b1d805ead5bc513588d",
       "version_major": 2,
       "version_minor": 0
      },
      "text/plain": [
       "  0%|          | 0/3 [00:00<?, ?it/s]"
      ]
     },
     "metadata": {},
     "output_type": "display_data"
    },
    {
     "name": "stdout",
     "output_type": "stream",
     "text": [
      "댓글 페이지를 최대로 확장하였습니다\n",
      "현재까지 긁어온 댓글의 수 : 0\n",
      "댓글 페이지를 최대로 확장하였습니다\n",
      "현재까지 긁어온 댓글의 수 : 0\n",
      "댓글 페이지를 최대로 확장하였습니다\n",
      "현재까지 긁어온 댓글의 수 : 0\n"
     ]
    }
   ],
   "source": [
    "\n",
    "insta_list = driver.find_element_by_css_selector('body > div > section._9eogI > main.SCxLW > div > div._2z6nI > article.ySN3v > div > div')\n",
    "big_list = insta_list.find_elements_by_css_selector('div.Nnq7C')\n",
    "\n",
    "comment_list = []\n",
    "\n",
    "for small_list in tqdm_notebook(big_list):\n",
    "    for_click_list = small_list.find_elements_by_css_selector('div.v1Nh3 > a')\n",
    "    \n",
    "    for element in tqdm_notebook(for_click_list):\n",
    "        \n",
    "        # 개시물 오픈\n",
    "        element.send_keys('\\n')\n",
    "        time.sleep(5)\n",
    "        \n",
    "        # 댓글란 최대한 열기\n",
    "        while 1:\n",
    "            try:\n",
    "                expansion_comment = driver.find_element_by_css_selector('button.wp06b')\n",
    "                expansion_comment.send_keys('\\n')\n",
    "                time.sleep(3)\n",
    "            except :\n",
    "                print('댓글 페이지를 최대로 확장하였습니다')\n",
    "                break\n",
    "        \n",
    "        \n",
    "        # 게시글 크롤링\n",
    "        comment_body_list = driver.find_elements_by_css_selector('body > div.RnEpo._Yhr4 > div.pbNvD.QZZGH.bW6vo > div > article > div > div.HP0qD > div > div > div.eo2As > div.EtaWk > ul.XQXOT > ul.Mr508')\n",
    "        for comment_body in comment_body_list:\n",
    "            comment = comment_body.find_element_by_css_selector('div > li > div > div.C7I1f > div.C4VMK > span')\n",
    "            time.sleep(1.5)\n",
    "            comment_list.append(comment.text)\n",
    "        print('현재까지 긁어온 댓글의 수 :', len(comment_list))\n",
    "        \n",
    "        \n",
    "        # 게시물 닫기\n",
    "        close_bnt = driver.find_element_by_css_selector('body > div.RnEpo._Yhr4 > div.NOTWr > button')\n",
    "        close_bnt.send_keys('\\n')\n",
    "        \n",
    "    time.sleep(5)"
   ]
  },
  {
   "cell_type": "code",
   "execution_count": null,
   "id": "bf74c7e0",
   "metadata": {},
   "outputs": [],
   "source": [
    "data = pd.DataFrame({'댓글' : comment_list})\n",
    "    \n",
    "data.head()"
   ]
  },
  {
   "cell_type": "code",
   "execution_count": null,
   "id": "c2e0b3ba",
   "metadata": {},
   "outputs": [],
   "source": [
    "data.to_csv('Sunba.csv', encoding='utf-8-sig')"
   ]
  },
  {
   "cell_type": "code",
   "execution_count": null,
   "id": "7c083390",
   "metadata": {},
   "outputs": [],
   "source": []
  }
 ],
 "metadata": {
  "kernelspec": {
   "display_name": "Python 3 (ipykernel)",
   "language": "python",
   "name": "python3"
  },
  "language_info": {
   "codemirror_mode": {
    "name": "ipython",
    "version": 3
   },
   "file_extension": ".py",
   "mimetype": "text/x-python",
   "name": "python",
   "nbconvert_exporter": "python",
   "pygments_lexer": "ipython3",
   "version": "3.9.6"
  }
 },
 "nbformat": 4,
 "nbformat_minor": 5
}
