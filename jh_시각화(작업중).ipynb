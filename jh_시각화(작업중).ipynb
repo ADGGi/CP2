{
  "nbformat": 4,
  "nbformat_minor": 0,
  "metadata": {
    "colab": {
      "name": "jh_시각화(작업중).ipynb",
      "provenance": [],
      "collapsed_sections": [
        "9LyRn8Q-qTJk",
        "dTztavdlMi68",
        "OIjrC0n_pQjD",
        "rVgQBOBfV4V9",
        "6YRYRcMKlFjw",
        "gjA4_P44lS4r"
      ],
      "authorship_tag": "ABX9TyNrtg7vmpaRJguk99C5JXiL",
      "include_colab_link": true
    },
    "kernelspec": {
      "name": "python3",
      "display_name": "Python 3"
    },
    "language_info": {
      "name": "python"
    }
  },
  "cells": [
    {
      "cell_type": "markdown",
      "metadata": {
        "id": "view-in-github",
        "colab_type": "text"
      },
      "source": [
        "<a href=\"https://colab.research.google.com/github/zzhenxi/CP2/blob/main/jh_%EC%8B%9C%EA%B0%81%ED%99%94(%EC%9E%91%EC%97%85%EC%A4%91).ipynb\" target=\"_parent\"><img src=\"https://colab.research.google.com/assets/colab-badge.svg\" alt=\"Open In Colab\"/></a>"
      ]
    },
    {
      "cell_type": "markdown",
      "source": [
        "# 작업 목록 \n",
        "\n",
        "1.  **셀럽이 어떻게 활동해야 팬들이 좋아하는지 분석**\n",
        "    - 상위 n퍼센트에 속하는 셀럽에 대한 분석과 시각화 자료\n",
        "        \n",
        "        `그래프로 (직관적으로) 보여주는 것에 중점`\n",
        "        \n",
        "        - 셀럽이 먼저 대화를 시작한 경우 비율 (날짜별로)\n",
        "        - 셀럽의 태도에 따른 시간의 흐름에 따른 긍정도 변화의 시각화\n",
        "        - 시간의 흐름에 따른 셀럽의 말에 대한 팬의 응답률\n",
        "            \n",
        "            → 이렇게 했더니 팬의 응답률이 올라갔다고 제시하기 위함\n",
        "            \n",
        "        - 시간의 흐름에 따른 긍정도 변화 선그래프\n",
        "            \n",
        "             → 이렇게 했더니 팬의 긍정도가 올라갔다고 제시하기 위함\n",
        "\n",
        "- 아쉬운 부분 : 🥺 표시"
      ],
      "metadata": {
        "id": "uAKD69QDLolG"
      }
    },
    {
      "cell_type": "markdown",
      "source": [
        "## 한국어 폰트 설치 등"
      ],
      "metadata": {
        "id": "9LyRn8Q-qTJk"
      }
    },
    {
      "cell_type": "code",
      "source": [
        "!sudo apt-get install -y fonts-nanum\n",
        "!sudo fc-cache -fv\n",
        "!rm ~/.cache/matplotlib -rf"
      ],
      "metadata": {
        "colab": {
          "base_uri": "https://localhost:8080/"
        },
        "id": "A15Jtgq7qWJ3",
        "outputId": "86ebb424-ada1-4a23-d3f5-d6e289ccad59"
      },
      "execution_count": 1,
      "outputs": [
        {
          "output_type": "stream",
          "name": "stdout",
          "text": [
            "Reading package lists... Done\n",
            "Building dependency tree       \n",
            "Reading state information... Done\n",
            "fonts-nanum is already the newest version (20170925-1).\n",
            "0 upgraded, 0 newly installed, 0 to remove and 37 not upgraded.\n",
            "/usr/share/fonts: caching, new cache contents: 0 fonts, 1 dirs\n",
            "/usr/share/fonts/truetype: caching, new cache contents: 0 fonts, 3 dirs\n",
            "/usr/share/fonts/truetype/humor-sans: caching, new cache contents: 1 fonts, 0 dirs\n",
            "/usr/share/fonts/truetype/liberation: caching, new cache contents: 16 fonts, 0 dirs\n",
            "/usr/share/fonts/truetype/nanum: caching, new cache contents: 10 fonts, 0 dirs\n",
            "/usr/local/share/fonts: caching, new cache contents: 0 fonts, 0 dirs\n",
            "/root/.local/share/fonts: skipping, no such directory\n",
            "/root/.fonts: skipping, no such directory\n",
            "/var/cache/fontconfig: cleaning cache directory\n",
            "/root/.cache/fontconfig: not cleaning non-existent cache directory\n",
            "/root/.fontconfig: not cleaning non-existent cache directory\n",
            "fc-cache: succeeded\n"
          ]
        }
      ]
    },
    {
      "cell_type": "markdown",
      "source": [
        "## 데이터 가져오기\n",
        "- data : 모든 데이터 목록"
      ],
      "metadata": {
        "id": "dTztavdlMi68"
      }
    },
    {
      "cell_type": "code",
      "execution_count": 2,
      "metadata": {
        "id": "S6B0uVdOLd79"
      },
      "outputs": [],
      "source": [
        "import pandas as pd \n",
        "import numpy as np\n",
        "import matplotlib as plt"
      ]
    },
    {
      "cell_type": "code",
      "source": [
        "#구글드라이브 연동\n",
        "from google.colab import drive\n",
        "drive.mount('/content/drive')"
      ],
      "metadata": {
        "colab": {
          "base_uri": "https://localhost:8080/"
        },
        "id": "s-5gLI35libM",
        "outputId": "40fe25d4-4e8a-445c-f996-48b49782a8ec"
      },
      "execution_count": 3,
      "outputs": [
        {
          "output_type": "stream",
          "name": "stdout",
          "text": [
            "Drive already mounted at /content/drive; to attempt to forcibly remount, call drive.mount(\"/content/drive\", force_remount=True).\n"
          ]
        }
      ]
    },
    {
      "cell_type": "code",
      "source": [
        "data = pd.read_csv(\"/content/drive/MyDrive/AIB_PJ2/dataset/[jh]cleaned_data_new.csv\", keep_default_na=False)"
      ],
      "metadata": {
        "id": "rA-klGsmlixB"
      },
      "execution_count": 4,
      "outputs": []
    },
    {
      "cell_type": "code",
      "source": [
        "data"
      ],
      "metadata": {
        "colab": {
          "base_uri": "https://localhost:8080/",
          "height": 0
        },
        "id": "DtWrz6wLl9uW",
        "outputId": "3b3202dd-ea3c-4950-85a9-0f40c65d873d"
      },
      "execution_count": 5,
      "outputs": [
        {
          "output_type": "execute_result",
          "data": {
            "text/html": [
              "\n",
              "  <div id=\"df-08708454-442d-412b-ba0a-8fe9dc4fb5e9\">\n",
              "    <div class=\"colab-df-container\">\n",
              "      <div>\n",
              "<style scoped>\n",
              "    .dataframe tbody tr th:only-of-type {\n",
              "        vertical-align: middle;\n",
              "    }\n",
              "\n",
              "    .dataframe tbody tr th {\n",
              "        vertical-align: top;\n",
              "    }\n",
              "\n",
              "    .dataframe thead th {\n",
              "        text-align: right;\n",
              "    }\n",
              "</style>\n",
              "<table border=\"1\" class=\"dataframe\">\n",
              "  <thead>\n",
              "    <tr style=\"text-align: right;\">\n",
              "      <th></th>\n",
              "      <th>Unnamed: 0</th>\n",
              "      <th>date</th>\n",
              "      <th>time</th>\n",
              "      <th>celeb</th>\n",
              "      <th>code</th>\n",
              "      <th>comments</th>\n",
              "      <th>file</th>\n",
              "    </tr>\n",
              "  </thead>\n",
              "  <tbody>\n",
              "    <tr>\n",
              "      <th>0</th>\n",
              "      <td>1</td>\n",
              "      <td>2021-07-12</td>\n",
              "      <td>20:39</td>\n",
              "      <td>VAYA</td>\n",
              "      <td>KAMF</td>\n",
              "      <td>님이 참여했습니다.</td>\n",
              "      <td></td>\n",
              "    </tr>\n",
              "    <tr>\n",
              "      <th>1</th>\n",
              "      <td>2</td>\n",
              "      <td>2021-07-12</td>\n",
              "      <td>20:40</td>\n",
              "      <td>VAYA</td>\n",
              "      <td>KAMF</td>\n",
              "      <td>사랑해요🖤</td>\n",
              "      <td></td>\n",
              "    </tr>\n",
              "    <tr>\n",
              "      <th>2</th>\n",
              "      <td>3</td>\n",
              "      <td>2021-07-12</td>\n",
              "      <td>20:40</td>\n",
              "      <td>VAYA</td>\n",
              "      <td>MLSC</td>\n",
              "      <td>님이 참여했습니다.</td>\n",
              "      <td></td>\n",
              "    </tr>\n",
              "    <tr>\n",
              "      <th>3</th>\n",
              "      <td>4</td>\n",
              "      <td>2021-07-12</td>\n",
              "      <td>20:41</td>\n",
              "      <td>VAYA</td>\n",
              "      <td>ZSOS</td>\n",
              "      <td>님이 참여했습니다.</td>\n",
              "      <td></td>\n",
              "    </tr>\n",
              "    <tr>\n",
              "      <th>4</th>\n",
              "      <td>5</td>\n",
              "      <td>2021-07-12</td>\n",
              "      <td>20:41</td>\n",
              "      <td>VAYA</td>\n",
              "      <td>MLSC</td>\n",
              "      <td>단톡 전용 인스타 대체일지... 자려고했는데 파들..</td>\n",
              "      <td></td>\n",
              "    </tr>\n",
              "    <tr>\n",
              "      <th>...</th>\n",
              "      <td>...</td>\n",
              "      <td>...</td>\n",
              "      <td>...</td>\n",
              "      <td>...</td>\n",
              "      <td>...</td>\n",
              "      <td>...</td>\n",
              "      <td>...</td>\n",
              "    </tr>\n",
              "    <tr>\n",
              "      <th>10292</th>\n",
              "      <td>10634</td>\n",
              "      <td>2021-08-18</td>\n",
              "      <td>08:56</td>\n",
              "      <td>JOPU</td>\n",
              "      <td>BYZG</td>\n",
              "      <td>ㅎㅎ 오늘도 비가 주륵주륵~ 벼보리님 우산 잘 쓰고 다니셔요 !</td>\n",
              "      <td></td>\n",
              "    </tr>\n",
              "    <tr>\n",
              "      <th>10293</th>\n",
              "      <td>10635</td>\n",
              "      <td>2021-08-18</td>\n",
              "      <td>17:38</td>\n",
              "      <td>JOPU</td>\n",
              "      <td>JOPU</td>\n",
              "      <td>Operator오늘은 ~ 수요일 ~ 스팀겜 하는 날~ 일주일의 절반이 벌써 다가왔네...</td>\n",
              "      <td></td>\n",
              "    </tr>\n",
              "    <tr>\n",
              "      <th>10294</th>\n",
              "      <td>10636</td>\n",
              "      <td>2021-08-18</td>\n",
              "      <td>18:03</td>\n",
              "      <td>JOPU</td>\n",
              "      <td>CCAA</td>\n",
              "      <td>재밌는시간 보내셨겠네요 ㅎㅎ\\n저는 학교갔는데 생각했던것보단 정겹고 좋네요 은근 ㅎ...</td>\n",
              "      <td></td>\n",
              "    </tr>\n",
              "    <tr>\n",
              "      <th>10295</th>\n",
              "      <td>10637</td>\n",
              "      <td>2021-08-18</td>\n",
              "      <td>18:15</td>\n",
              "      <td>JOPU</td>\n",
              "      <td>ZWYM</td>\n",
              "      <td>보리쟝이무화과를 먹었으니  저는 복숭아를 먹겠읍니다 후후\\n푹 쉬고 7시에 방송에서...</td>\n",
              "      <td></td>\n",
              "    </tr>\n",
              "    <tr>\n",
              "      <th>10296</th>\n",
              "      <td>10639</td>\n",
              "      <td>2021-08-19</td>\n",
              "      <td>02:43</td>\n",
              "      <td>JOPU</td>\n",
              "      <td>CCAA</td>\n",
              "      <td>오늘 엄청 열심히하셨네요 ㅎㅎ\\n미성콘테스트 재밌게 놀다오셔요~\\n그리고 거기서 너...</td>\n",
              "      <td></td>\n",
              "    </tr>\n",
              "  </tbody>\n",
              "</table>\n",
              "<p>10297 rows × 7 columns</p>\n",
              "</div>\n",
              "      <button class=\"colab-df-convert\" onclick=\"convertToInteractive('df-08708454-442d-412b-ba0a-8fe9dc4fb5e9')\"\n",
              "              title=\"Convert this dataframe to an interactive table.\"\n",
              "              style=\"display:none;\">\n",
              "        \n",
              "  <svg xmlns=\"http://www.w3.org/2000/svg\" height=\"24px\"viewBox=\"0 0 24 24\"\n",
              "       width=\"24px\">\n",
              "    <path d=\"M0 0h24v24H0V0z\" fill=\"none\"/>\n",
              "    <path d=\"M18.56 5.44l.94 2.06.94-2.06 2.06-.94-2.06-.94-.94-2.06-.94 2.06-2.06.94zm-11 1L8.5 8.5l.94-2.06 2.06-.94-2.06-.94L8.5 2.5l-.94 2.06-2.06.94zm10 10l.94 2.06.94-2.06 2.06-.94-2.06-.94-.94-2.06-.94 2.06-2.06.94z\"/><path d=\"M17.41 7.96l-1.37-1.37c-.4-.4-.92-.59-1.43-.59-.52 0-1.04.2-1.43.59L10.3 9.45l-7.72 7.72c-.78.78-.78 2.05 0 2.83L4 21.41c.39.39.9.59 1.41.59.51 0 1.02-.2 1.41-.59l7.78-7.78 2.81-2.81c.8-.78.8-2.07 0-2.86zM5.41 20L4 18.59l7.72-7.72 1.47 1.35L5.41 20z\"/>\n",
              "  </svg>\n",
              "      </button>\n",
              "      \n",
              "  <style>\n",
              "    .colab-df-container {\n",
              "      display:flex;\n",
              "      flex-wrap:wrap;\n",
              "      gap: 12px;\n",
              "    }\n",
              "\n",
              "    .colab-df-convert {\n",
              "      background-color: #E8F0FE;\n",
              "      border: none;\n",
              "      border-radius: 50%;\n",
              "      cursor: pointer;\n",
              "      display: none;\n",
              "      fill: #1967D2;\n",
              "      height: 32px;\n",
              "      padding: 0 0 0 0;\n",
              "      width: 32px;\n",
              "    }\n",
              "\n",
              "    .colab-df-convert:hover {\n",
              "      background-color: #E2EBFA;\n",
              "      box-shadow: 0px 1px 2px rgba(60, 64, 67, 0.3), 0px 1px 3px 1px rgba(60, 64, 67, 0.15);\n",
              "      fill: #174EA6;\n",
              "    }\n",
              "\n",
              "    [theme=dark] .colab-df-convert {\n",
              "      background-color: #3B4455;\n",
              "      fill: #D2E3FC;\n",
              "    }\n",
              "\n",
              "    [theme=dark] .colab-df-convert:hover {\n",
              "      background-color: #434B5C;\n",
              "      box-shadow: 0px 1px 3px 1px rgba(0, 0, 0, 0.15);\n",
              "      filter: drop-shadow(0px 1px 2px rgba(0, 0, 0, 0.3));\n",
              "      fill: #FFFFFF;\n",
              "    }\n",
              "  </style>\n",
              "\n",
              "      <script>\n",
              "        const buttonEl =\n",
              "          document.querySelector('#df-08708454-442d-412b-ba0a-8fe9dc4fb5e9 button.colab-df-convert');\n",
              "        buttonEl.style.display =\n",
              "          google.colab.kernel.accessAllowed ? 'block' : 'none';\n",
              "\n",
              "        async function convertToInteractive(key) {\n",
              "          const element = document.querySelector('#df-08708454-442d-412b-ba0a-8fe9dc4fb5e9');\n",
              "          const dataTable =\n",
              "            await google.colab.kernel.invokeFunction('convertToInteractive',\n",
              "                                                     [key], {});\n",
              "          if (!dataTable) return;\n",
              "\n",
              "          const docLinkHtml = 'Like what you see? Visit the ' +\n",
              "            '<a target=\"_blank\" href=https://colab.research.google.com/notebooks/data_table.ipynb>data table notebook</a>'\n",
              "            + ' to learn more about interactive tables.';\n",
              "          element.innerHTML = '';\n",
              "          dataTable['output_type'] = 'display_data';\n",
              "          await google.colab.output.renderOutput(dataTable, element);\n",
              "          const docLink = document.createElement('div');\n",
              "          docLink.innerHTML = docLinkHtml;\n",
              "          element.appendChild(docLink);\n",
              "        }\n",
              "      </script>\n",
              "    </div>\n",
              "  </div>\n",
              "  "
            ],
            "text/plain": [
              "       Unnamed: 0  ... file\n",
              "0               1  ...     \n",
              "1               2  ...     \n",
              "2               3  ...     \n",
              "3               4  ...     \n",
              "4               5  ...     \n",
              "...           ...  ...  ...\n",
              "10292       10634  ...     \n",
              "10293       10635  ...     \n",
              "10294       10636  ...     \n",
              "10295       10637  ...     \n",
              "10296       10639  ...     \n",
              "\n",
              "[10297 rows x 7 columns]"
            ]
          },
          "metadata": {},
          "execution_count": 5
        }
      ]
    },
    {
      "cell_type": "code",
      "source": [
        "data_info = pd.read_excel(\"/content/drive/MyDrive/AIB_PJ2/dataset/계정 정보 및 설문조사.xlsx\", sheet_name=\"계정 정보\", keep_default_na=False)"
      ],
      "metadata": {
        "id": "15MDIVmVnP5r"
      },
      "execution_count": 6,
      "outputs": []
    },
    {
      "cell_type": "code",
      "source": [
        "data_surv = pd.read_excel(\"/content/drive/MyDrive/AIB_PJ2/dataset/계정 정보 및 설문조사.xlsx\", sheet_name=\"설문조사\", keep_default_na=False)"
      ],
      "metadata": {
        "id": "unWWphmAo2Je"
      },
      "execution_count": 7,
      "outputs": []
    },
    {
      "cell_type": "markdown",
      "source": [
        "## 데이터 전처리 "
      ],
      "metadata": {
        "id": "OIjrC0n_pQjD"
      }
    },
    {
      "cell_type": "markdown",
      "source": [
        "### data_info   \n",
        "- data_info -> celeb_li, user_li"
      ],
      "metadata": {
        "id": "jepcHQ1-pi9C"
      }
    },
    {
      "cell_type": "code",
      "source": [
        "data_info"
      ],
      "metadata": {
        "colab": {
          "base_uri": "https://localhost:8080/",
          "height": 0
        },
        "id": "YQANLNAypVd1",
        "outputId": "b7377fd6-feb1-4123-db44-75425a13da72"
      },
      "execution_count": 8,
      "outputs": [
        {
          "output_type": "execute_result",
          "data": {
            "text/html": [
              "\n",
              "  <div id=\"df-dbc37b30-50fb-4f07-9165-08e532dd7c2d\">\n",
              "    <div class=\"colab-df-container\">\n",
              "      <div>\n",
              "<style scoped>\n",
              "    .dataframe tbody tr th:only-of-type {\n",
              "        vertical-align: middle;\n",
              "    }\n",
              "\n",
              "    .dataframe tbody tr th {\n",
              "        vertical-align: top;\n",
              "    }\n",
              "\n",
              "    .dataframe thead th {\n",
              "        text-align: right;\n",
              "    }\n",
              "</style>\n",
              "<table border=\"1\" class=\"dataframe\">\n",
              "  <thead>\n",
              "    <tr style=\"text-align: right;\">\n",
              "      <th></th>\n",
              "      <th>셀럽 계정</th>\n",
              "      <th>테스트 계정</th>\n",
              "    </tr>\n",
              "  </thead>\n",
              "  <tbody>\n",
              "    <tr>\n",
              "      <th>0</th>\n",
              "      <td>VAYA</td>\n",
              "      <td>BYZG</td>\n",
              "    </tr>\n",
              "    <tr>\n",
              "      <th>1</th>\n",
              "      <td>WKDG</td>\n",
              "      <td>XPBD</td>\n",
              "    </tr>\n",
              "    <tr>\n",
              "      <th>2</th>\n",
              "      <td>XMSQ</td>\n",
              "      <td>YQVX</td>\n",
              "    </tr>\n",
              "    <tr>\n",
              "      <th>3</th>\n",
              "      <td>CJSL</td>\n",
              "      <td>YSUL</td>\n",
              "    </tr>\n",
              "    <tr>\n",
              "      <th>4</th>\n",
              "      <td>DQZB</td>\n",
              "      <td>RLGI</td>\n",
              "    </tr>\n",
              "    <tr>\n",
              "      <th>5</th>\n",
              "      <td>JLDN</td>\n",
              "      <td>QOGI</td>\n",
              "    </tr>\n",
              "    <tr>\n",
              "      <th>6</th>\n",
              "      <td>OSQR</td>\n",
              "      <td>IYWE</td>\n",
              "    </tr>\n",
              "    <tr>\n",
              "      <th>7</th>\n",
              "      <td>JSEU</td>\n",
              "      <td>MDYT</td>\n",
              "    </tr>\n",
              "    <tr>\n",
              "      <th>8</th>\n",
              "      <td>LOVM</td>\n",
              "      <td>SLYG</td>\n",
              "    </tr>\n",
              "    <tr>\n",
              "      <th>9</th>\n",
              "      <td>JOPU</td>\n",
              "      <td>SNLX</td>\n",
              "    </tr>\n",
              "    <tr>\n",
              "      <th>10</th>\n",
              "      <td></td>\n",
              "      <td>CNIZ</td>\n",
              "    </tr>\n",
              "    <tr>\n",
              "      <th>11</th>\n",
              "      <td></td>\n",
              "      <td>XXXJ</td>\n",
              "    </tr>\n",
              "    <tr>\n",
              "      <th>12</th>\n",
              "      <td></td>\n",
              "      <td>RCXT</td>\n",
              "    </tr>\n",
              "    <tr>\n",
              "      <th>13</th>\n",
              "      <td></td>\n",
              "      <td>NHUZ</td>\n",
              "    </tr>\n",
              "    <tr>\n",
              "      <th>14</th>\n",
              "      <td></td>\n",
              "      <td>BPQW</td>\n",
              "    </tr>\n",
              "    <tr>\n",
              "      <th>15</th>\n",
              "      <td></td>\n",
              "      <td>ENSD</td>\n",
              "    </tr>\n",
              "    <tr>\n",
              "      <th>16</th>\n",
              "      <td></td>\n",
              "      <td>SVPF</td>\n",
              "    </tr>\n",
              "    <tr>\n",
              "      <th>17</th>\n",
              "      <td></td>\n",
              "      <td>XNYQ</td>\n",
              "    </tr>\n",
              "  </tbody>\n",
              "</table>\n",
              "</div>\n",
              "      <button class=\"colab-df-convert\" onclick=\"convertToInteractive('df-dbc37b30-50fb-4f07-9165-08e532dd7c2d')\"\n",
              "              title=\"Convert this dataframe to an interactive table.\"\n",
              "              style=\"display:none;\">\n",
              "        \n",
              "  <svg xmlns=\"http://www.w3.org/2000/svg\" height=\"24px\"viewBox=\"0 0 24 24\"\n",
              "       width=\"24px\">\n",
              "    <path d=\"M0 0h24v24H0V0z\" fill=\"none\"/>\n",
              "    <path d=\"M18.56 5.44l.94 2.06.94-2.06 2.06-.94-2.06-.94-.94-2.06-.94 2.06-2.06.94zm-11 1L8.5 8.5l.94-2.06 2.06-.94-2.06-.94L8.5 2.5l-.94 2.06-2.06.94zm10 10l.94 2.06.94-2.06 2.06-.94-2.06-.94-.94-2.06-.94 2.06-2.06.94z\"/><path d=\"M17.41 7.96l-1.37-1.37c-.4-.4-.92-.59-1.43-.59-.52 0-1.04.2-1.43.59L10.3 9.45l-7.72 7.72c-.78.78-.78 2.05 0 2.83L4 21.41c.39.39.9.59 1.41.59.51 0 1.02-.2 1.41-.59l7.78-7.78 2.81-2.81c.8-.78.8-2.07 0-2.86zM5.41 20L4 18.59l7.72-7.72 1.47 1.35L5.41 20z\"/>\n",
              "  </svg>\n",
              "      </button>\n",
              "      \n",
              "  <style>\n",
              "    .colab-df-container {\n",
              "      display:flex;\n",
              "      flex-wrap:wrap;\n",
              "      gap: 12px;\n",
              "    }\n",
              "\n",
              "    .colab-df-convert {\n",
              "      background-color: #E8F0FE;\n",
              "      border: none;\n",
              "      border-radius: 50%;\n",
              "      cursor: pointer;\n",
              "      display: none;\n",
              "      fill: #1967D2;\n",
              "      height: 32px;\n",
              "      padding: 0 0 0 0;\n",
              "      width: 32px;\n",
              "    }\n",
              "\n",
              "    .colab-df-convert:hover {\n",
              "      background-color: #E2EBFA;\n",
              "      box-shadow: 0px 1px 2px rgba(60, 64, 67, 0.3), 0px 1px 3px 1px rgba(60, 64, 67, 0.15);\n",
              "      fill: #174EA6;\n",
              "    }\n",
              "\n",
              "    [theme=dark] .colab-df-convert {\n",
              "      background-color: #3B4455;\n",
              "      fill: #D2E3FC;\n",
              "    }\n",
              "\n",
              "    [theme=dark] .colab-df-convert:hover {\n",
              "      background-color: #434B5C;\n",
              "      box-shadow: 0px 1px 3px 1px rgba(0, 0, 0, 0.15);\n",
              "      filter: drop-shadow(0px 1px 2px rgba(0, 0, 0, 0.3));\n",
              "      fill: #FFFFFF;\n",
              "    }\n",
              "  </style>\n",
              "\n",
              "      <script>\n",
              "        const buttonEl =\n",
              "          document.querySelector('#df-dbc37b30-50fb-4f07-9165-08e532dd7c2d button.colab-df-convert');\n",
              "        buttonEl.style.display =\n",
              "          google.colab.kernel.accessAllowed ? 'block' : 'none';\n",
              "\n",
              "        async function convertToInteractive(key) {\n",
              "          const element = document.querySelector('#df-dbc37b30-50fb-4f07-9165-08e532dd7c2d');\n",
              "          const dataTable =\n",
              "            await google.colab.kernel.invokeFunction('convertToInteractive',\n",
              "                                                     [key], {});\n",
              "          if (!dataTable) return;\n",
              "\n",
              "          const docLinkHtml = 'Like what you see? Visit the ' +\n",
              "            '<a target=\"_blank\" href=https://colab.research.google.com/notebooks/data_table.ipynb>data table notebook</a>'\n",
              "            + ' to learn more about interactive tables.';\n",
              "          element.innerHTML = '';\n",
              "          dataTable['output_type'] = 'display_data';\n",
              "          await google.colab.output.renderOutput(dataTable, element);\n",
              "          const docLink = document.createElement('div');\n",
              "          docLink.innerHTML = docLinkHtml;\n",
              "          element.appendChild(docLink);\n",
              "        }\n",
              "      </script>\n",
              "    </div>\n",
              "  </div>\n",
              "  "
            ],
            "text/plain": [
              "   셀럽 계정 테스트 계정\n",
              "0   VAYA   BYZG\n",
              "1   WKDG   XPBD\n",
              "2   XMSQ   YQVX\n",
              "3   CJSL   YSUL\n",
              "4   DQZB   RLGI\n",
              "5   JLDN   QOGI\n",
              "6   OSQR   IYWE\n",
              "7   JSEU   MDYT\n",
              "8   LOVM   SLYG\n",
              "9   JOPU   SNLX\n",
              "10         CNIZ\n",
              "11         XXXJ\n",
              "12         RCXT\n",
              "13         NHUZ\n",
              "14         BPQW\n",
              "15         ENSD\n",
              "16         SVPF\n",
              "17         XNYQ"
            ]
          },
          "metadata": {},
          "execution_count": 8
        }
      ]
    },
    {
      "cell_type": "code",
      "source": [
        "# 각각 계정 리스트 안에 넣기 \n",
        "celeb_li = list(np.array(data_info['셀럽 계정'].to_list()))\n",
        "celeb_li = [id for id in celeb_li if id != ''] # 공백 없애기, user_li의 경우 공백은 없을 확률이 높으므로 따로 코드 추가 x\n",
        "\n",
        "user_li = list(np.array(data_info['테스트 계정'].to_list()))\n"
      ],
      "metadata": {
        "id": "WuJ94OQmpnKH"
      },
      "execution_count": 9,
      "outputs": []
    },
    {
      "cell_type": "markdown",
      "source": [
        "### data_surv\n",
        "- 추천점수 부분이 없는, 공백(null)값을 포함한 행 제거\n",
        "- 셀럽별 / 유저별 survey 분리\n",
        "- data_surv_score : 추천 점수가 있는 항목\n",
        "- data_surv_pay : 얼마 낼 의향인지 가격이 있는 항목"
      ],
      "metadata": {
        "id": "xvZJ3jcs4CcR"
      }
    },
    {
      "cell_type": "code",
      "source": [
        "data_surv.columns"
      ],
      "metadata": {
        "colab": {
          "base_uri": "https://localhost:8080/"
        },
        "id": "meOFgv0hyTce",
        "outputId": "25223119-3739-4699-c77d-d4938d76902f"
      },
      "execution_count": 10,
      "outputs": [
        {
          "output_type": "execute_result",
          "data": {
            "text/plain": [
              "Index(['코드', '추천 점수', '점수 이유', '지불 의사 금액', '플랫폼 수수료', '추가 요청 기능', '기타 의견'], dtype='object')"
            ]
          },
          "metadata": {},
          "execution_count": 10
        }
      ]
    },
    {
      "cell_type": "code",
      "source": [
        "data_surv_score = data_surv[data_surv['추천 점수'] != '']"
      ],
      "metadata": {
        "id": "Guy-W7lIpYGT"
      },
      "execution_count": 11,
      "outputs": []
    },
    {
      "cell_type": "code",
      "source": [
        "data_surv_score.head()"
      ],
      "metadata": {
        "colab": {
          "base_uri": "https://localhost:8080/",
          "height": 0
        },
        "id": "K0pGrgWo1S9Z",
        "outputId": "7ec71621-8739-4195-c383-15c3261022b2"
      },
      "execution_count": 12,
      "outputs": [
        {
          "output_type": "execute_result",
          "data": {
            "text/html": [
              "\n",
              "  <div id=\"df-c1e5108e-b32b-4a2e-9bac-b14844b9c2ff\">\n",
              "    <div class=\"colab-df-container\">\n",
              "      <div>\n",
              "<style scoped>\n",
              "    .dataframe tbody tr th:only-of-type {\n",
              "        vertical-align: middle;\n",
              "    }\n",
              "\n",
              "    .dataframe tbody tr th {\n",
              "        vertical-align: top;\n",
              "    }\n",
              "\n",
              "    .dataframe thead th {\n",
              "        text-align: right;\n",
              "    }\n",
              "</style>\n",
              "<table border=\"1\" class=\"dataframe\">\n",
              "  <thead>\n",
              "    <tr style=\"text-align: right;\">\n",
              "      <th></th>\n",
              "      <th>코드</th>\n",
              "      <th>추천 점수</th>\n",
              "      <th>점수 이유</th>\n",
              "      <th>지불 의사 금액</th>\n",
              "      <th>플랫폼 수수료</th>\n",
              "      <th>추가 요청 기능</th>\n",
              "      <th>기타 의견</th>\n",
              "    </tr>\n",
              "  </thead>\n",
              "  <tbody>\n",
              "    <tr>\n",
              "      <th>0</th>\n",
              "      <td>KAMF</td>\n",
              "      <td>10</td>\n",
              "      <td>만족해서</td>\n",
              "      <td>월 10,000원 이상 ~30,000원 미만</td>\n",
              "      <td>5% 이상 ~ 10% 미만</td>\n",
              "      <td>톡 알림 끄고 키기</td>\n",
              "      <td>넹</td>\n",
              "    </tr>\n",
              "    <tr>\n",
              "      <th>1</th>\n",
              "      <td>MLSC</td>\n",
              "      <td>8</td>\n",
              "      <td>셀럽과 대화가 가능한데 단톡방과는 다른 개별 대화같은느낌. 서로 부담없이 가능한 대화.</td>\n",
              "      <td>월 30,000원 이상 ~50,000원 미만</td>\n",
              "      <td>5% 이상 ~ 10% 미만</td>\n",
              "      <td>인스타그램 피드처럼 셀럽에게만 보이는 포스트기능이 있으면 좋겠네요.</td>\n",
              "      <td>앱이 많이 느려서 실행하면 기다림이 잦고, 셀럽이 메시지를 보내도 알림이 안 떠요....</td>\n",
              "    </tr>\n",
              "    <tr>\n",
              "      <th>2</th>\n",
              "      <td>ZSOS</td>\n",
              "      <td>7</td>\n",
              "      <td>1대1처럼 대화를 하는 점이 좋으나 아직 오류가 많기 때문에</td>\n",
              "      <td>월 3,000원 미만</td>\n",
              "      <td>5% 미만</td>\n",
              "      <td>캡쳐 기능이 있었으면 좋겠습니다</td>\n",
              "      <td>대화내용이 사라지거나 알람이 늦게 오는 오류들만 없어지면 좋겠습니다</td>\n",
              "    </tr>\n",
              "    <tr>\n",
              "      <th>3</th>\n",
              "      <td>GUKR</td>\n",
              "      <td>9</td>\n",
              "      <td>메시지가 셀럽에게만 보여져서 좋고 톡방에 여러명이 있어도 귓속말 답변도 받을 수 있...</td>\n",
              "      <td>월 3,000원 미만</td>\n",
              "      <td>5% 미만</td>\n",
              "      <td>카톡처럼 이모티콘 사용이 가능했으면 좋겠어요</td>\n",
              "      <td>셀랍 방에 대화 내용을 살펴보려고 내리면 대화내용이 안 보이는 경우가 있어요</td>\n",
              "    </tr>\n",
              "    <tr>\n",
              "      <th>4</th>\n",
              "      <td>VAYA</td>\n",
              "      <td>7</td>\n",
              "      <td>현재는 불안정한 요소들이 많아서 더 개선되면 좋다고 생각합니다</td>\n",
              "      <td>월 3,000원 미만</td>\n",
              "      <td>5% 이상 ~ 10% 미만</td>\n",
              "      <td>일단은 안정성만 더 좋아도 될 것 같아오</td>\n",
              "      <td>팬들과 소통을 중요하게 생각하는 셀럽들에겐 되게 좋은 어플</td>\n",
              "    </tr>\n",
              "  </tbody>\n",
              "</table>\n",
              "</div>\n",
              "      <button class=\"colab-df-convert\" onclick=\"convertToInteractive('df-c1e5108e-b32b-4a2e-9bac-b14844b9c2ff')\"\n",
              "              title=\"Convert this dataframe to an interactive table.\"\n",
              "              style=\"display:none;\">\n",
              "        \n",
              "  <svg xmlns=\"http://www.w3.org/2000/svg\" height=\"24px\"viewBox=\"0 0 24 24\"\n",
              "       width=\"24px\">\n",
              "    <path d=\"M0 0h24v24H0V0z\" fill=\"none\"/>\n",
              "    <path d=\"M18.56 5.44l.94 2.06.94-2.06 2.06-.94-2.06-.94-.94-2.06-.94 2.06-2.06.94zm-11 1L8.5 8.5l.94-2.06 2.06-.94-2.06-.94L8.5 2.5l-.94 2.06-2.06.94zm10 10l.94 2.06.94-2.06 2.06-.94-2.06-.94-.94-2.06-.94 2.06-2.06.94z\"/><path d=\"M17.41 7.96l-1.37-1.37c-.4-.4-.92-.59-1.43-.59-.52 0-1.04.2-1.43.59L10.3 9.45l-7.72 7.72c-.78.78-.78 2.05 0 2.83L4 21.41c.39.39.9.59 1.41.59.51 0 1.02-.2 1.41-.59l7.78-7.78 2.81-2.81c.8-.78.8-2.07 0-2.86zM5.41 20L4 18.59l7.72-7.72 1.47 1.35L5.41 20z\"/>\n",
              "  </svg>\n",
              "      </button>\n",
              "      \n",
              "  <style>\n",
              "    .colab-df-container {\n",
              "      display:flex;\n",
              "      flex-wrap:wrap;\n",
              "      gap: 12px;\n",
              "    }\n",
              "\n",
              "    .colab-df-convert {\n",
              "      background-color: #E8F0FE;\n",
              "      border: none;\n",
              "      border-radius: 50%;\n",
              "      cursor: pointer;\n",
              "      display: none;\n",
              "      fill: #1967D2;\n",
              "      height: 32px;\n",
              "      padding: 0 0 0 0;\n",
              "      width: 32px;\n",
              "    }\n",
              "\n",
              "    .colab-df-convert:hover {\n",
              "      background-color: #E2EBFA;\n",
              "      box-shadow: 0px 1px 2px rgba(60, 64, 67, 0.3), 0px 1px 3px 1px rgba(60, 64, 67, 0.15);\n",
              "      fill: #174EA6;\n",
              "    }\n",
              "\n",
              "    [theme=dark] .colab-df-convert {\n",
              "      background-color: #3B4455;\n",
              "      fill: #D2E3FC;\n",
              "    }\n",
              "\n",
              "    [theme=dark] .colab-df-convert:hover {\n",
              "      background-color: #434B5C;\n",
              "      box-shadow: 0px 1px 3px 1px rgba(0, 0, 0, 0.15);\n",
              "      filter: drop-shadow(0px 1px 2px rgba(0, 0, 0, 0.3));\n",
              "      fill: #FFFFFF;\n",
              "    }\n",
              "  </style>\n",
              "\n",
              "      <script>\n",
              "        const buttonEl =\n",
              "          document.querySelector('#df-c1e5108e-b32b-4a2e-9bac-b14844b9c2ff button.colab-df-convert');\n",
              "        buttonEl.style.display =\n",
              "          google.colab.kernel.accessAllowed ? 'block' : 'none';\n",
              "\n",
              "        async function convertToInteractive(key) {\n",
              "          const element = document.querySelector('#df-c1e5108e-b32b-4a2e-9bac-b14844b9c2ff');\n",
              "          const dataTable =\n",
              "            await google.colab.kernel.invokeFunction('convertToInteractive',\n",
              "                                                     [key], {});\n",
              "          if (!dataTable) return;\n",
              "\n",
              "          const docLinkHtml = 'Like what you see? Visit the ' +\n",
              "            '<a target=\"_blank\" href=https://colab.research.google.com/notebooks/data_table.ipynb>data table notebook</a>'\n",
              "            + ' to learn more about interactive tables.';\n",
              "          element.innerHTML = '';\n",
              "          dataTable['output_type'] = 'display_data';\n",
              "          await google.colab.output.renderOutput(dataTable, element);\n",
              "          const docLink = document.createElement('div');\n",
              "          docLink.innerHTML = docLinkHtml;\n",
              "          element.appendChild(docLink);\n",
              "        }\n",
              "      </script>\n",
              "    </div>\n",
              "  </div>\n",
              "  "
            ],
            "text/plain": [
              "     코드  ...                                              기타 의견\n",
              "0  KAMF  ...                                                  넹\n",
              "1  MLSC  ...  앱이 많이 느려서 실행하면 기다림이 잦고, 셀럽이 메시지를 보내도 알림이 안 떠요....\n",
              "2  ZSOS  ...              대화내용이 사라지거나 알람이 늦게 오는 오류들만 없어지면 좋겠습니다\n",
              "3  GUKR  ...        셀랍 방에 대화 내용을 살펴보려고 내리면 대화내용이 안 보이는 경우가 있어요 \n",
              "4  VAYA  ...                   팬들과 소통을 중요하게 생각하는 셀럽들에겐 되게 좋은 어플\n",
              "\n",
              "[5 rows x 7 columns]"
            ]
          },
          "metadata": {},
          "execution_count": 12
        }
      ]
    },
    {
      "cell_type": "code",
      "source": [
        "data_surv_pay = data_surv[data_surv['지불 의사 금액'] != '']"
      ],
      "metadata": {
        "id": "0ycHJIaT4mHq"
      },
      "execution_count": 13,
      "outputs": []
    },
    {
      "cell_type": "code",
      "source": [
        "data_surv_pay.head()"
      ],
      "metadata": {
        "colab": {
          "base_uri": "https://localhost:8080/",
          "height": 0
        },
        "id": "Eak5B6Sm1ULj",
        "outputId": "4c574fcd-6424-4fc2-e34d-4dfde0cddf84"
      },
      "execution_count": 14,
      "outputs": [
        {
          "output_type": "execute_result",
          "data": {
            "text/html": [
              "\n",
              "  <div id=\"df-92701eb0-f556-4a01-9f90-188eb96a2a96\">\n",
              "    <div class=\"colab-df-container\">\n",
              "      <div>\n",
              "<style scoped>\n",
              "    .dataframe tbody tr th:only-of-type {\n",
              "        vertical-align: middle;\n",
              "    }\n",
              "\n",
              "    .dataframe tbody tr th {\n",
              "        vertical-align: top;\n",
              "    }\n",
              "\n",
              "    .dataframe thead th {\n",
              "        text-align: right;\n",
              "    }\n",
              "</style>\n",
              "<table border=\"1\" class=\"dataframe\">\n",
              "  <thead>\n",
              "    <tr style=\"text-align: right;\">\n",
              "      <th></th>\n",
              "      <th>코드</th>\n",
              "      <th>추천 점수</th>\n",
              "      <th>점수 이유</th>\n",
              "      <th>지불 의사 금액</th>\n",
              "      <th>플랫폼 수수료</th>\n",
              "      <th>추가 요청 기능</th>\n",
              "      <th>기타 의견</th>\n",
              "    </tr>\n",
              "  </thead>\n",
              "  <tbody>\n",
              "    <tr>\n",
              "      <th>0</th>\n",
              "      <td>KAMF</td>\n",
              "      <td>10</td>\n",
              "      <td>만족해서</td>\n",
              "      <td>월 10,000원 이상 ~30,000원 미만</td>\n",
              "      <td>5% 이상 ~ 10% 미만</td>\n",
              "      <td>톡 알림 끄고 키기</td>\n",
              "      <td>넹</td>\n",
              "    </tr>\n",
              "    <tr>\n",
              "      <th>1</th>\n",
              "      <td>MLSC</td>\n",
              "      <td>8</td>\n",
              "      <td>셀럽과 대화가 가능한데 단톡방과는 다른 개별 대화같은느낌. 서로 부담없이 가능한 대화.</td>\n",
              "      <td>월 30,000원 이상 ~50,000원 미만</td>\n",
              "      <td>5% 이상 ~ 10% 미만</td>\n",
              "      <td>인스타그램 피드처럼 셀럽에게만 보이는 포스트기능이 있으면 좋겠네요.</td>\n",
              "      <td>앱이 많이 느려서 실행하면 기다림이 잦고, 셀럽이 메시지를 보내도 알림이 안 떠요....</td>\n",
              "    </tr>\n",
              "    <tr>\n",
              "      <th>2</th>\n",
              "      <td>ZSOS</td>\n",
              "      <td>7</td>\n",
              "      <td>1대1처럼 대화를 하는 점이 좋으나 아직 오류가 많기 때문에</td>\n",
              "      <td>월 3,000원 미만</td>\n",
              "      <td>5% 미만</td>\n",
              "      <td>캡쳐 기능이 있었으면 좋겠습니다</td>\n",
              "      <td>대화내용이 사라지거나 알람이 늦게 오는 오류들만 없어지면 좋겠습니다</td>\n",
              "    </tr>\n",
              "    <tr>\n",
              "      <th>3</th>\n",
              "      <td>GUKR</td>\n",
              "      <td>9</td>\n",
              "      <td>메시지가 셀럽에게만 보여져서 좋고 톡방에 여러명이 있어도 귓속말 답변도 받을 수 있...</td>\n",
              "      <td>월 3,000원 미만</td>\n",
              "      <td>5% 미만</td>\n",
              "      <td>카톡처럼 이모티콘 사용이 가능했으면 좋겠어요</td>\n",
              "      <td>셀랍 방에 대화 내용을 살펴보려고 내리면 대화내용이 안 보이는 경우가 있어요</td>\n",
              "    </tr>\n",
              "    <tr>\n",
              "      <th>4</th>\n",
              "      <td>VAYA</td>\n",
              "      <td>7</td>\n",
              "      <td>현재는 불안정한 요소들이 많아서 더 개선되면 좋다고 생각합니다</td>\n",
              "      <td>월 3,000원 미만</td>\n",
              "      <td>5% 이상 ~ 10% 미만</td>\n",
              "      <td>일단은 안정성만 더 좋아도 될 것 같아오</td>\n",
              "      <td>팬들과 소통을 중요하게 생각하는 셀럽들에겐 되게 좋은 어플</td>\n",
              "    </tr>\n",
              "  </tbody>\n",
              "</table>\n",
              "</div>\n",
              "      <button class=\"colab-df-convert\" onclick=\"convertToInteractive('df-92701eb0-f556-4a01-9f90-188eb96a2a96')\"\n",
              "              title=\"Convert this dataframe to an interactive table.\"\n",
              "              style=\"display:none;\">\n",
              "        \n",
              "  <svg xmlns=\"http://www.w3.org/2000/svg\" height=\"24px\"viewBox=\"0 0 24 24\"\n",
              "       width=\"24px\">\n",
              "    <path d=\"M0 0h24v24H0V0z\" fill=\"none\"/>\n",
              "    <path d=\"M18.56 5.44l.94 2.06.94-2.06 2.06-.94-2.06-.94-.94-2.06-.94 2.06-2.06.94zm-11 1L8.5 8.5l.94-2.06 2.06-.94-2.06-.94L8.5 2.5l-.94 2.06-2.06.94zm10 10l.94 2.06.94-2.06 2.06-.94-2.06-.94-.94-2.06-.94 2.06-2.06.94z\"/><path d=\"M17.41 7.96l-1.37-1.37c-.4-.4-.92-.59-1.43-.59-.52 0-1.04.2-1.43.59L10.3 9.45l-7.72 7.72c-.78.78-.78 2.05 0 2.83L4 21.41c.39.39.9.59 1.41.59.51 0 1.02-.2 1.41-.59l7.78-7.78 2.81-2.81c.8-.78.8-2.07 0-2.86zM5.41 20L4 18.59l7.72-7.72 1.47 1.35L5.41 20z\"/>\n",
              "  </svg>\n",
              "      </button>\n",
              "      \n",
              "  <style>\n",
              "    .colab-df-container {\n",
              "      display:flex;\n",
              "      flex-wrap:wrap;\n",
              "      gap: 12px;\n",
              "    }\n",
              "\n",
              "    .colab-df-convert {\n",
              "      background-color: #E8F0FE;\n",
              "      border: none;\n",
              "      border-radius: 50%;\n",
              "      cursor: pointer;\n",
              "      display: none;\n",
              "      fill: #1967D2;\n",
              "      height: 32px;\n",
              "      padding: 0 0 0 0;\n",
              "      width: 32px;\n",
              "    }\n",
              "\n",
              "    .colab-df-convert:hover {\n",
              "      background-color: #E2EBFA;\n",
              "      box-shadow: 0px 1px 2px rgba(60, 64, 67, 0.3), 0px 1px 3px 1px rgba(60, 64, 67, 0.15);\n",
              "      fill: #174EA6;\n",
              "    }\n",
              "\n",
              "    [theme=dark] .colab-df-convert {\n",
              "      background-color: #3B4455;\n",
              "      fill: #D2E3FC;\n",
              "    }\n",
              "\n",
              "    [theme=dark] .colab-df-convert:hover {\n",
              "      background-color: #434B5C;\n",
              "      box-shadow: 0px 1px 3px 1px rgba(0, 0, 0, 0.15);\n",
              "      filter: drop-shadow(0px 1px 2px rgba(0, 0, 0, 0.3));\n",
              "      fill: #FFFFFF;\n",
              "    }\n",
              "  </style>\n",
              "\n",
              "      <script>\n",
              "        const buttonEl =\n",
              "          document.querySelector('#df-92701eb0-f556-4a01-9f90-188eb96a2a96 button.colab-df-convert');\n",
              "        buttonEl.style.display =\n",
              "          google.colab.kernel.accessAllowed ? 'block' : 'none';\n",
              "\n",
              "        async function convertToInteractive(key) {\n",
              "          const element = document.querySelector('#df-92701eb0-f556-4a01-9f90-188eb96a2a96');\n",
              "          const dataTable =\n",
              "            await google.colab.kernel.invokeFunction('convertToInteractive',\n",
              "                                                     [key], {});\n",
              "          if (!dataTable) return;\n",
              "\n",
              "          const docLinkHtml = 'Like what you see? Visit the ' +\n",
              "            '<a target=\"_blank\" href=https://colab.research.google.com/notebooks/data_table.ipynb>data table notebook</a>'\n",
              "            + ' to learn more about interactive tables.';\n",
              "          element.innerHTML = '';\n",
              "          dataTable['output_type'] = 'display_data';\n",
              "          await google.colab.output.renderOutput(dataTable, element);\n",
              "          const docLink = document.createElement('div');\n",
              "          docLink.innerHTML = docLinkHtml;\n",
              "          element.appendChild(docLink);\n",
              "        }\n",
              "      </script>\n",
              "    </div>\n",
              "  </div>\n",
              "  "
            ],
            "text/plain": [
              "     코드  ...                                              기타 의견\n",
              "0  KAMF  ...                                                  넹\n",
              "1  MLSC  ...  앱이 많이 느려서 실행하면 기다림이 잦고, 셀럽이 메시지를 보내도 알림이 안 떠요....\n",
              "2  ZSOS  ...              대화내용이 사라지거나 알람이 늦게 오는 오류들만 없어지면 좋겠습니다\n",
              "3  GUKR  ...        셀랍 방에 대화 내용을 살펴보려고 내리면 대화내용이 안 보이는 경우가 있어요 \n",
              "4  VAYA  ...                   팬들과 소통을 중요하게 생각하는 셀럽들에겐 되게 좋은 어플\n",
              "\n",
              "[5 rows x 7 columns]"
            ]
          },
          "metadata": {},
          "execution_count": 14
        }
      ]
    },
    {
      "cell_type": "markdown",
      "source": [
        ""
      ],
      "metadata": {
        "id": "KGpSXywF1e0s"
      }
    },
    {
      "cell_type": "markdown",
      "source": [
        "## 상위 n 퍼센트의 셀럽 목록, 팬의 숫자 \n",
        "- 상위 n개의 셀럽 정하는 기준 \n",
        "- 대화방에서 팬의 수 방의 참여자 만족도가 높은 순(셀럽, 팬 합쳐서) / 방의 활성화 순서 (인당 대화가 많은 순서) (전체 대화 / 참여자수) / 방의 부정도가 가장 낮은"
      ],
      "metadata": {
        "id": "CtupuBbu1-tj"
      }
    },
    {
      "cell_type": "markdown",
      "source": [
        "### (1) 참여도가 높은 방 순서\n",
        "- top10_li"
      ],
      "metadata": {
        "id": "rVgQBOBfV4V9"
      }
    },
    {
      "cell_type": "code",
      "source": [
        "### 우선 임시로 상위 10개\n",
        "### 나중에 데이터 추가되면,, 상위 n퍼센트로 바꾸거나 해도 좋을듯 "
      ],
      "metadata": {
        "id": "SL1S9AL4PBkk"
      },
      "execution_count": null,
      "outputs": []
    },
    {
      "cell_type": "code",
      "source": [
        "data"
      ],
      "metadata": {
        "colab": {
          "base_uri": "https://localhost:8080/",
          "height": 423
        },
        "id": "Zc_mv74C57x2",
        "outputId": "c282f262-3cd6-4d28-ed88-3cb42fcbf6ba"
      },
      "execution_count": null,
      "outputs": [
        {
          "output_type": "execute_result",
          "data": {
            "text/html": [
              "\n",
              "  <div id=\"df-3209b346-69e0-4ec9-bebc-e52f9ee5fef0\">\n",
              "    <div class=\"colab-df-container\">\n",
              "      <div>\n",
              "<style scoped>\n",
              "    .dataframe tbody tr th:only-of-type {\n",
              "        vertical-align: middle;\n",
              "    }\n",
              "\n",
              "    .dataframe tbody tr th {\n",
              "        vertical-align: top;\n",
              "    }\n",
              "\n",
              "    .dataframe thead th {\n",
              "        text-align: right;\n",
              "    }\n",
              "</style>\n",
              "<table border=\"1\" class=\"dataframe\">\n",
              "  <thead>\n",
              "    <tr style=\"text-align: right;\">\n",
              "      <th></th>\n",
              "      <th>Unnamed: 0</th>\n",
              "      <th>date</th>\n",
              "      <th>time</th>\n",
              "      <th>celeb</th>\n",
              "      <th>code</th>\n",
              "      <th>comments</th>\n",
              "      <th>file</th>\n",
              "    </tr>\n",
              "  </thead>\n",
              "  <tbody>\n",
              "    <tr>\n",
              "      <th>0</th>\n",
              "      <td>1</td>\n",
              "      <td>Jul 12, 2021</td>\n",
              "      <td>20:39</td>\n",
              "      <td>VAYA</td>\n",
              "      <td>KAMF</td>\n",
              "      <td>님이 참여했습니다.</td>\n",
              "      <td>NaN</td>\n",
              "    </tr>\n",
              "    <tr>\n",
              "      <th>1</th>\n",
              "      <td>2</td>\n",
              "      <td>Jul 12, 2021</td>\n",
              "      <td>20:40</td>\n",
              "      <td>VAYA</td>\n",
              "      <td>KAMF</td>\n",
              "      <td>사랑해요🖤</td>\n",
              "      <td>NaN</td>\n",
              "    </tr>\n",
              "    <tr>\n",
              "      <th>2</th>\n",
              "      <td>3</td>\n",
              "      <td>Jul 12, 2021</td>\n",
              "      <td>20:40</td>\n",
              "      <td>VAYA</td>\n",
              "      <td>MLSC</td>\n",
              "      <td>님이 참여했습니다.</td>\n",
              "      <td>NaN</td>\n",
              "    </tr>\n",
              "    <tr>\n",
              "      <th>3</th>\n",
              "      <td>4</td>\n",
              "      <td>Jul 12, 2021</td>\n",
              "      <td>20:41</td>\n",
              "      <td>VAYA</td>\n",
              "      <td>ZSOS</td>\n",
              "      <td>님이 참여했습니다.</td>\n",
              "      <td>NaN</td>\n",
              "    </tr>\n",
              "    <tr>\n",
              "      <th>4</th>\n",
              "      <td>5</td>\n",
              "      <td>Jul 12, 2021</td>\n",
              "      <td>20:41</td>\n",
              "      <td>VAYA</td>\n",
              "      <td>MLSC</td>\n",
              "      <td>단톡 전용 인스타 대체일지... 자려고했는데 파들..</td>\n",
              "      <td>NaN</td>\n",
              "    </tr>\n",
              "    <tr>\n",
              "      <th>...</th>\n",
              "      <td>...</td>\n",
              "      <td>...</td>\n",
              "      <td>...</td>\n",
              "      <td>...</td>\n",
              "      <td>...</td>\n",
              "      <td>...</td>\n",
              "      <td>...</td>\n",
              "    </tr>\n",
              "    <tr>\n",
              "      <th>10292</th>\n",
              "      <td>10634</td>\n",
              "      <td>Aug 18, 2021</td>\n",
              "      <td>08:56</td>\n",
              "      <td>JOPU</td>\n",
              "      <td>BYZG</td>\n",
              "      <td>ㅎㅎ 오늘도 비가 주륵주륵~ 벼보리님 우산 잘 쓰고 다니셔요 !</td>\n",
              "      <td>NaN</td>\n",
              "    </tr>\n",
              "    <tr>\n",
              "      <th>10293</th>\n",
              "      <td>10635</td>\n",
              "      <td>Aug 18, 2021</td>\n",
              "      <td>17:38</td>\n",
              "      <td>JOPU</td>\n",
              "      <td>JOPU</td>\n",
              "      <td>Operator오늘은 ~ 수요일 ~ 스팀겜 하는 날~ 일주일의 절반이 벌써 다가왔네...</td>\n",
              "      <td>NaN</td>\n",
              "    </tr>\n",
              "    <tr>\n",
              "      <th>10294</th>\n",
              "      <td>10636</td>\n",
              "      <td>Aug 18, 2021</td>\n",
              "      <td>18:03</td>\n",
              "      <td>JOPU</td>\n",
              "      <td>CCAA</td>\n",
              "      <td>재밌는시간 보내셨겠네요 ㅎㅎ\\n저는 학교갔는데 생각했던것보단 정겹고 좋네요 은근 ㅎ...</td>\n",
              "      <td>NaN</td>\n",
              "    </tr>\n",
              "    <tr>\n",
              "      <th>10295</th>\n",
              "      <td>10637</td>\n",
              "      <td>Aug 18, 2021</td>\n",
              "      <td>18:15</td>\n",
              "      <td>JOPU</td>\n",
              "      <td>ZWYM</td>\n",
              "      <td>보리쟝이무화과를 먹었으니  저는 복숭아를 먹겠읍니다 후후\\n푹 쉬고 7시에 방송에서...</td>\n",
              "      <td>NaN</td>\n",
              "    </tr>\n",
              "    <tr>\n",
              "      <th>10296</th>\n",
              "      <td>10639</td>\n",
              "      <td>Aug 19, 2021</td>\n",
              "      <td>02:43</td>\n",
              "      <td>JOPU</td>\n",
              "      <td>CCAA</td>\n",
              "      <td>오늘 엄청 열심히하셨네요 ㅎㅎ\\n미성콘테스트 재밌게 놀다오셔요~\\n그리고 거기서 너...</td>\n",
              "      <td>NaN</td>\n",
              "    </tr>\n",
              "  </tbody>\n",
              "</table>\n",
              "<p>10297 rows × 7 columns</p>\n",
              "</div>\n",
              "      <button class=\"colab-df-convert\" onclick=\"convertToInteractive('df-3209b346-69e0-4ec9-bebc-e52f9ee5fef0')\"\n",
              "              title=\"Convert this dataframe to an interactive table.\"\n",
              "              style=\"display:none;\">\n",
              "        \n",
              "  <svg xmlns=\"http://www.w3.org/2000/svg\" height=\"24px\"viewBox=\"0 0 24 24\"\n",
              "       width=\"24px\">\n",
              "    <path d=\"M0 0h24v24H0V0z\" fill=\"none\"/>\n",
              "    <path d=\"M18.56 5.44l.94 2.06.94-2.06 2.06-.94-2.06-.94-.94-2.06-.94 2.06-2.06.94zm-11 1L8.5 8.5l.94-2.06 2.06-.94-2.06-.94L8.5 2.5l-.94 2.06-2.06.94zm10 10l.94 2.06.94-2.06 2.06-.94-2.06-.94-.94-2.06-.94 2.06-2.06.94z\"/><path d=\"M17.41 7.96l-1.37-1.37c-.4-.4-.92-.59-1.43-.59-.52 0-1.04.2-1.43.59L10.3 9.45l-7.72 7.72c-.78.78-.78 2.05 0 2.83L4 21.41c.39.39.9.59 1.41.59.51 0 1.02-.2 1.41-.59l7.78-7.78 2.81-2.81c.8-.78.8-2.07 0-2.86zM5.41 20L4 18.59l7.72-7.72 1.47 1.35L5.41 20z\"/>\n",
              "  </svg>\n",
              "      </button>\n",
              "      \n",
              "  <style>\n",
              "    .colab-df-container {\n",
              "      display:flex;\n",
              "      flex-wrap:wrap;\n",
              "      gap: 12px;\n",
              "    }\n",
              "\n",
              "    .colab-df-convert {\n",
              "      background-color: #E8F0FE;\n",
              "      border: none;\n",
              "      border-radius: 50%;\n",
              "      cursor: pointer;\n",
              "      display: none;\n",
              "      fill: #1967D2;\n",
              "      height: 32px;\n",
              "      padding: 0 0 0 0;\n",
              "      width: 32px;\n",
              "    }\n",
              "\n",
              "    .colab-df-convert:hover {\n",
              "      background-color: #E2EBFA;\n",
              "      box-shadow: 0px 1px 2px rgba(60, 64, 67, 0.3), 0px 1px 3px 1px rgba(60, 64, 67, 0.15);\n",
              "      fill: #174EA6;\n",
              "    }\n",
              "\n",
              "    [theme=dark] .colab-df-convert {\n",
              "      background-color: #3B4455;\n",
              "      fill: #D2E3FC;\n",
              "    }\n",
              "\n",
              "    [theme=dark] .colab-df-convert:hover {\n",
              "      background-color: #434B5C;\n",
              "      box-shadow: 0px 1px 3px 1px rgba(0, 0, 0, 0.15);\n",
              "      filter: drop-shadow(0px 1px 2px rgba(0, 0, 0, 0.3));\n",
              "      fill: #FFFFFF;\n",
              "    }\n",
              "  </style>\n",
              "\n",
              "      <script>\n",
              "        const buttonEl =\n",
              "          document.querySelector('#df-3209b346-69e0-4ec9-bebc-e52f9ee5fef0 button.colab-df-convert');\n",
              "        buttonEl.style.display =\n",
              "          google.colab.kernel.accessAllowed ? 'block' : 'none';\n",
              "\n",
              "        async function convertToInteractive(key) {\n",
              "          const element = document.querySelector('#df-3209b346-69e0-4ec9-bebc-e52f9ee5fef0');\n",
              "          const dataTable =\n",
              "            await google.colab.kernel.invokeFunction('convertToInteractive',\n",
              "                                                     [key], {});\n",
              "          if (!dataTable) return;\n",
              "\n",
              "          const docLinkHtml = 'Like what you see? Visit the ' +\n",
              "            '<a target=\"_blank\" href=https://colab.research.google.com/notebooks/data_table.ipynb>data table notebook</a>'\n",
              "            + ' to learn more about interactive tables.';\n",
              "          element.innerHTML = '';\n",
              "          dataTable['output_type'] = 'display_data';\n",
              "          await google.colab.output.renderOutput(dataTable, element);\n",
              "          const docLink = document.createElement('div');\n",
              "          docLink.innerHTML = docLinkHtml;\n",
              "          element.appendChild(docLink);\n",
              "        }\n",
              "      </script>\n",
              "    </div>\n",
              "  </div>\n",
              "  "
            ],
            "text/plain": [
              "       Unnamed: 0  ... file\n",
              "0               1  ...  NaN\n",
              "1               2  ...  NaN\n",
              "2               3  ...  NaN\n",
              "3               4  ...  NaN\n",
              "4               5  ...  NaN\n",
              "...           ...  ...  ...\n",
              "10292       10634  ...  NaN\n",
              "10293       10635  ...  NaN\n",
              "10294       10636  ...  NaN\n",
              "10295       10637  ...  NaN\n",
              "10296       10639  ...  NaN\n",
              "\n",
              "[10297 rows x 7 columns]"
            ]
          },
          "metadata": {},
          "execution_count": 16
        }
      ]
    },
    {
      "cell_type": "code",
      "source": [
        "# 대화방 참여자가 총 몇명인지 어떻게 알아낼까? -> celeb별 대화 참여자 unique값 찾기, 총 참여자 수\n",
        "data.groupby('celeb')"
      ],
      "metadata": {
        "colab": {
          "base_uri": "https://localhost:8080/"
        },
        "id": "sz-97zWO9smb",
        "outputId": "002a9287-1822-4c48-8d63-814711a46986"
      },
      "execution_count": null,
      "outputs": [
        {
          "output_type": "execute_result",
          "data": {
            "text/plain": [
              "<pandas.core.groupby.generic.DataFrameGroupBy object at 0x7fc91bb0bd10>"
            ]
          },
          "metadata": {},
          "execution_count": 17
        }
      ]
    },
    {
      "cell_type": "code",
      "source": [
        "# celeb unique 값 찾기 # 따로 받은 celeb_li와 순서와 내용이 같음.\n",
        "# a = list(data['celeb'].unique())\n",
        "# 따라서 굳이 따로 구할 필요 없음 -> 이건 나중에 필요할때 다시 활용"
      ],
      "metadata": {
        "id": "jHNShAMABDlj"
      },
      "execution_count": null,
      "outputs": []
    },
    {
      "cell_type": "code",
      "source": [
        "# 셀럽별 대화방 참여자 총 몇명 (unique)\n",
        "user_dic = {} # [celeb : 유저들 unique 값 리스트]\n",
        "for id in celeb_li:\n",
        "  val = list(data[data['celeb'] == id]['code'].unique())\n",
        "  user_dic[id] = val"
      ],
      "metadata": {
        "id": "Ew9qu-ueCV8b"
      },
      "execution_count": null,
      "outputs": []
    },
    {
      "cell_type": "code",
      "source": [
        "# 셀럽별 대화 총 몇개 \n",
        "com_dic = {} # [celeb : 유저들 comments 개수]\n",
        "for id in celeb_li:\n",
        "  val = len(data[data['celeb'] == id]['comments'])\n",
        "  com_dic[id] = val"
      ],
      "metadata": {
        "id": "L4kpNOmWEbCp"
      },
      "execution_count": null,
      "outputs": []
    },
    {
      "cell_type": "code",
      "source": [
        "# 셀럽별 대화방 활성화 정도\n",
        "act_dic = {} # 얼마나 acitve 한지 \n",
        "for id in celeb_li:\n",
        "  user_num = len(user_dic[id]) # user_num : 유저 몇명?\n",
        "  com_num = com_dic[id] # com_num : comments 몇개?\n",
        "  act_dic[id] = round(com_num/user_num, 3) # 유저 / 총 대화 수로 acitve한 정도를 구해줍니다."
      ],
      "metadata": {
        "id": "FlCXYug9JWO-"
      },
      "execution_count": null,
      "outputs": []
    },
    {
      "cell_type": "code",
      "source": [
        "# act_dic을 바탕으로 상위 n 퍼센트를 구합니다. \n",
        "act_dic"
      ],
      "metadata": {
        "colab": {
          "base_uri": "https://localhost:8080/"
        },
        "id": "2j4jNApaLig_",
        "outputId": "525bf8c9-5874-4364-a3dd-a118e5f15da9"
      },
      "execution_count": null,
      "outputs": [
        {
          "output_type": "execute_result",
          "data": {
            "text/plain": [
              "{'CJSL': 31.13,\n",
              " 'DQZB': 10.065,\n",
              " 'JLDN': 26.086,\n",
              " 'JOPU': 16.875,\n",
              " 'JSEU': 4.9,\n",
              " 'LOVM': 17.6,\n",
              " 'OSQR': 5.867,\n",
              " 'VAYA': 126.708,\n",
              " 'WKDG': 51.818,\n",
              " 'XMSQ': 73.548}"
            ]
          },
          "metadata": {},
          "execution_count": 22
        }
      ]
    },
    {
      "cell_type": "code",
      "source": [
        "# dictionary active가 높은 순서대로 만들기 \n",
        "sorted_dict = {}\n",
        "for k, v in sorted(act_dic.items(), key = lambda item: item[1], reverse = True):\n",
        "  sorted_dict[k] = v\n",
        "\n",
        "# 코드 참고 https://codechacha.com/ko/python-sorting-dict/"
      ],
      "metadata": {
        "id": "vOxWF_82ObYn"
      },
      "execution_count": null,
      "outputs": []
    },
    {
      "cell_type": "code",
      "source": [
        "# top 10 celeb list\n",
        "top10_li1 = list(sorted_dict.keys())[:10]"
      ],
      "metadata": {
        "id": "4J8ousXcOoaz"
      },
      "execution_count": null,
      "outputs": []
    },
    {
      "cell_type": "code",
      "source": [
        "top10_li1"
      ],
      "metadata": {
        "colab": {
          "base_uri": "https://localhost:8080/"
        },
        "id": "pWwJWHobRtCu",
        "outputId": "9e670c10-df57-4577-bf0a-dcd63c6c4c0f"
      },
      "execution_count": null,
      "outputs": [
        {
          "output_type": "execute_result",
          "data": {
            "text/plain": [
              "['VAYA',\n",
              " 'XMSQ',\n",
              " 'WKDG',\n",
              " 'CJSL',\n",
              " 'JLDN',\n",
              " 'LOVM',\n",
              " 'JOPU',\n",
              " 'DQZB',\n",
              " 'OSQR',\n",
              " 'JSEU']"
            ]
          },
          "metadata": {},
          "execution_count": 25
        }
      ]
    },
    {
      "cell_type": "markdown",
      "source": [
        "### (만약 데이터 전처리가 잘 되었다면 이 부분은 건너뛰어도 됩니다.)"
      ],
      "metadata": {
        "id": "6YRYRcMKlFjw"
      }
    },
    {
      "cell_type": "code",
      "source": [
        "data"
      ],
      "metadata": {
        "colab": {
          "base_uri": "https://localhost:8080/",
          "height": 423
        },
        "id": "Ac7zHSmDWUao",
        "outputId": "a1062995-75f0-4959-d1ab-b82c3471dbbe"
      },
      "execution_count": null,
      "outputs": [
        {
          "output_type": "execute_result",
          "data": {
            "text/html": [
              "\n",
              "  <div id=\"df-474107a1-8b82-4a46-81ea-ec3d7aa077a0\">\n",
              "    <div class=\"colab-df-container\">\n",
              "      <div>\n",
              "<style scoped>\n",
              "    .dataframe tbody tr th:only-of-type {\n",
              "        vertical-align: middle;\n",
              "    }\n",
              "\n",
              "    .dataframe tbody tr th {\n",
              "        vertical-align: top;\n",
              "    }\n",
              "\n",
              "    .dataframe thead th {\n",
              "        text-align: right;\n",
              "    }\n",
              "</style>\n",
              "<table border=\"1\" class=\"dataframe\">\n",
              "  <thead>\n",
              "    <tr style=\"text-align: right;\">\n",
              "      <th></th>\n",
              "      <th>Unnamed: 0</th>\n",
              "      <th>date</th>\n",
              "      <th>time</th>\n",
              "      <th>celeb</th>\n",
              "      <th>code</th>\n",
              "      <th>comments</th>\n",
              "      <th>file</th>\n",
              "    </tr>\n",
              "  </thead>\n",
              "  <tbody>\n",
              "    <tr>\n",
              "      <th>0</th>\n",
              "      <td>1</td>\n",
              "      <td>Jul 12, 2021</td>\n",
              "      <td>20:39</td>\n",
              "      <td>VAYA</td>\n",
              "      <td>KAMF</td>\n",
              "      <td>님이 참여했습니다.</td>\n",
              "      <td>NaN</td>\n",
              "    </tr>\n",
              "    <tr>\n",
              "      <th>1</th>\n",
              "      <td>2</td>\n",
              "      <td>Jul 12, 2021</td>\n",
              "      <td>20:40</td>\n",
              "      <td>VAYA</td>\n",
              "      <td>KAMF</td>\n",
              "      <td>사랑해요🖤</td>\n",
              "      <td>NaN</td>\n",
              "    </tr>\n",
              "    <tr>\n",
              "      <th>2</th>\n",
              "      <td>3</td>\n",
              "      <td>Jul 12, 2021</td>\n",
              "      <td>20:40</td>\n",
              "      <td>VAYA</td>\n",
              "      <td>MLSC</td>\n",
              "      <td>님이 참여했습니다.</td>\n",
              "      <td>NaN</td>\n",
              "    </tr>\n",
              "    <tr>\n",
              "      <th>3</th>\n",
              "      <td>4</td>\n",
              "      <td>Jul 12, 2021</td>\n",
              "      <td>20:41</td>\n",
              "      <td>VAYA</td>\n",
              "      <td>ZSOS</td>\n",
              "      <td>님이 참여했습니다.</td>\n",
              "      <td>NaN</td>\n",
              "    </tr>\n",
              "    <tr>\n",
              "      <th>4</th>\n",
              "      <td>5</td>\n",
              "      <td>Jul 12, 2021</td>\n",
              "      <td>20:41</td>\n",
              "      <td>VAYA</td>\n",
              "      <td>MLSC</td>\n",
              "      <td>단톡 전용 인스타 대체일지... 자려고했는데 파들..</td>\n",
              "      <td>NaN</td>\n",
              "    </tr>\n",
              "    <tr>\n",
              "      <th>...</th>\n",
              "      <td>...</td>\n",
              "      <td>...</td>\n",
              "      <td>...</td>\n",
              "      <td>...</td>\n",
              "      <td>...</td>\n",
              "      <td>...</td>\n",
              "      <td>...</td>\n",
              "    </tr>\n",
              "    <tr>\n",
              "      <th>10292</th>\n",
              "      <td>10634</td>\n",
              "      <td>Aug 18, 2021</td>\n",
              "      <td>08:56</td>\n",
              "      <td>JOPU</td>\n",
              "      <td>BYZG</td>\n",
              "      <td>ㅎㅎ 오늘도 비가 주륵주륵~ 벼보리님 우산 잘 쓰고 다니셔요 !</td>\n",
              "      <td>NaN</td>\n",
              "    </tr>\n",
              "    <tr>\n",
              "      <th>10293</th>\n",
              "      <td>10635</td>\n",
              "      <td>Aug 18, 2021</td>\n",
              "      <td>17:38</td>\n",
              "      <td>JOPU</td>\n",
              "      <td>JOPU</td>\n",
              "      <td>Operator오늘은 ~ 수요일 ~ 스팀겜 하는 날~ 일주일의 절반이 벌써 다가왔네...</td>\n",
              "      <td>NaN</td>\n",
              "    </tr>\n",
              "    <tr>\n",
              "      <th>10294</th>\n",
              "      <td>10636</td>\n",
              "      <td>Aug 18, 2021</td>\n",
              "      <td>18:03</td>\n",
              "      <td>JOPU</td>\n",
              "      <td>CCAA</td>\n",
              "      <td>재밌는시간 보내셨겠네요 ㅎㅎ\\n저는 학교갔는데 생각했던것보단 정겹고 좋네요 은근 ㅎ...</td>\n",
              "      <td>NaN</td>\n",
              "    </tr>\n",
              "    <tr>\n",
              "      <th>10295</th>\n",
              "      <td>10637</td>\n",
              "      <td>Aug 18, 2021</td>\n",
              "      <td>18:15</td>\n",
              "      <td>JOPU</td>\n",
              "      <td>ZWYM</td>\n",
              "      <td>보리쟝이무화과를 먹었으니  저는 복숭아를 먹겠읍니다 후후\\n푹 쉬고 7시에 방송에서...</td>\n",
              "      <td>NaN</td>\n",
              "    </tr>\n",
              "    <tr>\n",
              "      <th>10296</th>\n",
              "      <td>10639</td>\n",
              "      <td>Aug 19, 2021</td>\n",
              "      <td>02:43</td>\n",
              "      <td>JOPU</td>\n",
              "      <td>CCAA</td>\n",
              "      <td>오늘 엄청 열심히하셨네요 ㅎㅎ\\n미성콘테스트 재밌게 놀다오셔요~\\n그리고 거기서 너...</td>\n",
              "      <td>NaN</td>\n",
              "    </tr>\n",
              "  </tbody>\n",
              "</table>\n",
              "<p>10297 rows × 7 columns</p>\n",
              "</div>\n",
              "      <button class=\"colab-df-convert\" onclick=\"convertToInteractive('df-474107a1-8b82-4a46-81ea-ec3d7aa077a0')\"\n",
              "              title=\"Convert this dataframe to an interactive table.\"\n",
              "              style=\"display:none;\">\n",
              "        \n",
              "  <svg xmlns=\"http://www.w3.org/2000/svg\" height=\"24px\"viewBox=\"0 0 24 24\"\n",
              "       width=\"24px\">\n",
              "    <path d=\"M0 0h24v24H0V0z\" fill=\"none\"/>\n",
              "    <path d=\"M18.56 5.44l.94 2.06.94-2.06 2.06-.94-2.06-.94-.94-2.06-.94 2.06-2.06.94zm-11 1L8.5 8.5l.94-2.06 2.06-.94-2.06-.94L8.5 2.5l-.94 2.06-2.06.94zm10 10l.94 2.06.94-2.06 2.06-.94-2.06-.94-.94-2.06-.94 2.06-2.06.94z\"/><path d=\"M17.41 7.96l-1.37-1.37c-.4-.4-.92-.59-1.43-.59-.52 0-1.04.2-1.43.59L10.3 9.45l-7.72 7.72c-.78.78-.78 2.05 0 2.83L4 21.41c.39.39.9.59 1.41.59.51 0 1.02-.2 1.41-.59l7.78-7.78 2.81-2.81c.8-.78.8-2.07 0-2.86zM5.41 20L4 18.59l7.72-7.72 1.47 1.35L5.41 20z\"/>\n",
              "  </svg>\n",
              "      </button>\n",
              "      \n",
              "  <style>\n",
              "    .colab-df-container {\n",
              "      display:flex;\n",
              "      flex-wrap:wrap;\n",
              "      gap: 12px;\n",
              "    }\n",
              "\n",
              "    .colab-df-convert {\n",
              "      background-color: #E8F0FE;\n",
              "      border: none;\n",
              "      border-radius: 50%;\n",
              "      cursor: pointer;\n",
              "      display: none;\n",
              "      fill: #1967D2;\n",
              "      height: 32px;\n",
              "      padding: 0 0 0 0;\n",
              "      width: 32px;\n",
              "    }\n",
              "\n",
              "    .colab-df-convert:hover {\n",
              "      background-color: #E2EBFA;\n",
              "      box-shadow: 0px 1px 2px rgba(60, 64, 67, 0.3), 0px 1px 3px 1px rgba(60, 64, 67, 0.15);\n",
              "      fill: #174EA6;\n",
              "    }\n",
              "\n",
              "    [theme=dark] .colab-df-convert {\n",
              "      background-color: #3B4455;\n",
              "      fill: #D2E3FC;\n",
              "    }\n",
              "\n",
              "    [theme=dark] .colab-df-convert:hover {\n",
              "      background-color: #434B5C;\n",
              "      box-shadow: 0px 1px 3px 1px rgba(0, 0, 0, 0.15);\n",
              "      filter: drop-shadow(0px 1px 2px rgba(0, 0, 0, 0.3));\n",
              "      fill: #FFFFFF;\n",
              "    }\n",
              "  </style>\n",
              "\n",
              "      <script>\n",
              "        const buttonEl =\n",
              "          document.querySelector('#df-474107a1-8b82-4a46-81ea-ec3d7aa077a0 button.colab-df-convert');\n",
              "        buttonEl.style.display =\n",
              "          google.colab.kernel.accessAllowed ? 'block' : 'none';\n",
              "\n",
              "        async function convertToInteractive(key) {\n",
              "          const element = document.querySelector('#df-474107a1-8b82-4a46-81ea-ec3d7aa077a0');\n",
              "          const dataTable =\n",
              "            await google.colab.kernel.invokeFunction('convertToInteractive',\n",
              "                                                     [key], {});\n",
              "          if (!dataTable) return;\n",
              "\n",
              "          const docLinkHtml = 'Like what you see? Visit the ' +\n",
              "            '<a target=\"_blank\" href=https://colab.research.google.com/notebooks/data_table.ipynb>data table notebook</a>'\n",
              "            + ' to learn more about interactive tables.';\n",
              "          element.innerHTML = '';\n",
              "          dataTable['output_type'] = 'display_data';\n",
              "          await google.colab.output.renderOutput(dataTable, element);\n",
              "          const docLink = document.createElement('div');\n",
              "          docLink.innerHTML = docLinkHtml;\n",
              "          element.appendChild(docLink);\n",
              "        }\n",
              "      </script>\n",
              "    </div>\n",
              "  </div>\n",
              "  "
            ],
            "text/plain": [
              "       Unnamed: 0  ... file\n",
              "0               1  ...  NaN\n",
              "1               2  ...  NaN\n",
              "2               3  ...  NaN\n",
              "3               4  ...  NaN\n",
              "4               5  ...  NaN\n",
              "...           ...  ...  ...\n",
              "10292       10634  ...  NaN\n",
              "10293       10635  ...  NaN\n",
              "10294       10636  ...  NaN\n",
              "10295       10637  ...  NaN\n",
              "10296       10639  ...  NaN\n",
              "\n",
              "[10297 rows x 7 columns]"
            ]
          },
          "metadata": {},
          "execution_count": 26
        }
      ]
    },
    {
      "cell_type": "markdown",
      "source": [
        "✍ 이 밑부분은 나중에 레이블 된 데이터 가져오면 다시.."
      ],
      "metadata": {
        "id": "K9G-_UHL-z-G"
      }
    },
    {
      "cell_type": "code",
      "source": [
        "# data['label'] = data['label'].dropna()"
      ],
      "metadata": {
        "id": "Hk0dIDXMdINy"
      },
      "execution_count": null,
      "outputs": []
    },
    {
      "cell_type": "code",
      "source": [
        "# data['label'].value_counts()"
      ],
      "metadata": {
        "id": "XvwBhTzVd0tw"
      },
      "execution_count": null,
      "outputs": []
    },
    {
      "cell_type": "code",
      "source": [
        "# data['label'] = data['label'].astype(int)"
      ],
      "metadata": {
        "id": "bGrZ-g4zdqCK"
      },
      "execution_count": null,
      "outputs": []
    },
    {
      "cell_type": "markdown",
      "source": [
        "ValueError: Cannot convert non-finite values (NA or inf) to integer 가 발생\n",
        "\n",
        "fillna로 해결"
      ],
      "metadata": {
        "id": "ZzOcd6Aaj5rT"
      }
    },
    {
      "cell_type": "code",
      "source": [
        "# data['label'] = data['label'].fillna(9) # 우선 9로 na값을 대체 \n",
        "# index1 = data[data['label']==9].index # label 값이 9인 행 index를 추출\n",
        "# data = data.drop(index1) # 해당하는 index를 drop"
      ],
      "metadata": {
        "id": "qwhcGsE6id58"
      },
      "execution_count": null,
      "outputs": []
    },
    {
      "cell_type": "code",
      "source": [
        "# # 마지막으로 label 행을 int로 바꿔준다.\n",
        "# data['label'] = data['label'].astype(int)"
      ],
      "metadata": {
        "id": "5iZEER95jSpj"
      },
      "execution_count": null,
      "outputs": []
    },
    {
      "cell_type": "markdown",
      "source": [
        "### (2) 부정도가 낮은 방 순서\n",
        "- top10_li"
      ],
      "metadata": {
        "id": "gjA4_P44lS4r"
      }
    },
    {
      "cell_type": "code",
      "source": [
        "a = data.groupby(['celeb', 'label']).count()"
      ],
      "metadata": {
        "id": "Pg-v0DmClvsR",
        "colab": {
          "base_uri": "https://localhost:8080/",
          "height": 311
        },
        "outputId": "d02ec164-ce76-469e-dce5-9b1e29870005"
      },
      "execution_count": null,
      "outputs": [
        {
          "output_type": "error",
          "ename": "KeyError",
          "evalue": "ignored",
          "traceback": [
            "\u001b[0;31m---------------------------------------------------------------------------\u001b[0m",
            "\u001b[0;31mKeyError\u001b[0m                                  Traceback (most recent call last)",
            "\u001b[0;32m<ipython-input-36-35364e0f26bf>\u001b[0m in \u001b[0;36m<module>\u001b[0;34m()\u001b[0m\n\u001b[0;32m----> 1\u001b[0;31m \u001b[0ma\u001b[0m \u001b[0;34m=\u001b[0m \u001b[0mdata\u001b[0m\u001b[0;34m.\u001b[0m\u001b[0mgroupby\u001b[0m\u001b[0;34m(\u001b[0m\u001b[0;34m[\u001b[0m\u001b[0;34m'celeb'\u001b[0m\u001b[0;34m,\u001b[0m \u001b[0;34m'label'\u001b[0m\u001b[0;34m]\u001b[0m\u001b[0;34m)\u001b[0m\u001b[0;34m.\u001b[0m\u001b[0mcount\u001b[0m\u001b[0;34m(\u001b[0m\u001b[0;34m)\u001b[0m\u001b[0;34m\u001b[0m\u001b[0;34m\u001b[0m\u001b[0m\n\u001b[0m",
            "\u001b[0;32m/usr/local/lib/python3.7/dist-packages/pandas/core/frame.py\u001b[0m in \u001b[0;36mgroupby\u001b[0;34m(self, by, axis, level, as_index, sort, group_keys, squeeze, observed, dropna)\u001b[0m\n\u001b[1;32m   6523\u001b[0m             \u001b[0msqueeze\u001b[0m\u001b[0;34m=\u001b[0m\u001b[0msqueeze\u001b[0m\u001b[0;34m,\u001b[0m\u001b[0;34m\u001b[0m\u001b[0;34m\u001b[0m\u001b[0m\n\u001b[1;32m   6524\u001b[0m             \u001b[0mobserved\u001b[0m\u001b[0;34m=\u001b[0m\u001b[0mobserved\u001b[0m\u001b[0;34m,\u001b[0m\u001b[0;34m\u001b[0m\u001b[0;34m\u001b[0m\u001b[0m\n\u001b[0;32m-> 6525\u001b[0;31m             \u001b[0mdropna\u001b[0m\u001b[0;34m=\u001b[0m\u001b[0mdropna\u001b[0m\u001b[0;34m,\u001b[0m\u001b[0;34m\u001b[0m\u001b[0;34m\u001b[0m\u001b[0m\n\u001b[0m\u001b[1;32m   6526\u001b[0m         )\n\u001b[1;32m   6527\u001b[0m \u001b[0;34m\u001b[0m\u001b[0m\n",
            "\u001b[0;32m/usr/local/lib/python3.7/dist-packages/pandas/core/groupby/groupby.py\u001b[0m in \u001b[0;36m__init__\u001b[0;34m(self, obj, keys, axis, level, grouper, exclusions, selection, as_index, sort, group_keys, squeeze, observed, mutated, dropna)\u001b[0m\n\u001b[1;32m    531\u001b[0m                 \u001b[0mobserved\u001b[0m\u001b[0;34m=\u001b[0m\u001b[0mobserved\u001b[0m\u001b[0;34m,\u001b[0m\u001b[0;34m\u001b[0m\u001b[0;34m\u001b[0m\u001b[0m\n\u001b[1;32m    532\u001b[0m                 \u001b[0mmutated\u001b[0m\u001b[0;34m=\u001b[0m\u001b[0mself\u001b[0m\u001b[0;34m.\u001b[0m\u001b[0mmutated\u001b[0m\u001b[0;34m,\u001b[0m\u001b[0;34m\u001b[0m\u001b[0;34m\u001b[0m\u001b[0m\n\u001b[0;32m--> 533\u001b[0;31m                 \u001b[0mdropna\u001b[0m\u001b[0;34m=\u001b[0m\u001b[0mself\u001b[0m\u001b[0;34m.\u001b[0m\u001b[0mdropna\u001b[0m\u001b[0;34m,\u001b[0m\u001b[0;34m\u001b[0m\u001b[0;34m\u001b[0m\u001b[0m\n\u001b[0m\u001b[1;32m    534\u001b[0m             )\n\u001b[1;32m    535\u001b[0m \u001b[0;34m\u001b[0m\u001b[0m\n",
            "\u001b[0;32m/usr/local/lib/python3.7/dist-packages/pandas/core/groupby/grouper.py\u001b[0m in \u001b[0;36mget_grouper\u001b[0;34m(obj, key, axis, level, sort, observed, mutated, validate, dropna)\u001b[0m\n\u001b[1;32m    784\u001b[0m                 \u001b[0min_axis\u001b[0m\u001b[0;34m,\u001b[0m \u001b[0mname\u001b[0m\u001b[0;34m,\u001b[0m \u001b[0mlevel\u001b[0m\u001b[0;34m,\u001b[0m \u001b[0mgpr\u001b[0m \u001b[0;34m=\u001b[0m \u001b[0;32mFalse\u001b[0m\u001b[0;34m,\u001b[0m \u001b[0;32mNone\u001b[0m\u001b[0;34m,\u001b[0m \u001b[0mgpr\u001b[0m\u001b[0;34m,\u001b[0m \u001b[0;32mNone\u001b[0m\u001b[0;34m\u001b[0m\u001b[0;34m\u001b[0m\u001b[0m\n\u001b[1;32m    785\u001b[0m             \u001b[0;32melse\u001b[0m\u001b[0;34m:\u001b[0m\u001b[0;34m\u001b[0m\u001b[0;34m\u001b[0m\u001b[0m\n\u001b[0;32m--> 786\u001b[0;31m                 \u001b[0;32mraise\u001b[0m \u001b[0mKeyError\u001b[0m\u001b[0;34m(\u001b[0m\u001b[0mgpr\u001b[0m\u001b[0;34m)\u001b[0m\u001b[0;34m\u001b[0m\u001b[0;34m\u001b[0m\u001b[0m\n\u001b[0m\u001b[1;32m    787\u001b[0m         \u001b[0;32melif\u001b[0m \u001b[0misinstance\u001b[0m\u001b[0;34m(\u001b[0m\u001b[0mgpr\u001b[0m\u001b[0;34m,\u001b[0m \u001b[0mGrouper\u001b[0m\u001b[0;34m)\u001b[0m \u001b[0;32mand\u001b[0m \u001b[0mgpr\u001b[0m\u001b[0;34m.\u001b[0m\u001b[0mkey\u001b[0m \u001b[0;32mis\u001b[0m \u001b[0;32mnot\u001b[0m \u001b[0;32mNone\u001b[0m\u001b[0;34m:\u001b[0m\u001b[0;34m\u001b[0m\u001b[0;34m\u001b[0m\u001b[0m\n\u001b[1;32m    788\u001b[0m             \u001b[0;31m# Add key to exclusions\u001b[0m\u001b[0;34m\u001b[0m\u001b[0;34m\u001b[0m\u001b[0;34m\u001b[0m\u001b[0m\n",
            "\u001b[0;31mKeyError\u001b[0m: 'label'"
          ]
        }
      ]
    },
    {
      "cell_type": "code",
      "source": [
        "# data_012는 셀럽에 따라 0이 몇개, 1이 몇개, 2가 몇개인지 정리해놓은 dataframe\n",
        "data_012 = a[['date']]"
      ],
      "metadata": {
        "id": "GPO6y7ehnHsb",
        "colab": {
          "base_uri": "https://localhost:8080/",
          "height": 183
        },
        "outputId": "ce37cfdb-e124-4ad0-a725-ef537d4c2e6f"
      },
      "execution_count": null,
      "outputs": [
        {
          "output_type": "error",
          "ename": "NameError",
          "evalue": "ignored",
          "traceback": [
            "\u001b[0;31m---------------------------------------------------------------------------\u001b[0m",
            "\u001b[0;31mNameError\u001b[0m                                 Traceback (most recent call last)",
            "\u001b[0;32m<ipython-input-37-4308fcc11151>\u001b[0m in \u001b[0;36m<module>\u001b[0;34m()\u001b[0m\n\u001b[1;32m      1\u001b[0m \u001b[0;31m# data_012는 셀럽에 따라 0이 몇개, 1이 몇개, 2가 몇개인지 정리해놓은 dataframe\u001b[0m\u001b[0;34m\u001b[0m\u001b[0;34m\u001b[0m\u001b[0;34m\u001b[0m\u001b[0m\n\u001b[0;32m----> 2\u001b[0;31m \u001b[0mdata_012\u001b[0m \u001b[0;34m=\u001b[0m \u001b[0ma\u001b[0m\u001b[0;34m[\u001b[0m\u001b[0;34m[\u001b[0m\u001b[0;34m'date'\u001b[0m\u001b[0;34m]\u001b[0m\u001b[0;34m]\u001b[0m\u001b[0;34m\u001b[0m\u001b[0;34m\u001b[0m\u001b[0m\n\u001b[0m",
            "\u001b[0;31mNameError\u001b[0m: name 'a' is not defined"
          ]
        }
      ]
    },
    {
      "cell_type": "code",
      "source": [
        "data_012"
      ],
      "metadata": {
        "colab": {
          "base_uri": "https://localhost:8080/",
          "height": 166
        },
        "id": "Co9tNBa7oD3E",
        "outputId": "c59c567d-6c92-4727-c258-25a11e10da62"
      },
      "execution_count": null,
      "outputs": [
        {
          "output_type": "error",
          "ename": "NameError",
          "evalue": "ignored",
          "traceback": [
            "\u001b[0;31m---------------------------------------------------------------------------\u001b[0m",
            "\u001b[0;31mNameError\u001b[0m                                 Traceback (most recent call last)",
            "\u001b[0;32m<ipython-input-38-b3d11621fb33>\u001b[0m in \u001b[0;36m<module>\u001b[0;34m()\u001b[0m\n\u001b[0;32m----> 1\u001b[0;31m \u001b[0mdata_012\u001b[0m\u001b[0;34m\u001b[0m\u001b[0;34m\u001b[0m\u001b[0m\n\u001b[0m",
            "\u001b[0;31mNameError\u001b[0m: name 'data_012' is not defined"
          ]
        }
      ]
    },
    {
      "cell_type": "code",
      "source": [
        "list(data_012.loc['CJSL'].index)"
      ],
      "metadata": {
        "id": "IjPpKOKXuMHg"
      },
      "execution_count": null,
      "outputs": []
    },
    {
      "cell_type": "code",
      "source": [
        "# pivot_table로 보기 편하게 바꿔주기 / 0이 없는 곳은 0.001으로 자리 자동으로 메꿔줌 (fill_value) \n",
        "# 0.0001로 메꿔주는 이유 : 부정도가 0이면, 총합에 나누기를 할 수가 없으므로 최대한 작은 수로 나눠줘서 점수를 올려줌\n",
        "data_012 = pd.pivot_table(data_012,\n",
        "                       index='celeb',\n",
        "                       columns='label',\n",
        "                       fill_value = 0.001)"
      ],
      "metadata": {
        "id": "vTKjOFyM7dGv"
      },
      "execution_count": null,
      "outputs": []
    },
    {
      "cell_type": "code",
      "source": [
        "# 멀티 인덱스 해제 - 컬럼명 수정\n",
        "data_012.columns = [0, 1, 2]"
      ],
      "metadata": {
        "id": "iyNtI77w8Utd"
      },
      "execution_count": null,
      "outputs": []
    },
    {
      "cell_type": "code",
      "source": [
        "data_012"
      ],
      "metadata": {
        "id": "FDsz2mz4-sop"
      },
      "execution_count": null,
      "outputs": []
    },
    {
      "cell_type": "code",
      "source": [
        "# 총합 컬럼\n",
        "data_012['sum'] = data_012[[0, 1, 2]].sum(axis=1)\n",
        "data_012"
      ],
      "metadata": {
        "id": "o2Dy6yt37LhU"
      },
      "execution_count": null,
      "outputs": []
    },
    {
      "cell_type": "code",
      "source": [
        "# 부정도 컬럼 추가 \n",
        "data_012['div'] = data_012['sum']/data_012[0]"
      ],
      "metadata": {
        "id": "IkwnRHvA8B1k"
      },
      "execution_count": null,
      "outputs": []
    },
    {
      "cell_type": "code",
      "source": [
        "data_012"
      ],
      "metadata": {
        "id": "zw63EZ3O96rW"
      },
      "execution_count": null,
      "outputs": []
    },
    {
      "cell_type": "code",
      "source": [
        "data_012 = data_012.sort_values(by=[\"div\"], ascending=[False]) "
      ],
      "metadata": {
        "id": "UfSGClTtEEbU"
      },
      "execution_count": null,
      "outputs": []
    },
    {
      "cell_type": "code",
      "source": [
        "top10_li2 = list(data_012.index)[:10]"
      ],
      "metadata": {
        "id": "6ZnWBf9JBSxB"
      },
      "execution_count": null,
      "outputs": []
    },
    {
      "cell_type": "code",
      "source": [
        "top10_li2"
      ],
      "metadata": {
        "id": "W2Wc_SDHFRIT"
      },
      "execution_count": null,
      "outputs": []
    },
    {
      "cell_type": "markdown",
      "source": [
        "### (3) 1와 2번 조합\n",
        "- 1번 : 순위가 높은 순서대로 10점씩 부과 \n",
        "- 2번 : 순위가 높은 순서대로 8점씩 부과\n",
        "- merged_top10"
      ],
      "metadata": {
        "id": "cPmOmh3clptG"
      }
    },
    {
      "cell_type": "code",
      "source": [
        "# 활성화 정도 \n",
        "top10_li1"
      ],
      "metadata": {
        "id": "d7aB1UguIaAQ"
      },
      "execution_count": null,
      "outputs": []
    },
    {
      "cell_type": "code",
      "source": [
        "# top10_li1 = top10_li"
      ],
      "metadata": {
        "id": "IKuJwCmPJbLt"
      },
      "execution_count": null,
      "outputs": []
    },
    {
      "cell_type": "code",
      "source": [
        "# 긍정도 \n",
        "top10_li2"
      ],
      "metadata": {
        "id": "blNY2k5HIdJt"
      },
      "execution_count": null,
      "outputs": []
    },
    {
      "cell_type": "code",
      "source": [
        "top10_li_1 = pd.DataFrame({'ID':top10_li1,\n",
        "                             'score':[100, 90, 80, 70, 60, 50, 40, 30, 20, 10]})\n",
        "top10_li_2 = pd.DataFrame({'ID':top10_li2,\n",
        "                             'score':[80, 72, 64, 56, 48, 40, 32, 24, 16, 8]})"
      ],
      "metadata": {
        "id": "6wIy5dYPJTj9"
      },
      "execution_count": null,
      "outputs": []
    },
    {
      "cell_type": "code",
      "source": [
        "top10_li_1"
      ],
      "metadata": {
        "id": "2BzY2O11NfKN"
      },
      "execution_count": null,
      "outputs": []
    },
    {
      "cell_type": "code",
      "source": [
        "top10_li_2"
      ],
      "metadata": {
        "id": "wYjM5fBUNhfT"
      },
      "execution_count": null,
      "outputs": []
    },
    {
      "cell_type": "code",
      "source": [
        "merged_top10 = pd.merge(left = top10_li_1 , right = top10_li_2, how = \"outer\", on='ID')"
      ],
      "metadata": {
        "id": "V_Zx7eY5N-z8"
      },
      "execution_count": null,
      "outputs": []
    },
    {
      "cell_type": "code",
      "source": [
        "merged_top10\n",
        "# 예시에서는 NaN값이 나오지 않지만 만약 나오는 경우에는 결측치를 0으로 대체해주기!"
      ],
      "metadata": {
        "id": "uOAWDJXKOLtl"
      },
      "execution_count": null,
      "outputs": []
    },
    {
      "cell_type": "code",
      "source": [
        "# 점수 총합 \n",
        "merged_top10['sum'] = merged_top10['score_x']+merged_top10['score_y']"
      ],
      "metadata": {
        "id": "OcYK-BM4OPJ1"
      },
      "execution_count": null,
      "outputs": []
    },
    {
      "cell_type": "code",
      "source": [
        "merged_top10"
      ],
      "metadata": {
        "id": "cZfIuZtJOtga"
      },
      "execution_count": null,
      "outputs": []
    },
    {
      "cell_type": "code",
      "source": [
        "# (순위 구하기 마지막!!) sum값을 기준으로 top 순서 구하기!!!\n",
        "merged_top10 = merged_top10.sort_values(by=[\"sum\"], ascending=[False]) \n",
        "merged_top10"
      ],
      "metadata": {
        "id": "3nWPDjgMOw8K"
      },
      "execution_count": null,
      "outputs": []
    },
    {
      "cell_type": "code",
      "source": [
        "# top10의 ID를 list안에 넣기\n",
        "top10_list = list(merged_top10['ID'])"
      ],
      "metadata": {
        "id": "DMcmC9rmUsg2"
      },
      "execution_count": null,
      "outputs": []
    },
    {
      "cell_type": "code",
      "source": [
        "# top10에 해당하는 셀럽들의 행만 불러오기\n",
        "data_isin = data\n",
        "data_isin = data_isin[data_isin['celeb'].isin(top10_list)]"
      ],
      "metadata": {
        "id": "FdiqER3x8lPH"
      },
      "execution_count": null,
      "outputs": []
    },
    {
      "cell_type": "code",
      "source": [
        "data_isin"
      ],
      "metadata": {
        "id": "3IPy_T4h-Iui"
      },
      "execution_count": null,
      "outputs": []
    },
    {
      "cell_type": "markdown",
      "source": [
        "## 셀럽의 태도에 따른 시간의 흐름에 따른 긍정도 변화의 시각화\n",
        "- 셀럽의 태도 기준\n",
        "    - 셀럽이 먼저 대화를 시작한 비율\n",
        "    - 평균 하루 대화량 \n",
        "    - 요일별, 시간별 대화 분포 (애매함)"
      ],
      "metadata": {
        "id": "ELGZDJg2O83D"
      }
    },
    {
      "cell_type": "code",
      "source": [
        "data_isin = data.drop('Unnamed: 0', axis=1)"
      ],
      "metadata": {
        "id": "Po3fZ83bCobN"
      },
      "execution_count": 15,
      "outputs": []
    },
    {
      "cell_type": "code",
      "source": [
        "data_isin"
      ],
      "metadata": {
        "colab": {
          "base_uri": "https://localhost:8080/",
          "height": 423
        },
        "id": "aRw2UGJ_cwyC",
        "outputId": "8b0704a1-a2c7-4710-8eb8-9493bece0f2f"
      },
      "execution_count": 16,
      "outputs": [
        {
          "output_type": "execute_result",
          "data": {
            "text/html": [
              "\n",
              "  <div id=\"df-a67a8dc7-7d8e-47be-9ba2-047c59aaa141\">\n",
              "    <div class=\"colab-df-container\">\n",
              "      <div>\n",
              "<style scoped>\n",
              "    .dataframe tbody tr th:only-of-type {\n",
              "        vertical-align: middle;\n",
              "    }\n",
              "\n",
              "    .dataframe tbody tr th {\n",
              "        vertical-align: top;\n",
              "    }\n",
              "\n",
              "    .dataframe thead th {\n",
              "        text-align: right;\n",
              "    }\n",
              "</style>\n",
              "<table border=\"1\" class=\"dataframe\">\n",
              "  <thead>\n",
              "    <tr style=\"text-align: right;\">\n",
              "      <th></th>\n",
              "      <th>date</th>\n",
              "      <th>time</th>\n",
              "      <th>celeb</th>\n",
              "      <th>code</th>\n",
              "      <th>comments</th>\n",
              "      <th>file</th>\n",
              "    </tr>\n",
              "  </thead>\n",
              "  <tbody>\n",
              "    <tr>\n",
              "      <th>0</th>\n",
              "      <td>2021-07-12</td>\n",
              "      <td>20:39</td>\n",
              "      <td>VAYA</td>\n",
              "      <td>KAMF</td>\n",
              "      <td>님이 참여했습니다.</td>\n",
              "      <td></td>\n",
              "    </tr>\n",
              "    <tr>\n",
              "      <th>1</th>\n",
              "      <td>2021-07-12</td>\n",
              "      <td>20:40</td>\n",
              "      <td>VAYA</td>\n",
              "      <td>KAMF</td>\n",
              "      <td>사랑해요🖤</td>\n",
              "      <td></td>\n",
              "    </tr>\n",
              "    <tr>\n",
              "      <th>2</th>\n",
              "      <td>2021-07-12</td>\n",
              "      <td>20:40</td>\n",
              "      <td>VAYA</td>\n",
              "      <td>MLSC</td>\n",
              "      <td>님이 참여했습니다.</td>\n",
              "      <td></td>\n",
              "    </tr>\n",
              "    <tr>\n",
              "      <th>3</th>\n",
              "      <td>2021-07-12</td>\n",
              "      <td>20:41</td>\n",
              "      <td>VAYA</td>\n",
              "      <td>ZSOS</td>\n",
              "      <td>님이 참여했습니다.</td>\n",
              "      <td></td>\n",
              "    </tr>\n",
              "    <tr>\n",
              "      <th>4</th>\n",
              "      <td>2021-07-12</td>\n",
              "      <td>20:41</td>\n",
              "      <td>VAYA</td>\n",
              "      <td>MLSC</td>\n",
              "      <td>단톡 전용 인스타 대체일지... 자려고했는데 파들..</td>\n",
              "      <td></td>\n",
              "    </tr>\n",
              "    <tr>\n",
              "      <th>...</th>\n",
              "      <td>...</td>\n",
              "      <td>...</td>\n",
              "      <td>...</td>\n",
              "      <td>...</td>\n",
              "      <td>...</td>\n",
              "      <td>...</td>\n",
              "    </tr>\n",
              "    <tr>\n",
              "      <th>10292</th>\n",
              "      <td>2021-08-18</td>\n",
              "      <td>08:56</td>\n",
              "      <td>JOPU</td>\n",
              "      <td>BYZG</td>\n",
              "      <td>ㅎㅎ 오늘도 비가 주륵주륵~ 벼보리님 우산 잘 쓰고 다니셔요 !</td>\n",
              "      <td></td>\n",
              "    </tr>\n",
              "    <tr>\n",
              "      <th>10293</th>\n",
              "      <td>2021-08-18</td>\n",
              "      <td>17:38</td>\n",
              "      <td>JOPU</td>\n",
              "      <td>JOPU</td>\n",
              "      <td>Operator오늘은 ~ 수요일 ~ 스팀겜 하는 날~ 일주일의 절반이 벌써 다가왔네...</td>\n",
              "      <td></td>\n",
              "    </tr>\n",
              "    <tr>\n",
              "      <th>10294</th>\n",
              "      <td>2021-08-18</td>\n",
              "      <td>18:03</td>\n",
              "      <td>JOPU</td>\n",
              "      <td>CCAA</td>\n",
              "      <td>재밌는시간 보내셨겠네요 ㅎㅎ\\n저는 학교갔는데 생각했던것보단 정겹고 좋네요 은근 ㅎ...</td>\n",
              "      <td></td>\n",
              "    </tr>\n",
              "    <tr>\n",
              "      <th>10295</th>\n",
              "      <td>2021-08-18</td>\n",
              "      <td>18:15</td>\n",
              "      <td>JOPU</td>\n",
              "      <td>ZWYM</td>\n",
              "      <td>보리쟝이무화과를 먹었으니  저는 복숭아를 먹겠읍니다 후후\\n푹 쉬고 7시에 방송에서...</td>\n",
              "      <td></td>\n",
              "    </tr>\n",
              "    <tr>\n",
              "      <th>10296</th>\n",
              "      <td>2021-08-19</td>\n",
              "      <td>02:43</td>\n",
              "      <td>JOPU</td>\n",
              "      <td>CCAA</td>\n",
              "      <td>오늘 엄청 열심히하셨네요 ㅎㅎ\\n미성콘테스트 재밌게 놀다오셔요~\\n그리고 거기서 너...</td>\n",
              "      <td></td>\n",
              "    </tr>\n",
              "  </tbody>\n",
              "</table>\n",
              "<p>10297 rows × 6 columns</p>\n",
              "</div>\n",
              "      <button class=\"colab-df-convert\" onclick=\"convertToInteractive('df-a67a8dc7-7d8e-47be-9ba2-047c59aaa141')\"\n",
              "              title=\"Convert this dataframe to an interactive table.\"\n",
              "              style=\"display:none;\">\n",
              "        \n",
              "  <svg xmlns=\"http://www.w3.org/2000/svg\" height=\"24px\"viewBox=\"0 0 24 24\"\n",
              "       width=\"24px\">\n",
              "    <path d=\"M0 0h24v24H0V0z\" fill=\"none\"/>\n",
              "    <path d=\"M18.56 5.44l.94 2.06.94-2.06 2.06-.94-2.06-.94-.94-2.06-.94 2.06-2.06.94zm-11 1L8.5 8.5l.94-2.06 2.06-.94-2.06-.94L8.5 2.5l-.94 2.06-2.06.94zm10 10l.94 2.06.94-2.06 2.06-.94-2.06-.94-.94-2.06-.94 2.06-2.06.94z\"/><path d=\"M17.41 7.96l-1.37-1.37c-.4-.4-.92-.59-1.43-.59-.52 0-1.04.2-1.43.59L10.3 9.45l-7.72 7.72c-.78.78-.78 2.05 0 2.83L4 21.41c.39.39.9.59 1.41.59.51 0 1.02-.2 1.41-.59l7.78-7.78 2.81-2.81c.8-.78.8-2.07 0-2.86zM5.41 20L4 18.59l7.72-7.72 1.47 1.35L5.41 20z\"/>\n",
              "  </svg>\n",
              "      </button>\n",
              "      \n",
              "  <style>\n",
              "    .colab-df-container {\n",
              "      display:flex;\n",
              "      flex-wrap:wrap;\n",
              "      gap: 12px;\n",
              "    }\n",
              "\n",
              "    .colab-df-convert {\n",
              "      background-color: #E8F0FE;\n",
              "      border: none;\n",
              "      border-radius: 50%;\n",
              "      cursor: pointer;\n",
              "      display: none;\n",
              "      fill: #1967D2;\n",
              "      height: 32px;\n",
              "      padding: 0 0 0 0;\n",
              "      width: 32px;\n",
              "    }\n",
              "\n",
              "    .colab-df-convert:hover {\n",
              "      background-color: #E2EBFA;\n",
              "      box-shadow: 0px 1px 2px rgba(60, 64, 67, 0.3), 0px 1px 3px 1px rgba(60, 64, 67, 0.15);\n",
              "      fill: #174EA6;\n",
              "    }\n",
              "\n",
              "    [theme=dark] .colab-df-convert {\n",
              "      background-color: #3B4455;\n",
              "      fill: #D2E3FC;\n",
              "    }\n",
              "\n",
              "    [theme=dark] .colab-df-convert:hover {\n",
              "      background-color: #434B5C;\n",
              "      box-shadow: 0px 1px 3px 1px rgba(0, 0, 0, 0.15);\n",
              "      filter: drop-shadow(0px 1px 2px rgba(0, 0, 0, 0.3));\n",
              "      fill: #FFFFFF;\n",
              "    }\n",
              "  </style>\n",
              "\n",
              "      <script>\n",
              "        const buttonEl =\n",
              "          document.querySelector('#df-a67a8dc7-7d8e-47be-9ba2-047c59aaa141 button.colab-df-convert');\n",
              "        buttonEl.style.display =\n",
              "          google.colab.kernel.accessAllowed ? 'block' : 'none';\n",
              "\n",
              "        async function convertToInteractive(key) {\n",
              "          const element = document.querySelector('#df-a67a8dc7-7d8e-47be-9ba2-047c59aaa141');\n",
              "          const dataTable =\n",
              "            await google.colab.kernel.invokeFunction('convertToInteractive',\n",
              "                                                     [key], {});\n",
              "          if (!dataTable) return;\n",
              "\n",
              "          const docLinkHtml = 'Like what you see? Visit the ' +\n",
              "            '<a target=\"_blank\" href=https://colab.research.google.com/notebooks/data_table.ipynb>data table notebook</a>'\n",
              "            + ' to learn more about interactive tables.';\n",
              "          element.innerHTML = '';\n",
              "          dataTable['output_type'] = 'display_data';\n",
              "          await google.colab.output.renderOutput(dataTable, element);\n",
              "          const docLink = document.createElement('div');\n",
              "          docLink.innerHTML = docLinkHtml;\n",
              "          element.appendChild(docLink);\n",
              "        }\n",
              "      </script>\n",
              "    </div>\n",
              "  </div>\n",
              "  "
            ],
            "text/plain": [
              "             date  ... file\n",
              "0      2021-07-12  ...     \n",
              "1      2021-07-12  ...     \n",
              "2      2021-07-12  ...     \n",
              "3      2021-07-12  ...     \n",
              "4      2021-07-12  ...     \n",
              "...           ...  ...  ...\n",
              "10292  2021-08-18  ...     \n",
              "10293  2021-08-18  ...     \n",
              "10294  2021-08-18  ...     \n",
              "10295  2021-08-18  ...     \n",
              "10296  2021-08-19  ...     \n",
              "\n",
              "[10297 rows x 6 columns]"
            ]
          },
          "metadata": {},
          "execution_count": 16
        }
      ]
    },
    {
      "cell_type": "code",
      "source": [
        "data_isin.dropna(subset = ['comments'])"
      ],
      "metadata": {
        "colab": {
          "base_uri": "https://localhost:8080/",
          "height": 423
        },
        "id": "9AfEax8WeR9v",
        "outputId": "4f1725cd-d62c-41d4-bc9f-84f692f4eeeb"
      },
      "execution_count": 17,
      "outputs": [
        {
          "output_type": "execute_result",
          "data": {
            "text/html": [
              "\n",
              "  <div id=\"df-86992fcd-2f55-4d4d-bd7e-531391692203\">\n",
              "    <div class=\"colab-df-container\">\n",
              "      <div>\n",
              "<style scoped>\n",
              "    .dataframe tbody tr th:only-of-type {\n",
              "        vertical-align: middle;\n",
              "    }\n",
              "\n",
              "    .dataframe tbody tr th {\n",
              "        vertical-align: top;\n",
              "    }\n",
              "\n",
              "    .dataframe thead th {\n",
              "        text-align: right;\n",
              "    }\n",
              "</style>\n",
              "<table border=\"1\" class=\"dataframe\">\n",
              "  <thead>\n",
              "    <tr style=\"text-align: right;\">\n",
              "      <th></th>\n",
              "      <th>date</th>\n",
              "      <th>time</th>\n",
              "      <th>celeb</th>\n",
              "      <th>code</th>\n",
              "      <th>comments</th>\n",
              "      <th>file</th>\n",
              "    </tr>\n",
              "  </thead>\n",
              "  <tbody>\n",
              "    <tr>\n",
              "      <th>0</th>\n",
              "      <td>2021-07-12</td>\n",
              "      <td>20:39</td>\n",
              "      <td>VAYA</td>\n",
              "      <td>KAMF</td>\n",
              "      <td>님이 참여했습니다.</td>\n",
              "      <td></td>\n",
              "    </tr>\n",
              "    <tr>\n",
              "      <th>1</th>\n",
              "      <td>2021-07-12</td>\n",
              "      <td>20:40</td>\n",
              "      <td>VAYA</td>\n",
              "      <td>KAMF</td>\n",
              "      <td>사랑해요🖤</td>\n",
              "      <td></td>\n",
              "    </tr>\n",
              "    <tr>\n",
              "      <th>2</th>\n",
              "      <td>2021-07-12</td>\n",
              "      <td>20:40</td>\n",
              "      <td>VAYA</td>\n",
              "      <td>MLSC</td>\n",
              "      <td>님이 참여했습니다.</td>\n",
              "      <td></td>\n",
              "    </tr>\n",
              "    <tr>\n",
              "      <th>3</th>\n",
              "      <td>2021-07-12</td>\n",
              "      <td>20:41</td>\n",
              "      <td>VAYA</td>\n",
              "      <td>ZSOS</td>\n",
              "      <td>님이 참여했습니다.</td>\n",
              "      <td></td>\n",
              "    </tr>\n",
              "    <tr>\n",
              "      <th>4</th>\n",
              "      <td>2021-07-12</td>\n",
              "      <td>20:41</td>\n",
              "      <td>VAYA</td>\n",
              "      <td>MLSC</td>\n",
              "      <td>단톡 전용 인스타 대체일지... 자려고했는데 파들..</td>\n",
              "      <td></td>\n",
              "    </tr>\n",
              "    <tr>\n",
              "      <th>...</th>\n",
              "      <td>...</td>\n",
              "      <td>...</td>\n",
              "      <td>...</td>\n",
              "      <td>...</td>\n",
              "      <td>...</td>\n",
              "      <td>...</td>\n",
              "    </tr>\n",
              "    <tr>\n",
              "      <th>10292</th>\n",
              "      <td>2021-08-18</td>\n",
              "      <td>08:56</td>\n",
              "      <td>JOPU</td>\n",
              "      <td>BYZG</td>\n",
              "      <td>ㅎㅎ 오늘도 비가 주륵주륵~ 벼보리님 우산 잘 쓰고 다니셔요 !</td>\n",
              "      <td></td>\n",
              "    </tr>\n",
              "    <tr>\n",
              "      <th>10293</th>\n",
              "      <td>2021-08-18</td>\n",
              "      <td>17:38</td>\n",
              "      <td>JOPU</td>\n",
              "      <td>JOPU</td>\n",
              "      <td>Operator오늘은 ~ 수요일 ~ 스팀겜 하는 날~ 일주일의 절반이 벌써 다가왔네...</td>\n",
              "      <td></td>\n",
              "    </tr>\n",
              "    <tr>\n",
              "      <th>10294</th>\n",
              "      <td>2021-08-18</td>\n",
              "      <td>18:03</td>\n",
              "      <td>JOPU</td>\n",
              "      <td>CCAA</td>\n",
              "      <td>재밌는시간 보내셨겠네요 ㅎㅎ\\n저는 학교갔는데 생각했던것보단 정겹고 좋네요 은근 ㅎ...</td>\n",
              "      <td></td>\n",
              "    </tr>\n",
              "    <tr>\n",
              "      <th>10295</th>\n",
              "      <td>2021-08-18</td>\n",
              "      <td>18:15</td>\n",
              "      <td>JOPU</td>\n",
              "      <td>ZWYM</td>\n",
              "      <td>보리쟝이무화과를 먹었으니  저는 복숭아를 먹겠읍니다 후후\\n푹 쉬고 7시에 방송에서...</td>\n",
              "      <td></td>\n",
              "    </tr>\n",
              "    <tr>\n",
              "      <th>10296</th>\n",
              "      <td>2021-08-19</td>\n",
              "      <td>02:43</td>\n",
              "      <td>JOPU</td>\n",
              "      <td>CCAA</td>\n",
              "      <td>오늘 엄청 열심히하셨네요 ㅎㅎ\\n미성콘테스트 재밌게 놀다오셔요~\\n그리고 거기서 너...</td>\n",
              "      <td></td>\n",
              "    </tr>\n",
              "  </tbody>\n",
              "</table>\n",
              "<p>10297 rows × 6 columns</p>\n",
              "</div>\n",
              "      <button class=\"colab-df-convert\" onclick=\"convertToInteractive('df-86992fcd-2f55-4d4d-bd7e-531391692203')\"\n",
              "              title=\"Convert this dataframe to an interactive table.\"\n",
              "              style=\"display:none;\">\n",
              "        \n",
              "  <svg xmlns=\"http://www.w3.org/2000/svg\" height=\"24px\"viewBox=\"0 0 24 24\"\n",
              "       width=\"24px\">\n",
              "    <path d=\"M0 0h24v24H0V0z\" fill=\"none\"/>\n",
              "    <path d=\"M18.56 5.44l.94 2.06.94-2.06 2.06-.94-2.06-.94-.94-2.06-.94 2.06-2.06.94zm-11 1L8.5 8.5l.94-2.06 2.06-.94-2.06-.94L8.5 2.5l-.94 2.06-2.06.94zm10 10l.94 2.06.94-2.06 2.06-.94-2.06-.94-.94-2.06-.94 2.06-2.06.94z\"/><path d=\"M17.41 7.96l-1.37-1.37c-.4-.4-.92-.59-1.43-.59-.52 0-1.04.2-1.43.59L10.3 9.45l-7.72 7.72c-.78.78-.78 2.05 0 2.83L4 21.41c.39.39.9.59 1.41.59.51 0 1.02-.2 1.41-.59l7.78-7.78 2.81-2.81c.8-.78.8-2.07 0-2.86zM5.41 20L4 18.59l7.72-7.72 1.47 1.35L5.41 20z\"/>\n",
              "  </svg>\n",
              "      </button>\n",
              "      \n",
              "  <style>\n",
              "    .colab-df-container {\n",
              "      display:flex;\n",
              "      flex-wrap:wrap;\n",
              "      gap: 12px;\n",
              "    }\n",
              "\n",
              "    .colab-df-convert {\n",
              "      background-color: #E8F0FE;\n",
              "      border: none;\n",
              "      border-radius: 50%;\n",
              "      cursor: pointer;\n",
              "      display: none;\n",
              "      fill: #1967D2;\n",
              "      height: 32px;\n",
              "      padding: 0 0 0 0;\n",
              "      width: 32px;\n",
              "    }\n",
              "\n",
              "    .colab-df-convert:hover {\n",
              "      background-color: #E2EBFA;\n",
              "      box-shadow: 0px 1px 2px rgba(60, 64, 67, 0.3), 0px 1px 3px 1px rgba(60, 64, 67, 0.15);\n",
              "      fill: #174EA6;\n",
              "    }\n",
              "\n",
              "    [theme=dark] .colab-df-convert {\n",
              "      background-color: #3B4455;\n",
              "      fill: #D2E3FC;\n",
              "    }\n",
              "\n",
              "    [theme=dark] .colab-df-convert:hover {\n",
              "      background-color: #434B5C;\n",
              "      box-shadow: 0px 1px 3px 1px rgba(0, 0, 0, 0.15);\n",
              "      filter: drop-shadow(0px 1px 2px rgba(0, 0, 0, 0.3));\n",
              "      fill: #FFFFFF;\n",
              "    }\n",
              "  </style>\n",
              "\n",
              "      <script>\n",
              "        const buttonEl =\n",
              "          document.querySelector('#df-86992fcd-2f55-4d4d-bd7e-531391692203 button.colab-df-convert');\n",
              "        buttonEl.style.display =\n",
              "          google.colab.kernel.accessAllowed ? 'block' : 'none';\n",
              "\n",
              "        async function convertToInteractive(key) {\n",
              "          const element = document.querySelector('#df-86992fcd-2f55-4d4d-bd7e-531391692203');\n",
              "          const dataTable =\n",
              "            await google.colab.kernel.invokeFunction('convertToInteractive',\n",
              "                                                     [key], {});\n",
              "          if (!dataTable) return;\n",
              "\n",
              "          const docLinkHtml = 'Like what you see? Visit the ' +\n",
              "            '<a target=\"_blank\" href=https://colab.research.google.com/notebooks/data_table.ipynb>data table notebook</a>'\n",
              "            + ' to learn more about interactive tables.';\n",
              "          element.innerHTML = '';\n",
              "          dataTable['output_type'] = 'display_data';\n",
              "          await google.colab.output.renderOutput(dataTable, element);\n",
              "          const docLink = document.createElement('div');\n",
              "          docLink.innerHTML = docLinkHtml;\n",
              "          element.appendChild(docLink);\n",
              "        }\n",
              "      </script>\n",
              "    </div>\n",
              "  </div>\n",
              "  "
            ],
            "text/plain": [
              "             date  ... file\n",
              "0      2021-07-12  ...     \n",
              "1      2021-07-12  ...     \n",
              "2      2021-07-12  ...     \n",
              "3      2021-07-12  ...     \n",
              "4      2021-07-12  ...     \n",
              "...           ...  ...  ...\n",
              "10292  2021-08-18  ...     \n",
              "10293  2021-08-18  ...     \n",
              "10294  2021-08-18  ...     \n",
              "10295  2021-08-18  ...     \n",
              "10296  2021-08-19  ...     \n",
              "\n",
              "[10297 rows x 6 columns]"
            ]
          },
          "metadata": {},
          "execution_count": 17
        }
      ]
    },
    {
      "cell_type": "markdown",
      "source": [
        "### (1) 셀럽이 먼저 대화를 시작한 비율\n",
        "- 셀럽별    \n",
        "대화를 먼저 시작한 날짜 / 전체 대화 날짜 * 100\n",
        "- 전체 시각화 그래프   \n",
        "10명의 셀럽 비교 \n"
      ],
      "metadata": {
        "id": "w1dOxml6POKZ"
      }
    },
    {
      "cell_type": "code",
      "source": [
        "### 전처리 ###\n",
        "# \"님이 참여했습니다.\" 가 포함된 text 지우기 \n",
        "# null 값 지우기 \n",
        "\n",
        "data_start = data_isin.dropna(subset = ['comments']) # comments컬럼을 기준으로 결측값 있는 행 drop\n",
        "data_start = data_start.drop('file', axis=1) # file 컬럼 삭제\n",
        "drop_index = data_start[data_start['comments'].str.contains('님이 참여했습니다.')].index\n",
        "data_start = data_start.drop(index=drop_index)"
      ],
      "metadata": {
        "id": "2YsritXOPMmL"
      },
      "execution_count": 18,
      "outputs": []
    },
    {
      "cell_type": "code",
      "source": [
        "'''\n",
        "[note]\n",
        "- x의 형태는 dataframe (묶인 그룹별로의 df가 들어가게 됨.)\n",
        "- groupby 후, 함수를 적용해주는 방법 이용 \n",
        "- 날짜별로 셀럽이 먼저 대화를 시도 했을 경우, yes 아니면 no가 들어간다. (🥺 하지만, 12시가 넘은 밤에 대화를 했을 경우도 생각해야 함.)\n",
        "'''\n",
        "\n",
        "def func(x):\n",
        "  d = {}\n",
        "  if 'Operator' in  x.iloc[0]['comments'] :\n",
        "    d['yes/no'] = 'yes'\n",
        "  else :\n",
        "    d['yes/no'] = 'no'\n",
        "\n",
        "  return pd.Series(d, index=['yes/no'])\n",
        "  "
      ],
      "metadata": {
        "id": "XKA-GQ79nbpw"
      },
      "execution_count": 19,
      "outputs": []
    },
    {
      "cell_type": "code",
      "source": [
        "data_start_yesno = data_start.groupby(['celeb', 'date']).apply(func)\n",
        "data_start_yesno"
      ],
      "metadata": {
        "id": "JRNVuJETbRw_"
      },
      "execution_count": 20,
      "outputs": []
    },
    {
      "cell_type": "code",
      "source": [
        "# import matplotlib.font_manager as fm\n",
        "\n",
        "# # 설치된 폰트 출력\n",
        "# font_list = [font.name for font in fm.fontManager.ttflist]\n",
        "# font_list"
      ],
      "metadata": {
        "id": "dmvajkUXp6k2"
      },
      "execution_count": null,
      "outputs": []
    },
    {
      "cell_type": "code",
      "source": [
        "data_start_yesno\n",
        "# 날짜대로 정렬해야함. "
      ],
      "metadata": {
        "colab": {
          "base_uri": "https://localhost:8080/",
          "height": 455
        },
        "id": "shkHqXs0cD1_",
        "outputId": "4d4d1665-01df-41de-b32f-17bbcb3a4485"
      },
      "execution_count": 21,
      "outputs": [
        {
          "output_type": "execute_result",
          "data": {
            "text/html": [
              "\n",
              "  <div id=\"df-a448307d-377b-4cd7-9821-297ec4995b3f\">\n",
              "    <div class=\"colab-df-container\">\n",
              "      <div>\n",
              "<style scoped>\n",
              "    .dataframe tbody tr th:only-of-type {\n",
              "        vertical-align: middle;\n",
              "    }\n",
              "\n",
              "    .dataframe tbody tr th {\n",
              "        vertical-align: top;\n",
              "    }\n",
              "\n",
              "    .dataframe thead th {\n",
              "        text-align: right;\n",
              "    }\n",
              "</style>\n",
              "<table border=\"1\" class=\"dataframe\">\n",
              "  <thead>\n",
              "    <tr style=\"text-align: right;\">\n",
              "      <th></th>\n",
              "      <th></th>\n",
              "      <th>yes/no</th>\n",
              "    </tr>\n",
              "    <tr>\n",
              "      <th>celeb</th>\n",
              "      <th>date</th>\n",
              "      <th></th>\n",
              "    </tr>\n",
              "  </thead>\n",
              "  <tbody>\n",
              "    <tr>\n",
              "      <th rowspan=\"5\" valign=\"top\">CJSL</th>\n",
              "      <th>2021-06-12</th>\n",
              "      <td>yes</td>\n",
              "    </tr>\n",
              "    <tr>\n",
              "      <th>2021-06-13</th>\n",
              "      <td>no</td>\n",
              "    </tr>\n",
              "    <tr>\n",
              "      <th>2021-06-14</th>\n",
              "      <td>no</td>\n",
              "    </tr>\n",
              "    <tr>\n",
              "      <th>2021-06-15</th>\n",
              "      <td>yes</td>\n",
              "    </tr>\n",
              "    <tr>\n",
              "      <th>2021-06-16</th>\n",
              "      <td>no</td>\n",
              "    </tr>\n",
              "    <tr>\n",
              "      <th>...</th>\n",
              "      <th>...</th>\n",
              "      <td>...</td>\n",
              "    </tr>\n",
              "    <tr>\n",
              "      <th rowspan=\"5\" valign=\"top\">XMSQ</th>\n",
              "      <th>2021-08-15</th>\n",
              "      <td>no</td>\n",
              "    </tr>\n",
              "    <tr>\n",
              "      <th>2021-08-16</th>\n",
              "      <td>no</td>\n",
              "    </tr>\n",
              "    <tr>\n",
              "      <th>2021-08-17</th>\n",
              "      <td>no</td>\n",
              "    </tr>\n",
              "    <tr>\n",
              "      <th>2021-08-18</th>\n",
              "      <td>no</td>\n",
              "    </tr>\n",
              "    <tr>\n",
              "      <th>2021-08-19</th>\n",
              "      <td>no</td>\n",
              "    </tr>\n",
              "  </tbody>\n",
              "</table>\n",
              "<p>294 rows × 1 columns</p>\n",
              "</div>\n",
              "      <button class=\"colab-df-convert\" onclick=\"convertToInteractive('df-a448307d-377b-4cd7-9821-297ec4995b3f')\"\n",
              "              title=\"Convert this dataframe to an interactive table.\"\n",
              "              style=\"display:none;\">\n",
              "        \n",
              "  <svg xmlns=\"http://www.w3.org/2000/svg\" height=\"24px\"viewBox=\"0 0 24 24\"\n",
              "       width=\"24px\">\n",
              "    <path d=\"M0 0h24v24H0V0z\" fill=\"none\"/>\n",
              "    <path d=\"M18.56 5.44l.94 2.06.94-2.06 2.06-.94-2.06-.94-.94-2.06-.94 2.06-2.06.94zm-11 1L8.5 8.5l.94-2.06 2.06-.94-2.06-.94L8.5 2.5l-.94 2.06-2.06.94zm10 10l.94 2.06.94-2.06 2.06-.94-2.06-.94-.94-2.06-.94 2.06-2.06.94z\"/><path d=\"M17.41 7.96l-1.37-1.37c-.4-.4-.92-.59-1.43-.59-.52 0-1.04.2-1.43.59L10.3 9.45l-7.72 7.72c-.78.78-.78 2.05 0 2.83L4 21.41c.39.39.9.59 1.41.59.51 0 1.02-.2 1.41-.59l7.78-7.78 2.81-2.81c.8-.78.8-2.07 0-2.86zM5.41 20L4 18.59l7.72-7.72 1.47 1.35L5.41 20z\"/>\n",
              "  </svg>\n",
              "      </button>\n",
              "      \n",
              "  <style>\n",
              "    .colab-df-container {\n",
              "      display:flex;\n",
              "      flex-wrap:wrap;\n",
              "      gap: 12px;\n",
              "    }\n",
              "\n",
              "    .colab-df-convert {\n",
              "      background-color: #E8F0FE;\n",
              "      border: none;\n",
              "      border-radius: 50%;\n",
              "      cursor: pointer;\n",
              "      display: none;\n",
              "      fill: #1967D2;\n",
              "      height: 32px;\n",
              "      padding: 0 0 0 0;\n",
              "      width: 32px;\n",
              "    }\n",
              "\n",
              "    .colab-df-convert:hover {\n",
              "      background-color: #E2EBFA;\n",
              "      box-shadow: 0px 1px 2px rgba(60, 64, 67, 0.3), 0px 1px 3px 1px rgba(60, 64, 67, 0.15);\n",
              "      fill: #174EA6;\n",
              "    }\n",
              "\n",
              "    [theme=dark] .colab-df-convert {\n",
              "      background-color: #3B4455;\n",
              "      fill: #D2E3FC;\n",
              "    }\n",
              "\n",
              "    [theme=dark] .colab-df-convert:hover {\n",
              "      background-color: #434B5C;\n",
              "      box-shadow: 0px 1px 3px 1px rgba(0, 0, 0, 0.15);\n",
              "      filter: drop-shadow(0px 1px 2px rgba(0, 0, 0, 0.3));\n",
              "      fill: #FFFFFF;\n",
              "    }\n",
              "  </style>\n",
              "\n",
              "      <script>\n",
              "        const buttonEl =\n",
              "          document.querySelector('#df-a448307d-377b-4cd7-9821-297ec4995b3f button.colab-df-convert');\n",
              "        buttonEl.style.display =\n",
              "          google.colab.kernel.accessAllowed ? 'block' : 'none';\n",
              "\n",
              "        async function convertToInteractive(key) {\n",
              "          const element = document.querySelector('#df-a448307d-377b-4cd7-9821-297ec4995b3f');\n",
              "          const dataTable =\n",
              "            await google.colab.kernel.invokeFunction('convertToInteractive',\n",
              "                                                     [key], {});\n",
              "          if (!dataTable) return;\n",
              "\n",
              "          const docLinkHtml = 'Like what you see? Visit the ' +\n",
              "            '<a target=\"_blank\" href=https://colab.research.google.com/notebooks/data_table.ipynb>data table notebook</a>'\n",
              "            + ' to learn more about interactive tables.';\n",
              "          element.innerHTML = '';\n",
              "          dataTable['output_type'] = 'display_data';\n",
              "          await google.colab.output.renderOutput(dataTable, element);\n",
              "          const docLink = document.createElement('div');\n",
              "          docLink.innerHTML = docLinkHtml;\n",
              "          element.appendChild(docLink);\n",
              "        }\n",
              "      </script>\n",
              "    </div>\n",
              "  </div>\n",
              "  "
            ],
            "text/plain": [
              "                 yes/no\n",
              "celeb date             \n",
              "CJSL  2021-06-12    yes\n",
              "      2021-06-13     no\n",
              "      2021-06-14     no\n",
              "      2021-06-15    yes\n",
              "      2021-06-16     no\n",
              "...                 ...\n",
              "XMSQ  2021-08-15     no\n",
              "      2021-08-16     no\n",
              "      2021-08-17     no\n",
              "      2021-08-18     no\n",
              "      2021-08-19     no\n",
              "\n",
              "[294 rows x 1 columns]"
            ]
          },
          "metadata": {},
          "execution_count": 21
        }
      ]
    },
    {
      "cell_type": "code",
      "source": [
        "data_start_yesno = data_start_yesno.groupby(['celeb', 'yes/no']).size().unstack(fill_value=0)"
      ],
      "metadata": {
        "id": "Ua4Ryjew3XEJ"
      },
      "execution_count": 43,
      "outputs": []
    },
    {
      "cell_type": "code",
      "source": [
        "data_start_yesno['yes_persent'] = (data_start_yesno['yes']/(data_start_yesno['no'] + data_start_yesno['yes'])) * 100"
      ],
      "metadata": {
        "id": "Huriv0-24NaD"
      },
      "execution_count": 45,
      "outputs": []
    },
    {
      "cell_type": "code",
      "source": [
        "data_start_yesno"
      ],
      "metadata": {
        "colab": {
          "base_uri": "https://localhost:8080/",
          "height": 394
        },
        "id": "W1FfTpET5RDe",
        "outputId": "d595fac8-a4d6-4913-c7d3-c81ea5512c4b"
      },
      "execution_count": 46,
      "outputs": [
        {
          "output_type": "execute_result",
          "data": {
            "text/html": [
              "\n",
              "  <div id=\"df-a966f951-3cd6-4534-939a-f6261324ac9f\">\n",
              "    <div class=\"colab-df-container\">\n",
              "      <div>\n",
              "<style scoped>\n",
              "    .dataframe tbody tr th:only-of-type {\n",
              "        vertical-align: middle;\n",
              "    }\n",
              "\n",
              "    .dataframe tbody tr th {\n",
              "        vertical-align: top;\n",
              "    }\n",
              "\n",
              "    .dataframe thead th {\n",
              "        text-align: right;\n",
              "    }\n",
              "</style>\n",
              "<table border=\"1\" class=\"dataframe\">\n",
              "  <thead>\n",
              "    <tr style=\"text-align: right;\">\n",
              "      <th>yes/no</th>\n",
              "      <th>no</th>\n",
              "      <th>yes</th>\n",
              "      <th>yes_persent</th>\n",
              "    </tr>\n",
              "    <tr>\n",
              "      <th>celeb</th>\n",
              "      <th></th>\n",
              "      <th></th>\n",
              "      <th></th>\n",
              "    </tr>\n",
              "  </thead>\n",
              "  <tbody>\n",
              "    <tr>\n",
              "      <th>CJSL</th>\n",
              "      <td>32</td>\n",
              "      <td>36</td>\n",
              "      <td>52.941176</td>\n",
              "    </tr>\n",
              "    <tr>\n",
              "      <th>DQZB</th>\n",
              "      <td>16</td>\n",
              "      <td>13</td>\n",
              "      <td>44.827586</td>\n",
              "    </tr>\n",
              "    <tr>\n",
              "      <th>JLDN</th>\n",
              "      <td>24</td>\n",
              "      <td>15</td>\n",
              "      <td>38.461538</td>\n",
              "    </tr>\n",
              "    <tr>\n",
              "      <th>JOPU</th>\n",
              "      <td>7</td>\n",
              "      <td>1</td>\n",
              "      <td>12.500000</td>\n",
              "    </tr>\n",
              "    <tr>\n",
              "      <th>JSEU</th>\n",
              "      <td>5</td>\n",
              "      <td>2</td>\n",
              "      <td>28.571429</td>\n",
              "    </tr>\n",
              "    <tr>\n",
              "      <th>LOVM</th>\n",
              "      <td>6</td>\n",
              "      <td>1</td>\n",
              "      <td>14.285714</td>\n",
              "    </tr>\n",
              "    <tr>\n",
              "      <th>OSQR</th>\n",
              "      <td>8</td>\n",
              "      <td>7</td>\n",
              "      <td>46.666667</td>\n",
              "    </tr>\n",
              "    <tr>\n",
              "      <th>VAYA</th>\n",
              "      <td>32</td>\n",
              "      <td>7</td>\n",
              "      <td>17.948718</td>\n",
              "    </tr>\n",
              "    <tr>\n",
              "      <th>WKDG</th>\n",
              "      <td>37</td>\n",
              "      <td>5</td>\n",
              "      <td>11.904762</td>\n",
              "    </tr>\n",
              "    <tr>\n",
              "      <th>XMSQ</th>\n",
              "      <td>33</td>\n",
              "      <td>7</td>\n",
              "      <td>17.500000</td>\n",
              "    </tr>\n",
              "  </tbody>\n",
              "</table>\n",
              "</div>\n",
              "      <button class=\"colab-df-convert\" onclick=\"convertToInteractive('df-a966f951-3cd6-4534-939a-f6261324ac9f')\"\n",
              "              title=\"Convert this dataframe to an interactive table.\"\n",
              "              style=\"display:none;\">\n",
              "        \n",
              "  <svg xmlns=\"http://www.w3.org/2000/svg\" height=\"24px\"viewBox=\"0 0 24 24\"\n",
              "       width=\"24px\">\n",
              "    <path d=\"M0 0h24v24H0V0z\" fill=\"none\"/>\n",
              "    <path d=\"M18.56 5.44l.94 2.06.94-2.06 2.06-.94-2.06-.94-.94-2.06-.94 2.06-2.06.94zm-11 1L8.5 8.5l.94-2.06 2.06-.94-2.06-.94L8.5 2.5l-.94 2.06-2.06.94zm10 10l.94 2.06.94-2.06 2.06-.94-2.06-.94-.94-2.06-.94 2.06-2.06.94z\"/><path d=\"M17.41 7.96l-1.37-1.37c-.4-.4-.92-.59-1.43-.59-.52 0-1.04.2-1.43.59L10.3 9.45l-7.72 7.72c-.78.78-.78 2.05 0 2.83L4 21.41c.39.39.9.59 1.41.59.51 0 1.02-.2 1.41-.59l7.78-7.78 2.81-2.81c.8-.78.8-2.07 0-2.86zM5.41 20L4 18.59l7.72-7.72 1.47 1.35L5.41 20z\"/>\n",
              "  </svg>\n",
              "      </button>\n",
              "      \n",
              "  <style>\n",
              "    .colab-df-container {\n",
              "      display:flex;\n",
              "      flex-wrap:wrap;\n",
              "      gap: 12px;\n",
              "    }\n",
              "\n",
              "    .colab-df-convert {\n",
              "      background-color: #E8F0FE;\n",
              "      border: none;\n",
              "      border-radius: 50%;\n",
              "      cursor: pointer;\n",
              "      display: none;\n",
              "      fill: #1967D2;\n",
              "      height: 32px;\n",
              "      padding: 0 0 0 0;\n",
              "      width: 32px;\n",
              "    }\n",
              "\n",
              "    .colab-df-convert:hover {\n",
              "      background-color: #E2EBFA;\n",
              "      box-shadow: 0px 1px 2px rgba(60, 64, 67, 0.3), 0px 1px 3px 1px rgba(60, 64, 67, 0.15);\n",
              "      fill: #174EA6;\n",
              "    }\n",
              "\n",
              "    [theme=dark] .colab-df-convert {\n",
              "      background-color: #3B4455;\n",
              "      fill: #D2E3FC;\n",
              "    }\n",
              "\n",
              "    [theme=dark] .colab-df-convert:hover {\n",
              "      background-color: #434B5C;\n",
              "      box-shadow: 0px 1px 3px 1px rgba(0, 0, 0, 0.15);\n",
              "      filter: drop-shadow(0px 1px 2px rgba(0, 0, 0, 0.3));\n",
              "      fill: #FFFFFF;\n",
              "    }\n",
              "  </style>\n",
              "\n",
              "      <script>\n",
              "        const buttonEl =\n",
              "          document.querySelector('#df-a966f951-3cd6-4534-939a-f6261324ac9f button.colab-df-convert');\n",
              "        buttonEl.style.display =\n",
              "          google.colab.kernel.accessAllowed ? 'block' : 'none';\n",
              "\n",
              "        async function convertToInteractive(key) {\n",
              "          const element = document.querySelector('#df-a966f951-3cd6-4534-939a-f6261324ac9f');\n",
              "          const dataTable =\n",
              "            await google.colab.kernel.invokeFunction('convertToInteractive',\n",
              "                                                     [key], {});\n",
              "          if (!dataTable) return;\n",
              "\n",
              "          const docLinkHtml = 'Like what you see? Visit the ' +\n",
              "            '<a target=\"_blank\" href=https://colab.research.google.com/notebooks/data_table.ipynb>data table notebook</a>'\n",
              "            + ' to learn more about interactive tables.';\n",
              "          element.innerHTML = '';\n",
              "          dataTable['output_type'] = 'display_data';\n",
              "          await google.colab.output.renderOutput(dataTable, element);\n",
              "          const docLink = document.createElement('div');\n",
              "          docLink.innerHTML = docLinkHtml;\n",
              "          element.appendChild(docLink);\n",
              "        }\n",
              "      </script>\n",
              "    </div>\n",
              "  </div>\n",
              "  "
            ],
            "text/plain": [
              "yes/no  no  yes  yes_persent\n",
              "celeb                       \n",
              "CJSL    32   36    52.941176\n",
              "DQZB    16   13    44.827586\n",
              "JLDN    24   15    38.461538\n",
              "JOPU     7    1    12.500000\n",
              "JSEU     5    2    28.571429\n",
              "LOVM     6    1    14.285714\n",
              "OSQR     8    7    46.666667\n",
              "VAYA    32    7    17.948718\n",
              "WKDG    37    5    11.904762\n",
              "XMSQ    33    7    17.500000"
            ]
          },
          "metadata": {},
          "execution_count": 46
        }
      ]
    },
    {
      "cell_type": "code",
      "source": [
        "data_start_yesno['celeb'] = data_start_yesno.index"
      ],
      "metadata": {
        "id": "H6W5dgzO6Oug"
      },
      "execution_count": 49,
      "outputs": []
    },
    {
      "cell_type": "markdown",
      "source": [
        "🥺 하위권 셀럽들의 비율을 같이 구하여 비교하면..? (데이터 받은 후에 생각해보자)"
      ],
      "metadata": {
        "id": "jkBnM_Hb278p"
      }
    },
    {
      "cell_type": "markdown",
      "source": [
        "🥺 나중에 다듬을때, 꼭 순위별로 줄을 세우는 것이 좋을 것 같다."
      ],
      "metadata": {
        "id": "BYtM-jlB6ZC7"
      }
    },
    {
      "cell_type": "code",
      "source": [
        "data_start_yesno"
      ],
      "metadata": {
        "colab": {
          "base_uri": "https://localhost:8080/",
          "height": 394
        },
        "id": "jwzwSJIg6TQM",
        "outputId": "06f10dc2-8bf3-4950-aaba-34c2fcee28be"
      },
      "execution_count": 50,
      "outputs": [
        {
          "output_type": "execute_result",
          "data": {
            "text/html": [
              "\n",
              "  <div id=\"df-8e9cc97f-258d-465d-98eb-f16bcc4771da\">\n",
              "    <div class=\"colab-df-container\">\n",
              "      <div>\n",
              "<style scoped>\n",
              "    .dataframe tbody tr th:only-of-type {\n",
              "        vertical-align: middle;\n",
              "    }\n",
              "\n",
              "    .dataframe tbody tr th {\n",
              "        vertical-align: top;\n",
              "    }\n",
              "\n",
              "    .dataframe thead th {\n",
              "        text-align: right;\n",
              "    }\n",
              "</style>\n",
              "<table border=\"1\" class=\"dataframe\">\n",
              "  <thead>\n",
              "    <tr style=\"text-align: right;\">\n",
              "      <th>yes/no</th>\n",
              "      <th>no</th>\n",
              "      <th>yes</th>\n",
              "      <th>yes_persent</th>\n",
              "      <th>celeb</th>\n",
              "    </tr>\n",
              "    <tr>\n",
              "      <th>celeb</th>\n",
              "      <th></th>\n",
              "      <th></th>\n",
              "      <th></th>\n",
              "      <th></th>\n",
              "    </tr>\n",
              "  </thead>\n",
              "  <tbody>\n",
              "    <tr>\n",
              "      <th>CJSL</th>\n",
              "      <td>32</td>\n",
              "      <td>36</td>\n",
              "      <td>52.941176</td>\n",
              "      <td>CJSL</td>\n",
              "    </tr>\n",
              "    <tr>\n",
              "      <th>DQZB</th>\n",
              "      <td>16</td>\n",
              "      <td>13</td>\n",
              "      <td>44.827586</td>\n",
              "      <td>DQZB</td>\n",
              "    </tr>\n",
              "    <tr>\n",
              "      <th>JLDN</th>\n",
              "      <td>24</td>\n",
              "      <td>15</td>\n",
              "      <td>38.461538</td>\n",
              "      <td>JLDN</td>\n",
              "    </tr>\n",
              "    <tr>\n",
              "      <th>JOPU</th>\n",
              "      <td>7</td>\n",
              "      <td>1</td>\n",
              "      <td>12.500000</td>\n",
              "      <td>JOPU</td>\n",
              "    </tr>\n",
              "    <tr>\n",
              "      <th>JSEU</th>\n",
              "      <td>5</td>\n",
              "      <td>2</td>\n",
              "      <td>28.571429</td>\n",
              "      <td>JSEU</td>\n",
              "    </tr>\n",
              "    <tr>\n",
              "      <th>LOVM</th>\n",
              "      <td>6</td>\n",
              "      <td>1</td>\n",
              "      <td>14.285714</td>\n",
              "      <td>LOVM</td>\n",
              "    </tr>\n",
              "    <tr>\n",
              "      <th>OSQR</th>\n",
              "      <td>8</td>\n",
              "      <td>7</td>\n",
              "      <td>46.666667</td>\n",
              "      <td>OSQR</td>\n",
              "    </tr>\n",
              "    <tr>\n",
              "      <th>VAYA</th>\n",
              "      <td>32</td>\n",
              "      <td>7</td>\n",
              "      <td>17.948718</td>\n",
              "      <td>VAYA</td>\n",
              "    </tr>\n",
              "    <tr>\n",
              "      <th>WKDG</th>\n",
              "      <td>37</td>\n",
              "      <td>5</td>\n",
              "      <td>11.904762</td>\n",
              "      <td>WKDG</td>\n",
              "    </tr>\n",
              "    <tr>\n",
              "      <th>XMSQ</th>\n",
              "      <td>33</td>\n",
              "      <td>7</td>\n",
              "      <td>17.500000</td>\n",
              "      <td>XMSQ</td>\n",
              "    </tr>\n",
              "  </tbody>\n",
              "</table>\n",
              "</div>\n",
              "      <button class=\"colab-df-convert\" onclick=\"convertToInteractive('df-8e9cc97f-258d-465d-98eb-f16bcc4771da')\"\n",
              "              title=\"Convert this dataframe to an interactive table.\"\n",
              "              style=\"display:none;\">\n",
              "        \n",
              "  <svg xmlns=\"http://www.w3.org/2000/svg\" height=\"24px\"viewBox=\"0 0 24 24\"\n",
              "       width=\"24px\">\n",
              "    <path d=\"M0 0h24v24H0V0z\" fill=\"none\"/>\n",
              "    <path d=\"M18.56 5.44l.94 2.06.94-2.06 2.06-.94-2.06-.94-.94-2.06-.94 2.06-2.06.94zm-11 1L8.5 8.5l.94-2.06 2.06-.94-2.06-.94L8.5 2.5l-.94 2.06-2.06.94zm10 10l.94 2.06.94-2.06 2.06-.94-2.06-.94-.94-2.06-.94 2.06-2.06.94z\"/><path d=\"M17.41 7.96l-1.37-1.37c-.4-.4-.92-.59-1.43-.59-.52 0-1.04.2-1.43.59L10.3 9.45l-7.72 7.72c-.78.78-.78 2.05 0 2.83L4 21.41c.39.39.9.59 1.41.59.51 0 1.02-.2 1.41-.59l7.78-7.78 2.81-2.81c.8-.78.8-2.07 0-2.86zM5.41 20L4 18.59l7.72-7.72 1.47 1.35L5.41 20z\"/>\n",
              "  </svg>\n",
              "      </button>\n",
              "      \n",
              "  <style>\n",
              "    .colab-df-container {\n",
              "      display:flex;\n",
              "      flex-wrap:wrap;\n",
              "      gap: 12px;\n",
              "    }\n",
              "\n",
              "    .colab-df-convert {\n",
              "      background-color: #E8F0FE;\n",
              "      border: none;\n",
              "      border-radius: 50%;\n",
              "      cursor: pointer;\n",
              "      display: none;\n",
              "      fill: #1967D2;\n",
              "      height: 32px;\n",
              "      padding: 0 0 0 0;\n",
              "      width: 32px;\n",
              "    }\n",
              "\n",
              "    .colab-df-convert:hover {\n",
              "      background-color: #E2EBFA;\n",
              "      box-shadow: 0px 1px 2px rgba(60, 64, 67, 0.3), 0px 1px 3px 1px rgba(60, 64, 67, 0.15);\n",
              "      fill: #174EA6;\n",
              "    }\n",
              "\n",
              "    [theme=dark] .colab-df-convert {\n",
              "      background-color: #3B4455;\n",
              "      fill: #D2E3FC;\n",
              "    }\n",
              "\n",
              "    [theme=dark] .colab-df-convert:hover {\n",
              "      background-color: #434B5C;\n",
              "      box-shadow: 0px 1px 3px 1px rgba(0, 0, 0, 0.15);\n",
              "      filter: drop-shadow(0px 1px 2px rgba(0, 0, 0, 0.3));\n",
              "      fill: #FFFFFF;\n",
              "    }\n",
              "  </style>\n",
              "\n",
              "      <script>\n",
              "        const buttonEl =\n",
              "          document.querySelector('#df-8e9cc97f-258d-465d-98eb-f16bcc4771da button.colab-df-convert');\n",
              "        buttonEl.style.display =\n",
              "          google.colab.kernel.accessAllowed ? 'block' : 'none';\n",
              "\n",
              "        async function convertToInteractive(key) {\n",
              "          const element = document.querySelector('#df-8e9cc97f-258d-465d-98eb-f16bcc4771da');\n",
              "          const dataTable =\n",
              "            await google.colab.kernel.invokeFunction('convertToInteractive',\n",
              "                                                     [key], {});\n",
              "          if (!dataTable) return;\n",
              "\n",
              "          const docLinkHtml = 'Like what you see? Visit the ' +\n",
              "            '<a target=\"_blank\" href=https://colab.research.google.com/notebooks/data_table.ipynb>data table notebook</a>'\n",
              "            + ' to learn more about interactive tables.';\n",
              "          element.innerHTML = '';\n",
              "          dataTable['output_type'] = 'display_data';\n",
              "          await google.colab.output.renderOutput(dataTable, element);\n",
              "          const docLink = document.createElement('div');\n",
              "          docLink.innerHTML = docLinkHtml;\n",
              "          element.appendChild(docLink);\n",
              "        }\n",
              "      </script>\n",
              "    </div>\n",
              "  </div>\n",
              "  "
            ],
            "text/plain": [
              "yes/no  no  yes  yes_persent celeb\n",
              "celeb                             \n",
              "CJSL    32   36    52.941176  CJSL\n",
              "DQZB    16   13    44.827586  DQZB\n",
              "JLDN    24   15    38.461538  JLDN\n",
              "JOPU     7    1    12.500000  JOPU\n",
              "JSEU     5    2    28.571429  JSEU\n",
              "LOVM     6    1    14.285714  LOVM\n",
              "OSQR     8    7    46.666667  OSQR\n",
              "VAYA    32    7    17.948718  VAYA\n",
              "WKDG    37    5    11.904762  WKDG\n",
              "XMSQ    33    7    17.500000  XMSQ"
            ]
          },
          "metadata": {},
          "execution_count": 50
        }
      ]
    },
    {
      "cell_type": "code",
      "source": [
        "# 셀럽 별 yes와 no비율 구하기 \n",
        "\n",
        "import numpy as np\n",
        "import pandas as pd\n",
        "import matplotlib.pyplot as plt\n",
        "import seaborn as sns\n",
        "\n",
        "plt.figure(figsize=(13, 7))\n",
        "sns.set_style(\"darkgrid\")\n",
        "sns.set(font_scale = 2)\n",
        "sns.set_palette('rainbow')\n",
        "g_start = sns.barplot(data=data_start_yesno, x=\"celeb\", y=\"yes_persent\")\n",
        "g_start.set_title(\"셀럽이 먼저 대화를 시작한 비율 (오전 12시 기준)\")\n",
        "plt.rc('font', family='NanumBarunGothic') "
      ],
      "metadata": {
        "colab": {
          "base_uri": "https://localhost:8080/",
          "height": 500
        },
        "id": "CES8iAMj5ZWN",
        "outputId": "00fac66a-8dc4-4147-9422-24408ff0198d"
      },
      "execution_count": 55,
      "outputs": [
        {
          "output_type": "display_data",
          "data": {
            "image/png": "[encoded data removed]",
            "text/plain": [
              "<Figure size 936x504 with 1 Axes>"
            ]
          },
          "metadata": {}
        }
      ]
    },
    {
      "cell_type": "code",
      "source": [
        "# 대화 시간 구해야 함!!\n",
        "# 대화 시간은 x축이 시간, y축이 하루에서 차지하는 대화 비율"
      ],
      "metadata": {
        "id": "EqofGxr77aNA"
      },
      "execution_count": null,
      "outputs": []
    },
    {
      "cell_type": "markdown",
      "source": [
        "### (2) 대화 시간대 \n",
        "- 그래프 x축 : 시간 (00시~24시)\n",
        "- 그래프 y축 : 대화 비율 (퍼센트)"
      ],
      "metadata": {
        "id": "7kn3nYhZWaXn"
      }
    },
    {
      "cell_type": "code",
      "source": [
        "data_contime = data.drop('Unnamed: 0', axis=1) # 전처리가 잘된 데이터의 경우 drop뒤로는 날려주세요."
      ],
      "metadata": {
        "id": "FZoTqW2uW-tb"
      },
      "execution_count": 57,
      "outputs": []
    },
    {
      "cell_type": "code",
      "source": [
        "data_contime"
      ],
      "metadata": {
        "colab": {
          "base_uri": "https://localhost:8080/",
          "height": 423
        },
        "id": "T-rclO1SZELz",
        "outputId": "9e5573ed-f290-4579-c65f-6cdf8c07720c"
      },
      "execution_count": 66,
      "outputs": [
        {
          "output_type": "execute_result",
          "data": {
            "text/html": [
              "\n",
              "  <div id=\"df-3a994564-6779-4231-ad8e-c7537929f69f\">\n",
              "    <div class=\"colab-df-container\">\n",
              "      <div>\n",
              "<style scoped>\n",
              "    .dataframe tbody tr th:only-of-type {\n",
              "        vertical-align: middle;\n",
              "    }\n",
              "\n",
              "    .dataframe tbody tr th {\n",
              "        vertical-align: top;\n",
              "    }\n",
              "\n",
              "    .dataframe thead th {\n",
              "        text-align: right;\n",
              "    }\n",
              "</style>\n",
              "<table border=\"1\" class=\"dataframe\">\n",
              "  <thead>\n",
              "    <tr style=\"text-align: right;\">\n",
              "      <th></th>\n",
              "      <th>time</th>\n",
              "      <th>celeb</th>\n",
              "      <th>code</th>\n",
              "    </tr>\n",
              "  </thead>\n",
              "  <tbody>\n",
              "    <tr>\n",
              "      <th>0</th>\n",
              "      <td>20:39</td>\n",
              "      <td>VAYA</td>\n",
              "      <td>KAMF</td>\n",
              "    </tr>\n",
              "    <tr>\n",
              "      <th>1</th>\n",
              "      <td>20:40</td>\n",
              "      <td>VAYA</td>\n",
              "      <td>KAMF</td>\n",
              "    </tr>\n",
              "    <tr>\n",
              "      <th>2</th>\n",
              "      <td>20:40</td>\n",
              "      <td>VAYA</td>\n",
              "      <td>MLSC</td>\n",
              "    </tr>\n",
              "    <tr>\n",
              "      <th>3</th>\n",
              "      <td>20:41</td>\n",
              "      <td>VAYA</td>\n",
              "      <td>ZSOS</td>\n",
              "    </tr>\n",
              "    <tr>\n",
              "      <th>4</th>\n",
              "      <td>20:41</td>\n",
              "      <td>VAYA</td>\n",
              "      <td>MLSC</td>\n",
              "    </tr>\n",
              "    <tr>\n",
              "      <th>...</th>\n",
              "      <td>...</td>\n",
              "      <td>...</td>\n",
              "      <td>...</td>\n",
              "    </tr>\n",
              "    <tr>\n",
              "      <th>10292</th>\n",
              "      <td>08:56</td>\n",
              "      <td>JOPU</td>\n",
              "      <td>BYZG</td>\n",
              "    </tr>\n",
              "    <tr>\n",
              "      <th>10293</th>\n",
              "      <td>17:38</td>\n",
              "      <td>JOPU</td>\n",
              "      <td>JOPU</td>\n",
              "    </tr>\n",
              "    <tr>\n",
              "      <th>10294</th>\n",
              "      <td>18:03</td>\n",
              "      <td>JOPU</td>\n",
              "      <td>CCAA</td>\n",
              "    </tr>\n",
              "    <tr>\n",
              "      <th>10295</th>\n",
              "      <td>18:15</td>\n",
              "      <td>JOPU</td>\n",
              "      <td>ZWYM</td>\n",
              "    </tr>\n",
              "    <tr>\n",
              "      <th>10296</th>\n",
              "      <td>02:43</td>\n",
              "      <td>JOPU</td>\n",
              "      <td>CCAA</td>\n",
              "    </tr>\n",
              "  </tbody>\n",
              "</table>\n",
              "<p>10297 rows × 3 columns</p>\n",
              "</div>\n",
              "      <button class=\"colab-df-convert\" onclick=\"convertToInteractive('df-3a994564-6779-4231-ad8e-c7537929f69f')\"\n",
              "              title=\"Convert this dataframe to an interactive table.\"\n",
              "              style=\"display:none;\">\n",
              "        \n",
              "  <svg xmlns=\"http://www.w3.org/2000/svg\" height=\"24px\"viewBox=\"0 0 24 24\"\n",
              "       width=\"24px\">\n",
              "    <path d=\"M0 0h24v24H0V0z\" fill=\"none\"/>\n",
              "    <path d=\"M18.56 5.44l.94 2.06.94-2.06 2.06-.94-2.06-.94-.94-2.06-.94 2.06-2.06.94zm-11 1L8.5 8.5l.94-2.06 2.06-.94-2.06-.94L8.5 2.5l-.94 2.06-2.06.94zm10 10l.94 2.06.94-2.06 2.06-.94-2.06-.94-.94-2.06-.94 2.06-2.06.94z\"/><path d=\"M17.41 7.96l-1.37-1.37c-.4-.4-.92-.59-1.43-.59-.52 0-1.04.2-1.43.59L10.3 9.45l-7.72 7.72c-.78.78-.78 2.05 0 2.83L4 21.41c.39.39.9.59 1.41.59.51 0 1.02-.2 1.41-.59l7.78-7.78 2.81-2.81c.8-.78.8-2.07 0-2.86zM5.41 20L4 18.59l7.72-7.72 1.47 1.35L5.41 20z\"/>\n",
              "  </svg>\n",
              "      </button>\n",
              "      \n",
              "  <style>\n",
              "    .colab-df-container {\n",
              "      display:flex;\n",
              "      flex-wrap:wrap;\n",
              "      gap: 12px;\n",
              "    }\n",
              "\n",
              "    .colab-df-convert {\n",
              "      background-color: #E8F0FE;\n",
              "      border: none;\n",
              "      border-radius: 50%;\n",
              "      cursor: pointer;\n",
              "      display: none;\n",
              "      fill: #1967D2;\n",
              "      height: 32px;\n",
              "      padding: 0 0 0 0;\n",
              "      width: 32px;\n",
              "    }\n",
              "\n",
              "    .colab-df-convert:hover {\n",
              "      background-color: #E2EBFA;\n",
              "      box-shadow: 0px 1px 2px rgba(60, 64, 67, 0.3), 0px 1px 3px 1px rgba(60, 64, 67, 0.15);\n",
              "      fill: #174EA6;\n",
              "    }\n",
              "\n",
              "    [theme=dark] .colab-df-convert {\n",
              "      background-color: #3B4455;\n",
              "      fill: #D2E3FC;\n",
              "    }\n",
              "\n",
              "    [theme=dark] .colab-df-convert:hover {\n",
              "      background-color: #434B5C;\n",
              "      box-shadow: 0px 1px 3px 1px rgba(0, 0, 0, 0.15);\n",
              "      filter: drop-shadow(0px 1px 2px rgba(0, 0, 0, 0.3));\n",
              "      fill: #FFFFFF;\n",
              "    }\n",
              "  </style>\n",
              "\n",
              "      <script>\n",
              "        const buttonEl =\n",
              "          document.querySelector('#df-3a994564-6779-4231-ad8e-c7537929f69f button.colab-df-convert');\n",
              "        buttonEl.style.display =\n",
              "          google.colab.kernel.accessAllowed ? 'block' : 'none';\n",
              "\n",
              "        async function convertToInteractive(key) {\n",
              "          const element = document.querySelector('#df-3a994564-6779-4231-ad8e-c7537929f69f');\n",
              "          const dataTable =\n",
              "            await google.colab.kernel.invokeFunction('convertToInteractive',\n",
              "                                                     [key], {});\n",
              "          if (!dataTable) return;\n",
              "\n",
              "          const docLinkHtml = 'Like what you see? Visit the ' +\n",
              "            '<a target=\"_blank\" href=https://colab.research.google.com/notebooks/data_table.ipynb>data table notebook</a>'\n",
              "            + ' to learn more about interactive tables.';\n",
              "          element.innerHTML = '';\n",
              "          dataTable['output_type'] = 'display_data';\n",
              "          await google.colab.output.renderOutput(dataTable, element);\n",
              "          const docLink = document.createElement('div');\n",
              "          docLink.innerHTML = docLinkHtml;\n",
              "          element.appendChild(docLink);\n",
              "        }\n",
              "      </script>\n",
              "    </div>\n",
              "  </div>\n",
              "  "
            ],
            "text/plain": [
              "        time celeb  code\n",
              "0      20:39  VAYA  KAMF\n",
              "1      20:40  VAYA  KAMF\n",
              "2      20:40  VAYA  MLSC\n",
              "3      20:41  VAYA  ZSOS\n",
              "4      20:41  VAYA  MLSC\n",
              "...      ...   ...   ...\n",
              "10292  08:56  JOPU  BYZG\n",
              "10293  17:38  JOPU  JOPU\n",
              "10294  18:03  JOPU  CCAA\n",
              "10295  18:15  JOPU  ZWYM\n",
              "10296  02:43  JOPU  CCAA\n",
              "\n",
              "[10297 rows x 3 columns]"
            ]
          },
          "metadata": {},
          "execution_count": 66
        }
      ]
    },
    {
      "cell_type": "code",
      "source": [
        "data_contime = data_contime[['time', 'celeb', 'code']] # 'code'는 comments와 file을 합친 값으로 count할 수 있기 때문에 남겨준다."
      ],
      "metadata": {
        "id": "jI0s1cGwaMWz"
      },
      "execution_count": 65,
      "outputs": []
    },
    {
      "cell_type": "code",
      "source": [
        "a = data_contime.groupby(['celeb', 'time']).count()"
      ],
      "metadata": {
        "id": "3SAp27ahZKSh"
      },
      "execution_count": 72,
      "outputs": []
    },
    {
      "cell_type": "code",
      "source": [
        "a[:50]"
      ],
      "metadata": {
        "id": "ZQJPUmjzp6IH"
      },
      "execution_count": null,
      "outputs": []
    },
    {
      "cell_type": "code",
      "source": [
        "a = a.reset_index()"
      ],
      "metadata": {
        "id": "2rjCAOT1M1RL"
      },
      "execution_count": 84,
      "outputs": []
    },
    {
      "cell_type": "code",
      "source": [
        ""
      ],
      "metadata": {
        "colab": {
          "base_uri": "https://localhost:8080/",
          "height": 423
        },
        "id": "cH6kX7YBNsjq",
        "outputId": "77a061e8-13b7-487c-d5b9-e1521a63dfbe"
      },
      "execution_count": 90,
      "outputs": [
        {
          "output_type": "execute_result",
          "data": {
            "text/html": [
              "\n",
              "  <div id=\"df-43c77476-c349-42a2-8b3c-7df129fa2d68\">\n",
              "    <div class=\"colab-df-container\">\n",
              "      <div>\n",
              "<style scoped>\n",
              "    .dataframe tbody tr th:only-of-type {\n",
              "        vertical-align: middle;\n",
              "    }\n",
              "\n",
              "    .dataframe tbody tr th {\n",
              "        vertical-align: top;\n",
              "    }\n",
              "\n",
              "    .dataframe thead th {\n",
              "        text-align: right;\n",
              "    }\n",
              "</style>\n",
              "<table border=\"1\" class=\"dataframe\">\n",
              "  <thead>\n",
              "    <tr style=\"text-align: right;\">\n",
              "      <th></th>\n",
              "      <th>celeb</th>\n",
              "      <th>time</th>\n",
              "      <th>code</th>\n",
              "    </tr>\n",
              "  </thead>\n",
              "  <tbody>\n",
              "    <tr>\n",
              "      <th>0</th>\n",
              "      <td>CJSL</td>\n",
              "      <td>00:00</td>\n",
              "      <td>1</td>\n",
              "    </tr>\n",
              "    <tr>\n",
              "      <th>1</th>\n",
              "      <td>CJSL</td>\n",
              "      <td>00:01</td>\n",
              "      <td>4</td>\n",
              "    </tr>\n",
              "    <tr>\n",
              "      <th>2</th>\n",
              "      <td>CJSL</td>\n",
              "      <td>00:02</td>\n",
              "      <td>1</td>\n",
              "    </tr>\n",
              "    <tr>\n",
              "      <th>3</th>\n",
              "      <td>CJSL</td>\n",
              "      <td>00:05</td>\n",
              "      <td>3</td>\n",
              "    </tr>\n",
              "    <tr>\n",
              "      <th>4</th>\n",
              "      <td>CJSL</td>\n",
              "      <td>00:06</td>\n",
              "      <td>3</td>\n",
              "    </tr>\n",
              "    <tr>\n",
              "      <th>...</th>\n",
              "      <td>...</td>\n",
              "      <td>...</td>\n",
              "      <td>...</td>\n",
              "    </tr>\n",
              "    <tr>\n",
              "      <th>3885</th>\n",
              "      <td>XMSQ</td>\n",
              "      <td>23:54</td>\n",
              "      <td>1</td>\n",
              "    </tr>\n",
              "    <tr>\n",
              "      <th>3886</th>\n",
              "      <td>XMSQ</td>\n",
              "      <td>23:56</td>\n",
              "      <td>1</td>\n",
              "    </tr>\n",
              "    <tr>\n",
              "      <th>3887</th>\n",
              "      <td>XMSQ</td>\n",
              "      <td>23:57</td>\n",
              "      <td>1</td>\n",
              "    </tr>\n",
              "    <tr>\n",
              "      <th>3888</th>\n",
              "      <td>XMSQ</td>\n",
              "      <td>23:58</td>\n",
              "      <td>2</td>\n",
              "    </tr>\n",
              "    <tr>\n",
              "      <th>3889</th>\n",
              "      <td>XMSQ</td>\n",
              "      <td>23:59</td>\n",
              "      <td>7</td>\n",
              "    </tr>\n",
              "  </tbody>\n",
              "</table>\n",
              "<p>3890 rows × 3 columns</p>\n",
              "</div>\n",
              "      <button class=\"colab-df-convert\" onclick=\"convertToInteractive('df-43c77476-c349-42a2-8b3c-7df129fa2d68')\"\n",
              "              title=\"Convert this dataframe to an interactive table.\"\n",
              "              style=\"display:none;\">\n",
              "        \n",
              "  <svg xmlns=\"http://www.w3.org/2000/svg\" height=\"24px\"viewBox=\"0 0 24 24\"\n",
              "       width=\"24px\">\n",
              "    <path d=\"M0 0h24v24H0V0z\" fill=\"none\"/>\n",
              "    <path d=\"M18.56 5.44l.94 2.06.94-2.06 2.06-.94-2.06-.94-.94-2.06-.94 2.06-2.06.94zm-11 1L8.5 8.5l.94-2.06 2.06-.94-2.06-.94L8.5 2.5l-.94 2.06-2.06.94zm10 10l.94 2.06.94-2.06 2.06-.94-2.06-.94-.94-2.06-.94 2.06-2.06.94z\"/><path d=\"M17.41 7.96l-1.37-1.37c-.4-.4-.92-.59-1.43-.59-.52 0-1.04.2-1.43.59L10.3 9.45l-7.72 7.72c-.78.78-.78 2.05 0 2.83L4 21.41c.39.39.9.59 1.41.59.51 0 1.02-.2 1.41-.59l7.78-7.78 2.81-2.81c.8-.78.8-2.07 0-2.86zM5.41 20L4 18.59l7.72-7.72 1.47 1.35L5.41 20z\"/>\n",
              "  </svg>\n",
              "      </button>\n",
              "      \n",
              "  <style>\n",
              "    .colab-df-container {\n",
              "      display:flex;\n",
              "      flex-wrap:wrap;\n",
              "      gap: 12px;\n",
              "    }\n",
              "\n",
              "    .colab-df-convert {\n",
              "      background-color: #E8F0FE;\n",
              "      border: none;\n",
              "      border-radius: 50%;\n",
              "      cursor: pointer;\n",
              "      display: none;\n",
              "      fill: #1967D2;\n",
              "      height: 32px;\n",
              "      padding: 0 0 0 0;\n",
              "      width: 32px;\n",
              "    }\n",
              "\n",
              "    .colab-df-convert:hover {\n",
              "      background-color: #E2EBFA;\n",
              "      box-shadow: 0px 1px 2px rgba(60, 64, 67, 0.3), 0px 1px 3px 1px rgba(60, 64, 67, 0.15);\n",
              "      fill: #174EA6;\n",
              "    }\n",
              "\n",
              "    [theme=dark] .colab-df-convert {\n",
              "      background-color: #3B4455;\n",
              "      fill: #D2E3FC;\n",
              "    }\n",
              "\n",
              "    [theme=dark] .colab-df-convert:hover {\n",
              "      background-color: #434B5C;\n",
              "      box-shadow: 0px 1px 3px 1px rgba(0, 0, 0, 0.15);\n",
              "      filter: drop-shadow(0px 1px 2px rgba(0, 0, 0, 0.3));\n",
              "      fill: #FFFFFF;\n",
              "    }\n",
              "  </style>\n",
              "\n",
              "      <script>\n",
              "        const buttonEl =\n",
              "          document.querySelector('#df-43c77476-c349-42a2-8b3c-7df129fa2d68 button.colab-df-convert');\n",
              "        buttonEl.style.display =\n",
              "          google.colab.kernel.accessAllowed ? 'block' : 'none';\n",
              "\n",
              "        async function convertToInteractive(key) {\n",
              "          const element = document.querySelector('#df-43c77476-c349-42a2-8b3c-7df129fa2d68');\n",
              "          const dataTable =\n",
              "            await google.colab.kernel.invokeFunction('convertToInteractive',\n",
              "                                                     [key], {});\n",
              "          if (!dataTable) return;\n",
              "\n",
              "          const docLinkHtml = 'Like what you see? Visit the ' +\n",
              "            '<a target=\"_blank\" href=https://colab.research.google.com/notebooks/data_table.ipynb>data table notebook</a>'\n",
              "            + ' to learn more about interactive tables.';\n",
              "          element.innerHTML = '';\n",
              "          dataTable['output_type'] = 'display_data';\n",
              "          await google.colab.output.renderOutput(dataTable, element);\n",
              "          const docLink = document.createElement('div');\n",
              "          docLink.innerHTML = docLinkHtml;\n",
              "          element.appendChild(docLink);\n",
              "        }\n",
              "      </script>\n",
              "    </div>\n",
              "  </div>\n",
              "  "
            ],
            "text/plain": [
              "     celeb   time  code\n",
              "0     CJSL  00:00     1\n",
              "1     CJSL  00:01     4\n",
              "2     CJSL  00:02     1\n",
              "3     CJSL  00:05     3\n",
              "4     CJSL  00:06     3\n",
              "...    ...    ...   ...\n",
              "3885  XMSQ  23:54     1\n",
              "3886  XMSQ  23:56     1\n",
              "3887  XMSQ  23:57     1\n",
              "3888  XMSQ  23:58     2\n",
              "3889  XMSQ  23:59     7\n",
              "\n",
              "[3890 rows x 3 columns]"
            ]
          },
          "metadata": {},
          "execution_count": 90
        }
      ]
    },
    {
      "cell_type": "code",
      "source": [
        "for i in range(len(a)):\n",
        "  for j in range(24):\n",
        "    if int(a['time'][i][0:2]) == j:\n",
        "      a['time'][i] = j\n",
        "      break"
      ],
      "metadata": {
        "colab": {
          "base_uri": "https://localhost:8080/"
        },
        "id": "Yg2aNKFkWE2M",
        "outputId": "6fd2e5e1-fb06-4dd5-abce-268de7082ed8"
      },
      "execution_count": 109,
      "outputs": [
        {
          "output_type": "stream",
          "name": "stderr",
          "text": [
            "/usr/local/lib/python3.7/dist-packages/ipykernel_launcher.py:4: SettingWithCopyWarning: \n",
            "A value is trying to be set on a copy of a slice from a DataFrame\n",
            "\n",
            "See the caveats in the documentation: https://pandas.pydata.org/pandas-docs/stable/user_guide/indexing.html#returning-a-view-versus-a-copy\n",
            "  after removing the cwd from sys.path.\n"
          ]
        }
      ]
    },
    {
      "cell_type": "code",
      "source": [
        "time_sum_df = a.groupby(['time']).sum()"
      ],
      "metadata": {
        "id": "GgBUNi1EXT-X"
      },
      "execution_count": 116,
      "outputs": []
    },
    {
      "cell_type": "code",
      "source": [
        "sum_val = time_sum_df['code'].sum()"
      ],
      "metadata": {
        "id": "uCZ7kAd0XwpG"
      },
      "execution_count": 119,
      "outputs": []
    },
    {
      "cell_type": "code",
      "source": [
        "mean_val = time_sum_df['code'].mean()"
      ],
      "metadata": {
        "id": "GrWnMTDnaX7_"
      },
      "execution_count": 120,
      "outputs": []
    },
    {
      "cell_type": "code",
      "source": [
        "time_sum_df['deviation'] = time_sum_df['code'] - mean_val"
      ],
      "metadata": {
        "id": "aCmL4ExPaFmP"
      },
      "execution_count": 121,
      "outputs": []
    },
    {
      "cell_type": "code",
      "source": [
        "time_sum_df = time_sum_df.reset_index()"
      ],
      "metadata": {
        "id": "EkuWHUdHay2W"
      },
      "execution_count": 123,
      "outputs": []
    },
    {
      "cell_type": "code",
      "source": [
        "time_sum_df"
      ],
      "metadata": {
        "colab": {
          "base_uri": "https://localhost:8080/",
          "height": 802
        },
        "id": "FOrHMgzPbatT",
        "outputId": "60782731-675b-4da8-8dc5-a7910538c9e8"
      },
      "execution_count": 124,
      "outputs": [
        {
          "output_type": "execute_result",
          "data": {
            "text/html": [
              "\n",
              "  <div id=\"df-e95ffc2e-6fd9-4002-87d1-ca4964a8cf10\">\n",
              "    <div class=\"colab-df-container\">\n",
              "      <div>\n",
              "<style scoped>\n",
              "    .dataframe tbody tr th:only-of-type {\n",
              "        vertical-align: middle;\n",
              "    }\n",
              "\n",
              "    .dataframe tbody tr th {\n",
              "        vertical-align: top;\n",
              "    }\n",
              "\n",
              "    .dataframe thead th {\n",
              "        text-align: right;\n",
              "    }\n",
              "</style>\n",
              "<table border=\"1\" class=\"dataframe\">\n",
              "  <thead>\n",
              "    <tr style=\"text-align: right;\">\n",
              "      <th></th>\n",
              "      <th>time</th>\n",
              "      <th>code</th>\n",
              "      <th>deviation</th>\n",
              "    </tr>\n",
              "  </thead>\n",
              "  <tbody>\n",
              "    <tr>\n",
              "      <th>0</th>\n",
              "      <td>0</td>\n",
              "      <td>372</td>\n",
              "      <td>-57.041667</td>\n",
              "    </tr>\n",
              "    <tr>\n",
              "      <th>1</th>\n",
              "      <td>1</td>\n",
              "      <td>205</td>\n",
              "      <td>-224.041667</td>\n",
              "    </tr>\n",
              "    <tr>\n",
              "      <th>2</th>\n",
              "      <td>2</td>\n",
              "      <td>193</td>\n",
              "      <td>-236.041667</td>\n",
              "    </tr>\n",
              "    <tr>\n",
              "      <th>3</th>\n",
              "      <td>3</td>\n",
              "      <td>92</td>\n",
              "      <td>-337.041667</td>\n",
              "    </tr>\n",
              "    <tr>\n",
              "      <th>4</th>\n",
              "      <td>4</td>\n",
              "      <td>57</td>\n",
              "      <td>-372.041667</td>\n",
              "    </tr>\n",
              "    <tr>\n",
              "      <th>5</th>\n",
              "      <td>5</td>\n",
              "      <td>29</td>\n",
              "      <td>-400.041667</td>\n",
              "    </tr>\n",
              "    <tr>\n",
              "      <th>6</th>\n",
              "      <td>6</td>\n",
              "      <td>89</td>\n",
              "      <td>-340.041667</td>\n",
              "    </tr>\n",
              "    <tr>\n",
              "      <th>7</th>\n",
              "      <td>7</td>\n",
              "      <td>136</td>\n",
              "      <td>-293.041667</td>\n",
              "    </tr>\n",
              "    <tr>\n",
              "      <th>8</th>\n",
              "      <td>8</td>\n",
              "      <td>336</td>\n",
              "      <td>-93.041667</td>\n",
              "    </tr>\n",
              "    <tr>\n",
              "      <th>9</th>\n",
              "      <td>9</td>\n",
              "      <td>370</td>\n",
              "      <td>-59.041667</td>\n",
              "    </tr>\n",
              "    <tr>\n",
              "      <th>10</th>\n",
              "      <td>10</td>\n",
              "      <td>670</td>\n",
              "      <td>240.958333</td>\n",
              "    </tr>\n",
              "    <tr>\n",
              "      <th>11</th>\n",
              "      <td>11</td>\n",
              "      <td>798</td>\n",
              "      <td>368.958333</td>\n",
              "    </tr>\n",
              "    <tr>\n",
              "      <th>12</th>\n",
              "      <td>12</td>\n",
              "      <td>922</td>\n",
              "      <td>492.958333</td>\n",
              "    </tr>\n",
              "    <tr>\n",
              "      <th>13</th>\n",
              "      <td>13</td>\n",
              "      <td>598</td>\n",
              "      <td>168.958333</td>\n",
              "    </tr>\n",
              "    <tr>\n",
              "      <th>14</th>\n",
              "      <td>14</td>\n",
              "      <td>657</td>\n",
              "      <td>227.958333</td>\n",
              "    </tr>\n",
              "    <tr>\n",
              "      <th>15</th>\n",
              "      <td>15</td>\n",
              "      <td>681</td>\n",
              "      <td>251.958333</td>\n",
              "    </tr>\n",
              "    <tr>\n",
              "      <th>16</th>\n",
              "      <td>16</td>\n",
              "      <td>517</td>\n",
              "      <td>87.958333</td>\n",
              "    </tr>\n",
              "    <tr>\n",
              "      <th>17</th>\n",
              "      <td>17</td>\n",
              "      <td>568</td>\n",
              "      <td>138.958333</td>\n",
              "    </tr>\n",
              "    <tr>\n",
              "      <th>18</th>\n",
              "      <td>18</td>\n",
              "      <td>613</td>\n",
              "      <td>183.958333</td>\n",
              "    </tr>\n",
              "    <tr>\n",
              "      <th>19</th>\n",
              "      <td>19</td>\n",
              "      <td>512</td>\n",
              "      <td>82.958333</td>\n",
              "    </tr>\n",
              "    <tr>\n",
              "      <th>20</th>\n",
              "      <td>20</td>\n",
              "      <td>593</td>\n",
              "      <td>163.958333</td>\n",
              "    </tr>\n",
              "    <tr>\n",
              "      <th>21</th>\n",
              "      <td>21</td>\n",
              "      <td>631</td>\n",
              "      <td>201.958333</td>\n",
              "    </tr>\n",
              "    <tr>\n",
              "      <th>22</th>\n",
              "      <td>22</td>\n",
              "      <td>386</td>\n",
              "      <td>-43.041667</td>\n",
              "    </tr>\n",
              "    <tr>\n",
              "      <th>23</th>\n",
              "      <td>23</td>\n",
              "      <td>272</td>\n",
              "      <td>-157.041667</td>\n",
              "    </tr>\n",
              "  </tbody>\n",
              "</table>\n",
              "</div>\n",
              "      <button class=\"colab-df-convert\" onclick=\"convertToInteractive('df-e95ffc2e-6fd9-4002-87d1-ca4964a8cf10')\"\n",
              "              title=\"Convert this dataframe to an interactive table.\"\n",
              "              style=\"display:none;\">\n",
              "        \n",
              "  <svg xmlns=\"http://www.w3.org/2000/svg\" height=\"24px\"viewBox=\"0 0 24 24\"\n",
              "       width=\"24px\">\n",
              "    <path d=\"M0 0h24v24H0V0z\" fill=\"none\"/>\n",
              "    <path d=\"M18.56 5.44l.94 2.06.94-2.06 2.06-.94-2.06-.94-.94-2.06-.94 2.06-2.06.94zm-11 1L8.5 8.5l.94-2.06 2.06-.94-2.06-.94L8.5 2.5l-.94 2.06-2.06.94zm10 10l.94 2.06.94-2.06 2.06-.94-2.06-.94-.94-2.06-.94 2.06-2.06.94z\"/><path d=\"M17.41 7.96l-1.37-1.37c-.4-.4-.92-.59-1.43-.59-.52 0-1.04.2-1.43.59L10.3 9.45l-7.72 7.72c-.78.78-.78 2.05 0 2.83L4 21.41c.39.39.9.59 1.41.59.51 0 1.02-.2 1.41-.59l7.78-7.78 2.81-2.81c.8-.78.8-2.07 0-2.86zM5.41 20L4 18.59l7.72-7.72 1.47 1.35L5.41 20z\"/>\n",
              "  </svg>\n",
              "      </button>\n",
              "      \n",
              "  <style>\n",
              "    .colab-df-container {\n",
              "      display:flex;\n",
              "      flex-wrap:wrap;\n",
              "      gap: 12px;\n",
              "    }\n",
              "\n",
              "    .colab-df-convert {\n",
              "      background-color: #E8F0FE;\n",
              "      border: none;\n",
              "      border-radius: 50%;\n",
              "      cursor: pointer;\n",
              "      display: none;\n",
              "      fill: #1967D2;\n",
              "      height: 32px;\n",
              "      padding: 0 0 0 0;\n",
              "      width: 32px;\n",
              "    }\n",
              "\n",
              "    .colab-df-convert:hover {\n",
              "      background-color: #E2EBFA;\n",
              "      box-shadow: 0px 1px 2px rgba(60, 64, 67, 0.3), 0px 1px 3px 1px rgba(60, 64, 67, 0.15);\n",
              "      fill: #174EA6;\n",
              "    }\n",
              "\n",
              "    [theme=dark] .colab-df-convert {\n",
              "      background-color: #3B4455;\n",
              "      fill: #D2E3FC;\n",
              "    }\n",
              "\n",
              "    [theme=dark] .colab-df-convert:hover {\n",
              "      background-color: #434B5C;\n",
              "      box-shadow: 0px 1px 3px 1px rgba(0, 0, 0, 0.15);\n",
              "      filter: drop-shadow(0px 1px 2px rgba(0, 0, 0, 0.3));\n",
              "      fill: #FFFFFF;\n",
              "    }\n",
              "  </style>\n",
              "\n",
              "      <script>\n",
              "        const buttonEl =\n",
              "          document.querySelector('#df-e95ffc2e-6fd9-4002-87d1-ca4964a8cf10 button.colab-df-convert');\n",
              "        buttonEl.style.display =\n",
              "          google.colab.kernel.accessAllowed ? 'block' : 'none';\n",
              "\n",
              "        async function convertToInteractive(key) {\n",
              "          const element = document.querySelector('#df-e95ffc2e-6fd9-4002-87d1-ca4964a8cf10');\n",
              "          const dataTable =\n",
              "            await google.colab.kernel.invokeFunction('convertToInteractive',\n",
              "                                                     [key], {});\n",
              "          if (!dataTable) return;\n",
              "\n",
              "          const docLinkHtml = 'Like what you see? Visit the ' +\n",
              "            '<a target=\"_blank\" href=https://colab.research.google.com/notebooks/data_table.ipynb>data table notebook</a>'\n",
              "            + ' to learn more about interactive tables.';\n",
              "          element.innerHTML = '';\n",
              "          dataTable['output_type'] = 'display_data';\n",
              "          await google.colab.output.renderOutput(dataTable, element);\n",
              "          const docLink = document.createElement('div');\n",
              "          docLink.innerHTML = docLinkHtml;\n",
              "          element.appendChild(docLink);\n",
              "        }\n",
              "      </script>\n",
              "    </div>\n",
              "  </div>\n",
              "  "
            ],
            "text/plain": [
              "    time  code   deviation\n",
              "0      0   372  -57.041667\n",
              "1      1   205 -224.041667\n",
              "2      2   193 -236.041667\n",
              "3      3    92 -337.041667\n",
              "4      4    57 -372.041667\n",
              "5      5    29 -400.041667\n",
              "6      6    89 -340.041667\n",
              "7      7   136 -293.041667\n",
              "8      8   336  -93.041667\n",
              "9      9   370  -59.041667\n",
              "10    10   670  240.958333\n",
              "11    11   798  368.958333\n",
              "12    12   922  492.958333\n",
              "13    13   598  168.958333\n",
              "14    14   657  227.958333\n",
              "15    15   681  251.958333\n",
              "16    16   517   87.958333\n",
              "17    17   568  138.958333\n",
              "18    18   613  183.958333\n",
              "19    19   512   82.958333\n",
              "20    20   593  163.958333\n",
              "21    21   631  201.958333\n",
              "22    22   386  -43.041667\n",
              "23    23   272 -157.041667"
            ]
          },
          "metadata": {},
          "execution_count": 124
        }
      ]
    },
    {
      "cell_type": "code",
      "source": [
        "plt.figure(figsize=(13, 7))\n",
        "sns.set_style(\"darkgrid\")\n",
        "sns.set(font_scale = 2)\n",
        "sns.set_palette('rainbow')\n",
        "g_start = sns.barplot(data=data_start_yesno, x=\"celeb\", y=\"yes_persent\")\n",
        "g_start.set_title(\"셀럽이 먼저 대화를 시작한 비율 (오전 12시 기준)\")\n",
        "plt.rc('font', family='NanumBarunGothic') "
      ],
      "metadata": {
        "id": "twhqfbTobmB9"
      },
      "execution_count": null,
      "outputs": []
    },
    {
      "cell_type": "code",
      "source": [
        "time_sum_df['time'].values"
      ],
      "metadata": {
        "colab": {
          "base_uri": "https://localhost:8080/"
        },
        "id": "uJ3k34_tdDPf",
        "outputId": "17e5c04d-29d0-422c-a3af-4db297d6ef87"
      },
      "execution_count": 129,
      "outputs": [
        {
          "output_type": "execute_result",
          "data": {
            "text/plain": [
              "array([ 0,  1,  2,  3,  4,  5,  6,  7,  8,  9, 10, 11, 12, 13, 14, 15, 16,\n",
              "       17, 18, 19, 20, 21, 22, 23])"
            ]
          },
          "metadata": {},
          "execution_count": 129
        }
      ]
    },
    {
      "cell_type": "code",
      "source": [
        "plt.figure(figsize=(13, 7))\n",
        "time_lineplot = sns.lineplot(data=time_sum_df, x='time', y='deviation', markers='*')\n",
        "g_start.set_title(\"셀럽이 먼저 대화를 시작한 비율 (오전 12시 기준)\")\n",
        "\n",
        "https://zephyrus1111.tistory.com/21"
      ],
      "metadata": {
        "colab": {
          "base_uri": "https://localhost:8080/",
          "height": 545
        },
        "id": "KF-lpFMPcHq9",
        "outputId": "6f0bdbdc-4488-4cec-a3de-63573e8013dd"
      },
      "execution_count": 136,
      "outputs": [
        {
          "output_type": "stream",
          "name": "stderr",
          "text": [
            "/usr/local/lib/python3.7/dist-packages/matplotlib/backends/backend_agg.py:214: RuntimeWarning: Glyph 8722 missing from current font.\n",
            "  font.set_text(s, 0.0, flags=flags)\n",
            "/usr/local/lib/python3.7/dist-packages/matplotlib/backends/backend_agg.py:183: RuntimeWarning: Glyph 8722 missing from current font.\n",
            "  font.set_text(s, 0, flags=flags)\n"
          ]
        },
        {
          "output_type": "display_data",
          "data": {
            "image/png": "[encoded data removed]",
            "text/plain": [
              "<Figure size 936x504 with 1 Axes>"
            ]
          },
          "metadata": {}
        }
      ]
    },
    {
      "cell_type": "markdown",
      "source": [
        "- 보통 대화가 낮시간에 분포 한다는 것을 알수 있다. \n",
        "- 보통 방송이나, 여가는 밤에 즐기는데, 역시 간단하게 할 수 있는 메신저라는 장점을 살려서, 낮에 문자를 보내는 것이 좋은 것 같다."
      ],
      "metadata": {
        "id": "Ew18SAVha-9a"
      }
    },
    {
      "cell_type": "code",
      "source": [
        ""
      ],
      "metadata": {
        "id": "84P-Odxna8Do"
      },
      "execution_count": null,
      "outputs": []
    },
    {
      "cell_type": "markdown",
      "source": [
        "### () 시간의 흐름에 따른 셀럽의 말에 대한 팬의 응답률"
      ],
      "metadata": {
        "id": "nU2xTME22-7n"
      }
    },
    {
      "cell_type": "markdown",
      "source": [
        "### (4) 시간의 흐름에 따른 긍정도 변화 선그래프"
      ],
      "metadata": {
        "id": "SU33pT8o3BvG"
      }
    },
    {
      "cell_type": "code",
      "source": [
        ""
      ],
      "metadata": {
        "id": "OVhYb3pfOshV"
      },
      "execution_count": 23,
      "outputs": []
    },
    {
      "cell_type": "markdown",
      "source": [
        "## 상위 n퍼센트 외 나머지"
      ],
      "metadata": {
        "id": "DuvFErGy2sZr"
      }
    },
    {
      "cell_type": "markdown",
      "source": [
        "### 얼마를 낼 의향있소!의 비율과 만족도 (평균 점수, 점수 비율)"
      ],
      "metadata": {
        "id": "vmnAYgI91_IO"
      }
    },
    {
      "cell_type": "code",
      "source": [
        ""
      ],
      "metadata": {
        "id": "sbQzYDDIbNai"
      },
      "execution_count": null,
      "outputs": []
    }
  ]
}